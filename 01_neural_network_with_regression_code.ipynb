{
  "nbformat": 4,
  "nbformat_minor": 0,
  "metadata": {
    "colab": {
      "provenance": [],
      "mount_file_id": "1Dn6DWy7wEf7utu-xzaAXqfcO8J_GA9AO",
      "authorship_tag": "ABX9TyPqklw2CJQe7VCytOp0jwNF",
      "include_colab_link": true
    },
    "kernelspec": {
      "name": "python3",
      "display_name": "Python 3"
    },
    "language_info": {
      "name": "python"
    }
  },
  "cells": [
    {
      "cell_type": "markdown",
      "metadata": {
        "id": "view-in-github",
        "colab_type": "text"
      },
      "source": [
        "<a href=\"https://colab.research.google.com/github/swanny0000/ZTM-TensorFlow/blob/master/01_neural_network_with_regression_code.ipynb\" target=\"_parent\"><img src=\"https://colab.research.google.com/assets/colab-badge.svg\" alt=\"Open In Colab\"/></a>"
      ]
    },
    {
      "cell_type": "markdown",
      "source": [
        "# Intro to Regression with Neural Networks in Tensorflow\n",
        "\n",
        "Predicting numerical variable based on some other combination of variables"
      ],
      "metadata": {
        "id": "Ncutnw9PxLX3"
      }
    },
    {
      "cell_type": "code",
      "execution_count": null,
      "metadata": {
        "colab": {
          "base_uri": "https://localhost:8080/"
        },
        "id": "nSHzctkyxF6f",
        "outputId": "5d0f2a10-fd67-4b66-fe08-2bfa3bb5439c"
      },
      "outputs": [
        {
          "output_type": "stream",
          "name": "stdout",
          "text": [
            "2.14.0 [PhysicalDevice(name='/physical_device:CPU:0', device_type='CPU')]\n"
          ]
        }
      ],
      "source": [
        "#Import Tensorflow\n",
        "import tensorflow as tf\n",
        "print(tf.__version__, tf.config.list_physical_devices())"
      ]
    },
    {
      "cell_type": "code",
      "source": [
        "import numpy as np\n",
        "import matplotlib.pyplot as plt\n",
        "\n",
        "#create features\n",
        "X = np.array([-7.0, -4.0, -1.0, 2.0, 5.0, 8.0, 11.0, 14.0])\n",
        "\n",
        "#create labels\n",
        "y = np.array([3.0, 6.0, 9.0, 12.0, 15.0, 18.0, 21.0, 24.0])\n",
        "\n",
        "#visualize!\n",
        "plt.scatter(X, y)"
      ],
      "metadata": {
        "colab": {
          "base_uri": "https://localhost:8080/",
          "height": 452
        },
        "id": "MgpeFX2Bxo2A",
        "outputId": "1a443aa7-610b-48bc-d2c8-a4ebd5d31814"
      },
      "execution_count": null,
      "outputs": [
        {
          "output_type": "execute_result",
          "data": {
            "text/plain": [
              "<matplotlib.collections.PathCollection at 0x7f5255848880>"
            ]
          },
          "metadata": {},
          "execution_count": 5
        },
        {
          "output_type": "display_data",
          "data": {
            "text/plain": [
              "<Figure size 640x480 with 1 Axes>"
            ],
            "image/png": "[encoded data removed]"
          },
          "metadata": {}
        }
      ]
    },
    {
      "cell_type": "code",
      "source": [
        "y == X+10"
      ],
      "metadata": {
        "colab": {
          "base_uri": "https://localhost:8080/"
        },
        "id": "1GdMClMgxusa",
        "outputId": "ad6bee4c-a376-4da7-d0ce-3d5a2e268952"
      },
      "execution_count": null,
      "outputs": [
        {
          "output_type": "execute_result",
          "data": {
            "text/plain": [
              "array([ True,  True,  True,  True,  True,  True,  True,  True])"
            ]
          },
          "metadata": {},
          "execution_count": 6
        }
      ]
    },
    {
      "cell_type": "code",
      "source": [
        "#let's try to get our neural network to learn this!\n",
        "#input shape: 1 (since it's 1 value per \"test\")\n",
        "#output shape: 1 (one target value)"
      ],
      "metadata": {
        "id": "OTegNP0hyj74"
      },
      "execution_count": null,
      "outputs": []
    },
    {
      "cell_type": "code",
      "source": [
        "#but right now, our vector shapes aren't 1...\n",
        "X.shape, y.shape"
      ],
      "metadata": {
        "colab": {
          "base_uri": "https://localhost:8080/"
        },
        "id": "p5c2mo2-y4LX",
        "outputId": "8681840e-b81d-487c-a20f-4c7ba048fe5a"
      },
      "execution_count": null,
      "outputs": [
        {
          "output_type": "execute_result",
          "data": {
            "text/plain": [
              "((8,), (8,))"
            ]
          },
          "metadata": {},
          "execution_count": 8
        }
      ]
    },
    {
      "cell_type": "code",
      "source": [
        "#remember that scalars are technically 0 shape...\n",
        "X[0].shape, X[0].ndim"
      ],
      "metadata": {
        "colab": {
          "base_uri": "https://localhost:8080/"
        },
        "id": "z3FKbmlRzSs5",
        "outputId": "05d711ea-18b4-4c28-9627-31375fd50685"
      },
      "execution_count": null,
      "outputs": [
        {
          "output_type": "execute_result",
          "data": {
            "text/plain": [
              "((), 0)"
            ]
          },
          "metadata": {},
          "execution_count": 9
        }
      ]
    },
    {
      "cell_type": "code",
      "source": [
        "#Turn out arrays into tensors\n",
        "X = tf.constant(X)\n",
        "y = tf.constant(y)\n",
        "X, y"
      ],
      "metadata": {
        "colab": {
          "base_uri": "https://localhost:8080/"
        },
        "id": "r4LVM0Gcz_8N",
        "outputId": "feddda28-3c7f-42f6-cfc8-645f44d1cfc9"
      },
      "execution_count": null,
      "outputs": [
        {
          "output_type": "execute_result",
          "data": {
            "text/plain": [
              "(<tf.Tensor: shape=(8,), dtype=float64, numpy=array([-7., -4., -1.,  2.,  5.,  8., 11., 14.])>,\n",
              " <tf.Tensor: shape=(8,), dtype=float64, numpy=array([ 3.,  6.,  9., 12., 15., 18., 21., 24.])>)"
            ]
          },
          "metadata": {},
          "execution_count": 10
        }
      ]
    },
    {
      "cell_type": "markdown",
      "source": [
        "## Steps in tensorflow\n",
        "1. **Create a model** - define input, output, and hidden layers\n",
        "2. **Compile the model** - define the loss funciton, the optimizer, and evaluation metrics\n",
        "3. **Fit the model** - run the model over training data\n",
        "4. **Evaluate the model** - run the model on testing data to confirm training"
      ],
      "metadata": {
        "id": "QzJdz0aD1mu3"
      }
    },
    {
      "cell_type": "code",
      "source": [
        "tf.random.set_seed(42)\n",
        "\n",
        "#1. create the model\n",
        "model = tf.keras.Sequential([\n",
        "  tf.keras.layers.Dense(1)\n",
        "])\n",
        "\n",
        "#2. compile the model\n",
        "model.compile(\n",
        "  loss=tf.keras.losses.mae,\n",
        "  optimizer=tf.keras.optimizers.SGD(),\n",
        "  metrics=[\"mae\"]\n",
        ")\n",
        "\n",
        "#3. fit the model\n",
        "model.fit(tf.expand_dims(X, axis=1), y, epochs=5) #epochs are how many times to iterate when training the model"
      ],
      "metadata": {
        "colab": {
          "base_uri": "https://localhost:8080/"
        },
        "id": "Ce3ivCwi0Ke0",
        "outputId": "5c4f1bb3-2efc-4402-92c4-54151fc1752f"
      },
      "execution_count": null,
      "outputs": [
        {
          "output_type": "stream",
          "name": "stdout",
          "text": [
            "Epoch 1/5\n",
            "1/1 [==============================] - 0s 472ms/step - loss: 17.8824 - mae: 17.8824\n",
            "Epoch 2/5\n",
            "1/1 [==============================] - 0s 14ms/step - loss: 17.6012 - mae: 17.6012\n",
            "Epoch 3/5\n",
            "1/1 [==============================] - 0s 9ms/step - loss: 17.3199 - mae: 17.3199\n",
            "Epoch 4/5\n",
            "1/1 [==============================] - 0s 7ms/step - loss: 17.0387 - mae: 17.0387\n",
            "Epoch 5/5\n",
            "1/1 [==============================] - 0s 9ms/step - loss: 16.7574 - mae: 16.7574\n"
          ]
        },
        {
          "output_type": "execute_result",
          "data": {
            "text/plain": [
              "<keras.src.callbacks.History at 0x7f52505cf760>"
            ]
          },
          "metadata": {},
          "execution_count": 11
        }
      ]
    },
    {
      "cell_type": "code",
      "source": [
        "# check out X and y in our trained model!\n",
        "model.predict([17.0]) #we know that this should be 27"
      ],
      "metadata": {
        "colab": {
          "base_uri": "https://localhost:8080/"
        },
        "id": "gCenLyZ64Tel",
        "outputId": "c7b6ce45-f2a3-431f-ec89-cc4123ec5db5"
      },
      "execution_count": null,
      "outputs": [
        {
          "output_type": "stream",
          "name": "stdout",
          "text": [
            "1/1 [==============================] - 0s 164ms/step\n"
          ]
        },
        {
          "output_type": "execute_result",
          "data": {
            "text/plain": [
              "array([[-12.119211]], dtype=float32)"
            ]
          },
          "metadata": {},
          "execution_count": 12
        }
      ]
    },
    {
      "cell_type": "markdown",
      "source": [
        "On average, our model is ~10.4 points wrong! how can we improve our model?\n",
        "## Improving a model\n",
        "1. **Creating a model** - add more layers, increase number of hidden neurons, change the activation function of each layer\n",
        "2. **Compiling a model** - change the optimization function (try to make it learn faster, with bigger jumps)\n",
        "3. **Fitting a model** - use more epochs to let it train for longer, or give it more training data to learn from"
      ],
      "metadata": {
        "id": "7WtdWoc66HSZ"
      }
    },
    {
      "cell_type": "code",
      "source": [
        "'''\n",
        "#let's compare to a larger model\n",
        "\n",
        "#1. create the model - more hidden layers, change the activation function\n",
        "model_large = tf.keras.Sequential()\n",
        "model_large.add(tf.keras.layers.Dense(100, activation=\"relu\"))\n",
        "model_large.add(tf.keras.layers.Dense(100, activation=\"relu\"))\n",
        "model_large.add(tf.keras.layers.Dense(100, activation=\"relu\"))\n",
        "model_large.add(tf.keras.layers.Dense(1))\n",
        "\n",
        "#2. compile the model - control over the optimization function and learning rate\n",
        "model_large.compile(\n",
        "    loss=tf.keras.losses.mae,\n",
        "    optimizer=tf.keras.optimizers.Adam(lr=0.0001),\n",
        "    metrics=[\"mae\"]\n",
        ")\n",
        "\n",
        "#3. fit the model - more epochs\n",
        "# we can start training with a smaller subset to train faster, and then train with a larger training subsets\n",
        "model_large.fit(X_train_full, y_train_full, epochs=100)\n",
        "'''"
      ],
      "metadata": {
        "id": "4jlgx-Kn85Bl",
        "colab": {
          "base_uri": "https://localhost:8080/",
          "height": 122
        },
        "outputId": "c591d28a-91b1-4323-a3bb-49e3d68ea021"
      },
      "execution_count": null,
      "outputs": [
        {
          "output_type": "execute_result",
          "data": {
            "text/plain": [
              "'\\n#let\\'s compare to a larger model\\n\\n#1. create the model - more hidden layers, change the activation function\\nmodel_large = tf.keras.Sequential()\\nmodel_large.add(tf.keras.layers.Dense(100, activation=\"relu\"))\\nmodel_large.add(tf.keras.layers.Dense(100, activation=\"relu\"))\\nmodel_large.add(tf.keras.layers.Dense(100, activation=\"relu\"))\\nmodel_large.add(tf.keras.layers.Dense(1))\\n\\n#2. compile the model - control over the optimization function and learning rate\\nmodel_large.compile(\\n    loss=tf.keras.losses.mae,\\n    optimizer=tf.keras.optimizers.Adam(lr=0.0001),\\n    metrics=[\"mae\"]\\n)\\n\\n#3. fit the model - more epochs\\n# we can start training with a smaller subset to train faster, and then train with a larger training subsets\\nmodel_large.fit(X_train_full, y_train_full, epochs=100)\\n'"
            ],
            "application/vnd.google.colaboratory.intrinsic+json": {
              "type": "string"
            }
          },
          "metadata": {},
          "execution_count": 13
        }
      ]
    },
    {
      "cell_type": "code",
      "source": [
        "#what is we just ran the above model with more epochs?\n",
        "model.fit(tf.expand_dims(X, axis=1), y, epochs=100)"
      ],
      "metadata": {
        "colab": {
          "base_uri": "https://localhost:8080/"
        },
        "id": "nli9NvFJ8O1X",
        "outputId": "df52ac6f-f326-469d-db57-ae2a3816d016"
      },
      "execution_count": null,
      "outputs": [
        {
          "output_type": "stream",
          "name": "stdout",
          "text": [
            "Epoch 1/100\n",
            "1/1 [==============================] - 0s 17ms/step - loss: 16.4762 - mae: 16.4762\n",
            "Epoch 2/100\n",
            "1/1 [==============================] - 0s 16ms/step - loss: 16.1949 - mae: 16.1949\n",
            "Epoch 3/100\n",
            "1/1 [==============================] - 0s 18ms/step - loss: 15.9137 - mae: 15.9137\n",
            "Epoch 4/100\n",
            "1/1 [==============================] - 0s 9ms/step - loss: 15.6324 - mae: 15.6324\n",
            "Epoch 5/100\n",
            "1/1 [==============================] - 0s 13ms/step - loss: 15.3512 - mae: 15.3512\n",
            "Epoch 6/100\n",
            "1/1 [==============================] - 0s 12ms/step - loss: 15.0699 - mae: 15.0699\n",
            "Epoch 7/100\n",
            "1/1 [==============================] - 0s 13ms/step - loss: 14.8179 - mae: 14.8179\n",
            "Epoch 8/100\n",
            "1/1 [==============================] - 0s 14ms/step - loss: 14.6854 - mae: 14.6854\n",
            "Epoch 9/100\n",
            "1/1 [==============================] - 0s 12ms/step - loss: 14.5529 - mae: 14.5529\n",
            "Epoch 10/100\n",
            "1/1 [==============================] - 0s 9ms/step - loss: 14.4204 - mae: 14.4204\n",
            "Epoch 11/100\n",
            "1/1 [==============================] - 0s 9ms/step - loss: 14.2879 - mae: 14.2879\n",
            "Epoch 12/100\n",
            "1/1 [==============================] - 0s 9ms/step - loss: 14.1554 - mae: 14.1554\n",
            "Epoch 13/100\n",
            "1/1 [==============================] - 0s 9ms/step - loss: 14.0229 - mae: 14.0229\n",
            "Epoch 14/100\n",
            "1/1 [==============================] - 0s 9ms/step - loss: 13.8904 - mae: 13.8904\n",
            "Epoch 15/100\n",
            "1/1 [==============================] - 0s 12ms/step - loss: 13.7579 - mae: 13.7579\n",
            "Epoch 16/100\n",
            "1/1 [==============================] - 0s 8ms/step - loss: 13.6254 - mae: 13.6254\n",
            "Epoch 17/100\n",
            "1/1 [==============================] - 0s 9ms/step - loss: 13.4929 - mae: 13.4929\n",
            "Epoch 18/100\n",
            "1/1 [==============================] - 0s 9ms/step - loss: 13.3604 - mae: 13.3604\n",
            "Epoch 19/100\n",
            "1/1 [==============================] - 0s 10ms/step - loss: 13.2279 - mae: 13.2279\n",
            "Epoch 20/100\n",
            "1/1 [==============================] - 0s 9ms/step - loss: 13.0954 - mae: 13.0954\n",
            "Epoch 21/100\n",
            "1/1 [==============================] - 0s 9ms/step - loss: 12.9629 - mae: 12.9629\n",
            "Epoch 22/100\n",
            "1/1 [==============================] - 0s 8ms/step - loss: 12.8304 - mae: 12.8304\n",
            "Epoch 23/100\n",
            "1/1 [==============================] - 0s 10ms/step - loss: 12.6979 - mae: 12.6979\n",
            "Epoch 24/100\n",
            "1/1 [==============================] - 0s 9ms/step - loss: 12.5654 - mae: 12.5654\n",
            "Epoch 25/100\n",
            "1/1 [==============================] - 0s 9ms/step - loss: 12.4329 - mae: 12.4329\n",
            "Epoch 26/100\n",
            "1/1 [==============================] - 0s 9ms/step - loss: 12.3004 - mae: 12.3004\n",
            "Epoch 27/100\n",
            "1/1 [==============================] - 0s 9ms/step - loss: 12.1679 - mae: 12.1679\n",
            "Epoch 28/100\n",
            "1/1 [==============================] - 0s 9ms/step - loss: 12.0354 - mae: 12.0354\n",
            "Epoch 29/100\n",
            "1/1 [==============================] - 0s 10ms/step - loss: 11.9029 - mae: 11.9029\n",
            "Epoch 30/100\n",
            "1/1 [==============================] - 0s 7ms/step - loss: 11.7704 - mae: 11.7704\n",
            "Epoch 31/100\n",
            "1/1 [==============================] - 0s 9ms/step - loss: 11.6379 - mae: 11.6379\n",
            "Epoch 32/100\n",
            "1/1 [==============================] - 0s 11ms/step - loss: 11.5054 - mae: 11.5054\n",
            "Epoch 33/100\n",
            "1/1 [==============================] - 0s 9ms/step - loss: 11.3729 - mae: 11.3729\n",
            "Epoch 34/100\n",
            "1/1 [==============================] - 0s 12ms/step - loss: 11.2404 - mae: 11.2404\n",
            "Epoch 35/100\n",
            "1/1 [==============================] - 0s 9ms/step - loss: 11.1079 - mae: 11.1079\n",
            "Epoch 36/100\n",
            "1/1 [==============================] - 0s 9ms/step - loss: 10.9754 - mae: 10.9754\n",
            "Epoch 37/100\n",
            "1/1 [==============================] - 0s 8ms/step - loss: 10.8429 - mae: 10.8429\n",
            "Epoch 38/100\n",
            "1/1 [==============================] - 0s 8ms/step - loss: 10.7104 - mae: 10.7104\n",
            "Epoch 39/100\n",
            "1/1 [==============================] - 0s 9ms/step - loss: 10.5779 - mae: 10.5779\n",
            "Epoch 40/100\n",
            "1/1 [==============================] - 0s 10ms/step - loss: 10.4454 - mae: 10.4454\n",
            "Epoch 41/100\n",
            "1/1 [==============================] - 0s 9ms/step - loss: 10.3129 - mae: 10.3129\n",
            "Epoch 42/100\n",
            "1/1 [==============================] - 0s 7ms/step - loss: 10.1804 - mae: 10.1804\n",
            "Epoch 43/100\n",
            "1/1 [==============================] - 0s 8ms/step - loss: 10.0479 - mae: 10.0479\n",
            "Epoch 44/100\n",
            "1/1 [==============================] - 0s 12ms/step - loss: 9.9154 - mae: 9.9154\n",
            "Epoch 45/100\n",
            "1/1 [==============================] - 0s 10ms/step - loss: 9.7829 - mae: 9.7829\n",
            "Epoch 46/100\n",
            "1/1 [==============================] - 0s 8ms/step - loss: 9.6504 - mae: 9.6504\n",
            "Epoch 47/100\n",
            "1/1 [==============================] - 0s 8ms/step - loss: 9.5179 - mae: 9.5179\n",
            "Epoch 48/100\n",
            "1/1 [==============================] - 0s 9ms/step - loss: 9.3854 - mae: 9.3854\n",
            "Epoch 49/100\n",
            "1/1 [==============================] - 0s 9ms/step - loss: 9.2529 - mae: 9.2529\n",
            "Epoch 50/100\n",
            "1/1 [==============================] - 0s 9ms/step - loss: 9.1204 - mae: 9.1204\n",
            "Epoch 51/100\n",
            "1/1 [==============================] - 0s 9ms/step - loss: 8.9879 - mae: 8.9879\n",
            "Epoch 52/100\n",
            "1/1 [==============================] - 0s 9ms/step - loss: 8.8554 - mae: 8.8554\n",
            "Epoch 53/100\n",
            "1/1 [==============================] - 0s 10ms/step - loss: 8.7229 - mae: 8.7229\n",
            "Epoch 54/100\n",
            "1/1 [==============================] - 0s 13ms/step - loss: 8.5904 - mae: 8.5904\n",
            "Epoch 55/100\n",
            "1/1 [==============================] - 0s 10ms/step - loss: 8.4579 - mae: 8.4579\n",
            "Epoch 56/100\n",
            "1/1 [==============================] - 0s 15ms/step - loss: 8.3254 - mae: 8.3254\n",
            "Epoch 57/100\n",
            "1/1 [==============================] - 0s 13ms/step - loss: 8.1929 - mae: 8.1929\n",
            "Epoch 58/100\n",
            "1/1 [==============================] - 0s 11ms/step - loss: 8.0604 - mae: 8.0604\n",
            "Epoch 59/100\n",
            "1/1 [==============================] - 0s 14ms/step - loss: 7.9279 - mae: 7.9279\n",
            "Epoch 60/100\n",
            "1/1 [==============================] - 0s 12ms/step - loss: 7.7954 - mae: 7.7954\n",
            "Epoch 61/100\n",
            "1/1 [==============================] - 0s 11ms/step - loss: 7.6629 - mae: 7.6629\n",
            "Epoch 62/100\n",
            "1/1 [==============================] - 0s 12ms/step - loss: 7.5304 - mae: 7.5304\n",
            "Epoch 63/100\n",
            "1/1 [==============================] - 0s 15ms/step - loss: 7.3979 - mae: 7.3979\n",
            "Epoch 64/100\n",
            "1/1 [==============================] - 0s 9ms/step - loss: 7.2654 - mae: 7.2654\n",
            "Epoch 65/100\n",
            "1/1 [==============================] - 0s 10ms/step - loss: 7.1329 - mae: 7.1329\n",
            "Epoch 66/100\n",
            "1/1 [==============================] - 0s 10ms/step - loss: 7.0004 - mae: 7.0004\n",
            "Epoch 67/100\n",
            "1/1 [==============================] - 0s 8ms/step - loss: 6.9881 - mae: 6.9881\n",
            "Epoch 68/100\n",
            "1/1 [==============================] - 0s 9ms/step - loss: 6.9825 - mae: 6.9825\n",
            "Epoch 69/100\n",
            "1/1 [==============================] - 0s 12ms/step - loss: 6.9769 - mae: 6.9769\n",
            "Epoch 70/100\n",
            "1/1 [==============================] - 0s 10ms/step - loss: 6.9713 - mae: 6.9713\n",
            "Epoch 71/100\n",
            "1/1 [==============================] - 0s 9ms/step - loss: 6.9656 - mae: 6.9656\n",
            "Epoch 72/100\n",
            "1/1 [==============================] - 0s 9ms/step - loss: 6.9600 - mae: 6.9600\n",
            "Epoch 73/100\n",
            "1/1 [==============================] - 0s 8ms/step - loss: 6.9544 - mae: 6.9544\n",
            "Epoch 74/100\n",
            "1/1 [==============================] - 0s 9ms/step - loss: 6.9488 - mae: 6.9488\n",
            "Epoch 75/100\n",
            "1/1 [==============================] - 0s 9ms/step - loss: 6.9431 - mae: 6.9431\n",
            "Epoch 76/100\n",
            "1/1 [==============================] - 0s 10ms/step - loss: 6.9375 - mae: 6.9375\n",
            "Epoch 77/100\n",
            "1/1 [==============================] - 0s 9ms/step - loss: 6.9319 - mae: 6.9319\n",
            "Epoch 78/100\n",
            "1/1 [==============================] - 0s 9ms/step - loss: 6.9263 - mae: 6.9263\n",
            "Epoch 79/100\n",
            "1/1 [==============================] - 0s 9ms/step - loss: 6.9206 - mae: 6.9206\n",
            "Epoch 80/100\n",
            "1/1 [==============================] - 0s 8ms/step - loss: 6.9150 - mae: 6.9150\n",
            "Epoch 81/100\n",
            "1/1 [==============================] - 0s 8ms/step - loss: 6.9094 - mae: 6.9094\n",
            "Epoch 82/100\n",
            "1/1 [==============================] - 0s 9ms/step - loss: 6.9038 - mae: 6.9038\n",
            "Epoch 83/100\n",
            "1/1 [==============================] - 0s 10ms/step - loss: 6.8981 - mae: 6.8981\n",
            "Epoch 84/100\n",
            "1/1 [==============================] - 0s 7ms/step - loss: 6.8925 - mae: 6.8925\n",
            "Epoch 85/100\n",
            "1/1 [==============================] - 0s 9ms/step - loss: 6.8869 - mae: 6.8869\n",
            "Epoch 86/100\n",
            "1/1 [==============================] - 0s 14ms/step - loss: 6.8813 - mae: 6.8813\n",
            "Epoch 87/100\n",
            "1/1 [==============================] - 0s 9ms/step - loss: 6.8756 - mae: 6.8756\n",
            "Epoch 88/100\n",
            "1/1 [==============================] - 0s 9ms/step - loss: 6.8700 - mae: 6.8700\n",
            "Epoch 89/100\n",
            "1/1 [==============================] - 0s 9ms/step - loss: 6.8644 - mae: 6.8644\n",
            "Epoch 90/100\n",
            "1/1 [==============================] - 0s 8ms/step - loss: 6.8588 - mae: 6.8588\n",
            "Epoch 91/100\n",
            "1/1 [==============================] - 0s 9ms/step - loss: 6.8531 - mae: 6.8531\n",
            "Epoch 92/100\n",
            "1/1 [==============================] - 0s 9ms/step - loss: 6.8475 - mae: 6.8475\n",
            "Epoch 93/100\n",
            "1/1 [==============================] - 0s 9ms/step - loss: 6.8419 - mae: 6.8419\n",
            "Epoch 94/100\n",
            "1/1 [==============================] - 0s 10ms/step - loss: 6.8363 - mae: 6.8363\n",
            "Epoch 95/100\n",
            "1/1 [==============================] - 0s 12ms/step - loss: 6.8306 - mae: 6.8306\n",
            "Epoch 96/100\n",
            "1/1 [==============================] - 0s 10ms/step - loss: 6.8250 - mae: 6.8250\n",
            "Epoch 97/100\n",
            "1/1 [==============================] - 0s 9ms/step - loss: 6.8194 - mae: 6.8194\n",
            "Epoch 98/100\n",
            "1/1 [==============================] - 0s 10ms/step - loss: 6.8138 - mae: 6.8138\n",
            "Epoch 99/100\n",
            "1/1 [==============================] - 0s 9ms/step - loss: 6.8081 - mae: 6.8081\n",
            "Epoch 100/100\n",
            "1/1 [==============================] - 0s 8ms/step - loss: 6.8025 - mae: 6.8025\n"
          ]
        },
        {
          "output_type": "execute_result",
          "data": {
            "text/plain": [
              "<keras.src.callbacks.History at 0x7f52502c7490>"
            ]
          },
          "metadata": {},
          "execution_count": 14
        }
      ]
    },
    {
      "cell_type": "code",
      "source": [
        "print(X, y)\n",
        "print(model.predict([17])) #should be 27..."
      ],
      "metadata": {
        "colab": {
          "base_uri": "https://localhost:8080/"
        },
        "id": "9QwValsq8jZx",
        "outputId": "4cc48a76-534b-4cc1-cad2-609db660e8c5"
      },
      "execution_count": null,
      "outputs": [
        {
          "output_type": "stream",
          "name": "stdout",
          "text": [
            "tf.Tensor([-7. -4. -1.  2.  5.  8. 11. 14.], shape=(8,), dtype=float64) tf.Tensor([ 3.  6.  9. 12. 15. 18. 21. 24.], shape=(8,), dtype=float64)\n",
            "1/1 [==============================] - 0s 59ms/step\n",
            "[[29.835785]]\n"
          ]
        }
      ]
    },
    {
      "cell_type": "code",
      "source": [
        "#can we make it better?\n",
        "tf.random.set_seed(42)\n",
        "\n",
        "#1. create the model\n",
        "model = tf.keras.Sequential()\n",
        "model.add(tf.keras.layers.Dense(10, activation=\"relu\"))\n",
        "model.add(tf.keras.layers.Dense(10, activation=\"relu\"))\n",
        "model.add(tf.keras.layers.Dense(1))\n",
        "\n",
        "#2. compile the model\n",
        "model.compile(\n",
        "  loss=tf.keras.losses.mae,\n",
        "  optimizer=tf.keras.optimizers.SGD(),\n",
        "  metrics=[\"mae\"]\n",
        ")\n",
        "\n",
        "#3. fit the model\n",
        "model.fit(tf.expand_dims(X, axis=1), y, epochs=25) #epochs are how many times to iterate when training the model"
      ],
      "metadata": {
        "colab": {
          "base_uri": "https://localhost:8080/"
        },
        "id": "j4tpo90O5IXU",
        "outputId": "63d686bb-4c04-4fba-d8a1-20f1e29bd7d1"
      },
      "execution_count": null,
      "outputs": [
        {
          "output_type": "stream",
          "name": "stdout",
          "text": [
            "Epoch 1/25\n",
            "1/1 [==============================] - 1s 516ms/step - loss: 12.7052 - mae: 12.7052\n",
            "Epoch 2/25\n",
            "1/1 [==============================] - 0s 9ms/step - loss: 12.3937 - mae: 12.3937\n",
            "Epoch 3/25\n",
            "1/1 [==============================] - 0s 11ms/step - loss: 12.0572 - mae: 12.0572\n",
            "Epoch 4/25\n",
            "1/1 [==============================] - 0s 10ms/step - loss: 11.6859 - mae: 11.6859\n",
            "Epoch 5/25\n",
            "1/1 [==============================] - 0s 14ms/step - loss: 11.2705 - mae: 11.2705\n",
            "Epoch 6/25\n",
            "1/1 [==============================] - 0s 10ms/step - loss: 10.7997 - mae: 10.7997\n",
            "Epoch 7/25\n",
            "1/1 [==============================] - 0s 12ms/step - loss: 10.2596 - mae: 10.2596\n",
            "Epoch 8/25\n",
            "1/1 [==============================] - 0s 10ms/step - loss: 9.6446 - mae: 9.6446\n",
            "Epoch 9/25\n",
            "1/1 [==============================] - 0s 9ms/step - loss: 8.9485 - mae: 8.9485\n",
            "Epoch 10/25\n",
            "1/1 [==============================] - 0s 11ms/step - loss: 8.2004 - mae: 8.2004\n",
            "Epoch 11/25\n",
            "1/1 [==============================] - 0s 15ms/step - loss: 7.3360 - mae: 7.3360\n",
            "Epoch 12/25\n",
            "1/1 [==============================] - 0s 12ms/step - loss: 6.2581 - mae: 6.2581\n",
            "Epoch 13/25\n",
            "1/1 [==============================] - 0s 11ms/step - loss: 4.9829 - mae: 4.9829\n",
            "Epoch 14/25\n",
            "1/1 [==============================] - 0s 11ms/step - loss: 3.9290 - mae: 3.9290\n",
            "Epoch 15/25\n",
            "1/1 [==============================] - 0s 12ms/step - loss: 3.9451 - mae: 3.9451\n",
            "Epoch 16/25\n",
            "1/1 [==============================] - 0s 10ms/step - loss: 3.8846 - mae: 3.8846\n",
            "Epoch 17/25\n",
            "1/1 [==============================] - 0s 10ms/step - loss: 3.9505 - mae: 3.9505\n",
            "Epoch 18/25\n",
            "1/1 [==============================] - 0s 9ms/step - loss: 3.8393 - mae: 3.8393\n",
            "Epoch 19/25\n",
            "1/1 [==============================] - 0s 10ms/step - loss: 3.9566 - mae: 3.9566\n",
            "Epoch 20/25\n",
            "1/1 [==============================] - 0s 9ms/step - loss: 3.8284 - mae: 3.8284\n",
            "Epoch 21/25\n",
            "1/1 [==============================] - 0s 10ms/step - loss: 3.9237 - mae: 3.9237\n",
            "Epoch 22/25\n",
            "1/1 [==============================] - 0s 9ms/step - loss: 3.8344 - mae: 3.8344\n",
            "Epoch 23/25\n",
            "1/1 [==============================] - 0s 9ms/step - loss: 3.8784 - mae: 3.8784\n",
            "Epoch 24/25\n",
            "1/1 [==============================] - 0s 9ms/step - loss: 3.8411 - mae: 3.8411\n",
            "Epoch 25/25\n",
            "1/1 [==============================] - 0s 13ms/step - loss: 3.8349 - mae: 3.8349\n"
          ]
        },
        {
          "output_type": "execute_result",
          "data": {
            "text/plain": [
              "<keras.src.callbacks.History at 0x7f525030d9c0>"
            ]
          },
          "metadata": {},
          "execution_count": 16
        }
      ]
    },
    {
      "cell_type": "code",
      "source": [
        "#why is the mae bouncing up and down? too big of learning rate, or our model is overfitting\n",
        "#also, metrics from training isn't always what you'll see in the real world, too\n",
        "model.predict([17]) #should be 27"
      ],
      "metadata": {
        "colab": {
          "base_uri": "https://localhost:8080/"
        },
        "id": "_fbHpbc_5YTK",
        "outputId": "a8ffdacf-ccc4-4b4e-9484-35ada688aeb9"
      },
      "execution_count": null,
      "outputs": [
        {
          "output_type": "stream",
          "name": "stdout",
          "text": [
            "1/1 [==============================] - 0s 76ms/step\n"
          ]
        },
        {
          "output_type": "execute_result",
          "data": {
            "text/plain": [
              "array([[33.52287]], dtype=float32)"
            ]
          },
          "metadata": {},
          "execution_count": 17
        }
      ]
    },
    {
      "cell_type": "code",
      "source": [
        "#Learning rate is the most important parameter, often\n",
        "tf.random.set_seed(42)\n",
        "\n",
        "#1. create the model\n",
        "model = tf.keras.Sequential()\n",
        "model.add(tf.keras.layers.Dense(10, activation=\"relu\"))\n",
        "model.add(tf.keras.layers.Dense(10, activation=\"relu\"))\n",
        "model.add(tf.keras.layers.Dense(1))\n",
        "\n",
        "#2. compile the model\n",
        "model.compile(\n",
        "  loss=tf.keras.losses.mae,\n",
        "  optimizer=tf.keras.optimizers.Adam(learning_rate=.01),\n",
        "  metrics=[\"mae\"]\n",
        ")\n",
        "\n",
        "#3. fit the model\n",
        "model.fit(tf.expand_dims(X, axis=1), y, epochs=100) #epochs are how many times to iterate when training the model"
      ],
      "metadata": {
        "colab": {
          "base_uri": "https://localhost:8080/"
        },
        "id": "Wr918P8t--Lw",
        "outputId": "c4024e35-5676-4c8c-c3a3-0b36743b3409"
      },
      "execution_count": null,
      "outputs": [
        {
          "output_type": "stream",
          "name": "stdout",
          "text": [
            "Epoch 1/100\n",
            "1/1 [==============================] - 1s 707ms/step - loss: 11.1329 - mae: 11.1329\n",
            "Epoch 2/100\n",
            "1/1 [==============================] - 0s 8ms/step - loss: 10.5831 - mae: 10.5831\n",
            "Epoch 3/100\n",
            "1/1 [==============================] - 0s 9ms/step - loss: 10.0126 - mae: 10.0126\n",
            "Epoch 4/100\n",
            "1/1 [==============================] - 0s 9ms/step - loss: 9.4385 - mae: 9.4385\n",
            "Epoch 5/100\n",
            "1/1 [==============================] - 0s 9ms/step - loss: 8.9498 - mae: 8.9498\n",
            "Epoch 6/100\n",
            "1/1 [==============================] - 0s 9ms/step - loss: 8.4540 - mae: 8.4540\n",
            "Epoch 7/100\n",
            "1/1 [==============================] - 0s 8ms/step - loss: 7.9366 - mae: 7.9366\n",
            "Epoch 8/100\n",
            "1/1 [==============================] - 0s 9ms/step - loss: 7.3940 - mae: 7.3940\n",
            "Epoch 9/100\n",
            "1/1 [==============================] - 0s 9ms/step - loss: 6.8304 - mae: 6.8304\n",
            "Epoch 10/100\n",
            "1/1 [==============================] - 0s 10ms/step - loss: 6.2343 - mae: 6.2343\n",
            "Epoch 11/100\n",
            "1/1 [==============================] - 0s 10ms/step - loss: 5.6116 - mae: 5.6116\n",
            "Epoch 12/100\n",
            "1/1 [==============================] - 0s 9ms/step - loss: 4.9579 - mae: 4.9579\n",
            "Epoch 13/100\n",
            "1/1 [==============================] - 0s 13ms/step - loss: 4.2678 - mae: 4.2678\n",
            "Epoch 14/100\n",
            "1/1 [==============================] - 0s 10ms/step - loss: 3.8707 - mae: 3.8707\n",
            "Epoch 15/100\n",
            "1/1 [==============================] - 0s 9ms/step - loss: 3.7920 - mae: 3.7920\n",
            "Epoch 16/100\n",
            "1/1 [==============================] - 0s 10ms/step - loss: 3.9161 - mae: 3.9161\n",
            "Epoch 17/100\n",
            "1/1 [==============================] - 0s 10ms/step - loss: 4.0212 - mae: 4.0212\n",
            "Epoch 18/100\n",
            "1/1 [==============================] - 0s 9ms/step - loss: 4.3016 - mae: 4.3016\n",
            "Epoch 19/100\n",
            "1/1 [==============================] - 0s 10ms/step - loss: 4.4847 - mae: 4.4847\n",
            "Epoch 20/100\n",
            "1/1 [==============================] - 0s 9ms/step - loss: 4.5754 - mae: 4.5754\n",
            "Epoch 21/100\n",
            "1/1 [==============================] - 0s 10ms/step - loss: 4.5895 - mae: 4.5895\n",
            "Epoch 22/100\n",
            "1/1 [==============================] - 0s 11ms/step - loss: 4.5388 - mae: 4.5388\n",
            "Epoch 23/100\n",
            "1/1 [==============================] - 0s 12ms/step - loss: 4.4304 - mae: 4.4304\n",
            "Epoch 24/100\n",
            "1/1 [==============================] - 0s 10ms/step - loss: 4.2742 - mae: 4.2742\n",
            "Epoch 25/100\n",
            "1/1 [==============================] - 0s 9ms/step - loss: 4.0797 - mae: 4.0797\n",
            "Epoch 26/100\n",
            "1/1 [==============================] - 0s 10ms/step - loss: 3.8536 - mae: 3.8536\n",
            "Epoch 27/100\n",
            "1/1 [==============================] - 0s 9ms/step - loss: 3.7418 - mae: 3.7418\n",
            "Epoch 28/100\n",
            "1/1 [==============================] - 0s 9ms/step - loss: 3.6417 - mae: 3.6417\n",
            "Epoch 29/100\n",
            "1/1 [==============================] - 0s 9ms/step - loss: 3.5440 - mae: 3.5440\n",
            "Epoch 30/100\n",
            "1/1 [==============================] - 0s 9ms/step - loss: 3.4513 - mae: 3.4513\n",
            "Epoch 31/100\n",
            "1/1 [==============================] - 0s 9ms/step - loss: 3.4817 - mae: 3.4817\n",
            "Epoch 32/100\n",
            "1/1 [==============================] - 0s 9ms/step - loss: 3.5343 - mae: 3.5343\n",
            "Epoch 33/100\n",
            "1/1 [==============================] - 0s 10ms/step - loss: 3.5662 - mae: 3.5662\n",
            "Epoch 34/100\n",
            "1/1 [==============================] - 0s 12ms/step - loss: 3.5793 - mae: 3.5793\n",
            "Epoch 35/100\n",
            "1/1 [==============================] - 0s 9ms/step - loss: 3.5731 - mae: 3.5731\n",
            "Epoch 36/100\n",
            "1/1 [==============================] - 0s 10ms/step - loss: 3.5679 - mae: 3.5679\n",
            "Epoch 37/100\n",
            "1/1 [==============================] - 0s 10ms/step - loss: 3.4935 - mae: 3.4935\n",
            "Epoch 38/100\n",
            "1/1 [==============================] - 0s 13ms/step - loss: 3.4265 - mae: 3.4265\n",
            "Epoch 39/100\n",
            "1/1 [==============================] - 0s 9ms/step - loss: 3.3522 - mae: 3.3522\n",
            "Epoch 40/100\n",
            "1/1 [==============================] - 0s 10ms/step - loss: 3.2609 - mae: 3.2609\n",
            "Epoch 41/100\n",
            "1/1 [==============================] - 0s 10ms/step - loss: 3.1589 - mae: 3.1589\n",
            "Epoch 42/100\n",
            "1/1 [==============================] - 0s 9ms/step - loss: 3.0914 - mae: 3.0914\n",
            "Epoch 43/100\n",
            "1/1 [==============================] - 0s 9ms/step - loss: 3.0958 - mae: 3.0958\n",
            "Epoch 44/100\n",
            "1/1 [==============================] - 0s 9ms/step - loss: 3.0896 - mae: 3.0896\n",
            "Epoch 45/100\n",
            "1/1 [==============================] - 0s 9ms/step - loss: 3.0732 - mae: 3.0732\n",
            "Epoch 46/100\n",
            "1/1 [==============================] - 0s 9ms/step - loss: 3.0472 - mae: 3.0472\n",
            "Epoch 47/100\n",
            "1/1 [==============================] - 0s 12ms/step - loss: 3.0119 - mae: 3.0119\n",
            "Epoch 48/100\n",
            "1/1 [==============================] - 0s 9ms/step - loss: 2.9811 - mae: 2.9811\n",
            "Epoch 49/100\n",
            "1/1 [==============================] - 0s 8ms/step - loss: 2.9299 - mae: 2.9299\n",
            "Epoch 50/100\n",
            "1/1 [==============================] - 0s 8ms/step - loss: 2.8836 - mae: 2.8836\n",
            "Epoch 51/100\n",
            "1/1 [==============================] - 0s 9ms/step - loss: 2.8297 - mae: 2.8297\n",
            "Epoch 52/100\n",
            "1/1 [==============================] - 0s 9ms/step - loss: 2.7680 - mae: 2.7680\n",
            "Epoch 53/100\n",
            "1/1 [==============================] - 0s 9ms/step - loss: 2.6996 - mae: 2.6996\n",
            "Epoch 54/100\n",
            "1/1 [==============================] - 0s 8ms/step - loss: 2.6282 - mae: 2.6282\n",
            "Epoch 55/100\n",
            "1/1 [==============================] - 0s 11ms/step - loss: 2.5663 - mae: 2.5663\n",
            "Epoch 56/100\n",
            "1/1 [==============================] - 0s 10ms/step - loss: 2.5260 - mae: 2.5260\n",
            "Epoch 57/100\n",
            "1/1 [==============================] - 0s 8ms/step - loss: 2.4504 - mae: 2.4504\n",
            "Epoch 58/100\n",
            "1/1 [==============================] - 0s 10ms/step - loss: 2.3795 - mae: 2.3795\n",
            "Epoch 59/100\n",
            "1/1 [==============================] - 0s 10ms/step - loss: 2.3579 - mae: 2.3579\n",
            "Epoch 60/100\n",
            "1/1 [==============================] - 0s 10ms/step - loss: 2.2719 - mae: 2.2719\n",
            "Epoch 61/100\n",
            "1/1 [==============================] - 0s 11ms/step - loss: 2.2123 - mae: 2.2123\n",
            "Epoch 62/100\n",
            "1/1 [==============================] - 0s 10ms/step - loss: 2.1447 - mae: 2.1447\n",
            "Epoch 63/100\n",
            "1/1 [==============================] - 0s 10ms/step - loss: 2.1042 - mae: 2.1042\n",
            "Epoch 64/100\n",
            "1/1 [==============================] - 0s 9ms/step - loss: 2.0392 - mae: 2.0392\n",
            "Epoch 65/100\n",
            "1/1 [==============================] - 0s 9ms/step - loss: 1.9453 - mae: 1.9453\n",
            "Epoch 66/100\n",
            "1/1 [==============================] - 0s 9ms/step - loss: 1.8720 - mae: 1.8720\n",
            "Epoch 67/100\n",
            "1/1 [==============================] - 0s 9ms/step - loss: 1.7969 - mae: 1.7969\n",
            "Epoch 68/100\n",
            "1/1 [==============================] - 0s 10ms/step - loss: 1.7100 - mae: 1.7100\n",
            "Epoch 69/100\n",
            "1/1 [==============================] - 0s 10ms/step - loss: 1.6286 - mae: 1.6286\n",
            "Epoch 70/100\n",
            "1/1 [==============================] - 0s 10ms/step - loss: 1.5417 - mae: 1.5417\n",
            "Epoch 71/100\n",
            "1/1 [==============================] - 0s 11ms/step - loss: 1.4513 - mae: 1.4513\n",
            "Epoch 72/100\n",
            "1/1 [==============================] - 0s 11ms/step - loss: 1.3536 - mae: 1.3536\n",
            "Epoch 73/100\n",
            "1/1 [==============================] - 0s 10ms/step - loss: 1.2520 - mae: 1.2520\n",
            "Epoch 74/100\n",
            "1/1 [==============================] - 0s 10ms/step - loss: 1.1349 - mae: 1.1349\n",
            "Epoch 75/100\n",
            "1/1 [==============================] - 0s 10ms/step - loss: 0.9870 - mae: 0.9870\n",
            "Epoch 76/100\n",
            "1/1 [==============================] - 0s 10ms/step - loss: 0.8546 - mae: 0.8546\n",
            "Epoch 77/100\n",
            "1/1 [==============================] - 0s 9ms/step - loss: 0.6713 - mae: 0.6713\n",
            "Epoch 78/100\n",
            "1/1 [==============================] - 0s 9ms/step - loss: 0.5557 - mae: 0.5557\n",
            "Epoch 79/100\n",
            "1/1 [==============================] - 0s 10ms/step - loss: 0.5136 - mae: 0.5136\n",
            "Epoch 80/100\n",
            "1/1 [==============================] - 0s 10ms/step - loss: 0.6310 - mae: 0.6310\n",
            "Epoch 81/100\n",
            "1/1 [==============================] - 0s 10ms/step - loss: 0.5481 - mae: 0.5481\n",
            "Epoch 82/100\n",
            "1/1 [==============================] - 0s 13ms/step - loss: 0.6294 - mae: 0.6294\n",
            "Epoch 83/100\n",
            "1/1 [==============================] - 0s 10ms/step - loss: 0.4965 - mae: 0.4965\n",
            "Epoch 84/100\n",
            "1/1 [==============================] - 0s 10ms/step - loss: 0.4135 - mae: 0.4135\n",
            "Epoch 85/100\n",
            "1/1 [==============================] - 0s 10ms/step - loss: 0.6041 - mae: 0.6041\n",
            "Epoch 86/100\n",
            "1/1 [==============================] - 0s 10ms/step - loss: 0.5288 - mae: 0.5288\n",
            "Epoch 87/100\n",
            "1/1 [==============================] - 0s 10ms/step - loss: 0.6487 - mae: 0.6487\n",
            "Epoch 88/100\n",
            "1/1 [==============================] - 0s 10ms/step - loss: 0.6517 - mae: 0.6517\n",
            "Epoch 89/100\n",
            "1/1 [==============================] - 0s 10ms/step - loss: 0.4209 - mae: 0.4209\n",
            "Epoch 90/100\n",
            "1/1 [==============================] - 0s 10ms/step - loss: 0.6184 - mae: 0.6184\n",
            "Epoch 91/100\n",
            "1/1 [==============================] - 0s 10ms/step - loss: 0.5746 - mae: 0.5746\n",
            "Epoch 92/100\n",
            "1/1 [==============================] - 0s 9ms/step - loss: 0.3887 - mae: 0.3887\n",
            "Epoch 93/100\n",
            "1/1 [==============================] - 0s 9ms/step - loss: 0.6700 - mae: 0.6700\n",
            "Epoch 94/100\n",
            "1/1 [==============================] - 0s 17ms/step - loss: 0.8159 - mae: 0.8159\n",
            "Epoch 95/100\n",
            "1/1 [==============================] - 0s 10ms/step - loss: 0.7316 - mae: 0.7316\n",
            "Epoch 96/100\n",
            "1/1 [==============================] - 0s 9ms/step - loss: 0.4908 - mae: 0.4908\n",
            "Epoch 97/100\n",
            "1/1 [==============================] - 0s 11ms/step - loss: 0.2957 - mae: 0.2957\n",
            "Epoch 98/100\n",
            "1/1 [==============================] - 0s 10ms/step - loss: 0.4394 - mae: 0.4394\n",
            "Epoch 99/100\n",
            "1/1 [==============================] - 0s 11ms/step - loss: 0.3357 - mae: 0.3357\n",
            "Epoch 100/100\n",
            "1/1 [==============================] - 0s 9ms/step - loss: 0.3732 - mae: 0.3732\n"
          ]
        },
        {
          "output_type": "execute_result",
          "data": {
            "text/plain": [
              "<keras.src.callbacks.History at 0x7f5250dfe530>"
            ]
          },
          "metadata": {},
          "execution_count": 18
        }
      ]
    },
    {
      "cell_type": "code",
      "source": [
        "model.predict([17])"
      ],
      "metadata": {
        "colab": {
          "base_uri": "https://localhost:8080/"
        },
        "id": "UngOtHKD_vqK",
        "outputId": "d6c1c74b-9905-4463-e591-940e368d87b5"
      },
      "execution_count": null,
      "outputs": [
        {
          "output_type": "stream",
          "name": "stdout",
          "text": [
            "1/1 [==============================] - 0s 70ms/step\n"
          ]
        },
        {
          "output_type": "execute_result",
          "data": {
            "text/plain": [
              "array([[26.938559]], dtype=float32)"
            ]
          },
          "metadata": {},
          "execution_count": 19
        }
      ]
    },
    {
      "cell_type": "markdown",
      "source": [
        "## Evaluating a model\n",
        "In practice, you'll typically:\n",
        "`build a model -> fit it -> evaluate -> tweak -> fit it -> evaluate -> ...`\n",
        "\n",
        "hyperparameters are what we actually code - the learning rate, optimization/loss/evaluation funcitons, etc\n",
        "\n",
        "When evaluating models, always visualize!\n",
        "* Visualize the data\n",
        "* Visualize the model\n",
        "* Visualize the training (how it performs while it trains)\n",
        "* Visualize the predictions (what we did above)"
      ],
      "metadata": {
        "id": "9QDbBS33__WE"
      }
    },
    {
      "cell_type": "code",
      "source": [
        "#let's make a bigger dataset\n",
        "X = tf.range(-100, 100, 4)\n",
        "y = X + 10\n",
        "X, y"
      ],
      "metadata": {
        "colab": {
          "base_uri": "https://localhost:8080/"
        },
        "id": "OP2gGnSg_5KX",
        "outputId": "87d05c1d-0ff3-4478-ab1f-606251066750"
      },
      "execution_count": null,
      "outputs": [
        {
          "output_type": "execute_result",
          "data": {
            "text/plain": [
              "(<tf.Tensor: shape=(50,), dtype=int32, numpy=\n",
              " array([-100,  -96,  -92,  -88,  -84,  -80,  -76,  -72,  -68,  -64,  -60,\n",
              "         -56,  -52,  -48,  -44,  -40,  -36,  -32,  -28,  -24,  -20,  -16,\n",
              "         -12,   -8,   -4,    0,    4,    8,   12,   16,   20,   24,   28,\n",
              "          32,   36,   40,   44,   48,   52,   56,   60,   64,   68,   72,\n",
              "          76,   80,   84,   88,   92,   96], dtype=int32)>,\n",
              " <tf.Tensor: shape=(50,), dtype=int32, numpy=\n",
              " array([-90, -86, -82, -78, -74, -70, -66, -62, -58, -54, -50, -46, -42,\n",
              "        -38, -34, -30, -26, -22, -18, -14, -10,  -6,  -2,   2,   6,  10,\n",
              "         14,  18,  22,  26,  30,  34,  38,  42,  46,  50,  54,  58,  62,\n",
              "         66,  70,  74,  78,  82,  86,  90,  94,  98, 102, 106], dtype=int32)>)"
            ]
          },
          "metadata": {},
          "execution_count": 20
        }
      ]
    },
    {
      "cell_type": "code",
      "source": [
        "#visualize the data\n",
        "import matplotlib.pyplot as plt\n",
        "plt.scatter(X,y)"
      ],
      "metadata": {
        "colab": {
          "base_uri": "https://localhost:8080/",
          "height": 447
        },
        "id": "R_TDaVKkA4rd",
        "outputId": "8039dbbe-69a9-4aaf-90ad-0e028b6927ec"
      },
      "execution_count": null,
      "outputs": [
        {
          "output_type": "execute_result",
          "data": {
            "text/plain": [
              "<matplotlib.collections.PathCollection at 0x7f525067cbe0>"
            ]
          },
          "metadata": {},
          "execution_count": 21
        },
        {
          "output_type": "display_data",
          "data": {
            "text/plain": [
              "<Figure size 640x480 with 1 Axes>"
            ],
            "image/png": "[encoded data removed]"
          },
          "metadata": {}
        }
      ]
    },
    {
      "cell_type": "markdown",
      "source": [
        "### The three sets...\n",
        "1. The training set (typically 70-80% of the total data available)\n",
        "2. Validation set (~10-15% of total data available, used to tune the model)\n",
        "3. Test set (~10-15% of total data, used to test what the model has actually learned)\n",
        "\n",
        "If you're going to drop a set, drop the validation set"
      ],
      "metadata": {
        "id": "FRJSG2LXBTQn"
      }
    },
    {
      "cell_type": "code",
      "source": [
        "#how much data to we have?\n",
        "len(X)"
      ],
      "metadata": {
        "colab": {
          "base_uri": "https://localhost:8080/"
        },
        "id": "EUN5TOjuBB1X",
        "outputId": "f9748799-2b93-4bfb-a63a-d205ca46fc69"
      },
      "execution_count": null,
      "outputs": [
        {
          "output_type": "execute_result",
          "data": {
            "text/plain": [
              "50"
            ]
          },
          "metadata": {},
          "execution_count": 22
        }
      ]
    },
    {
      "cell_type": "code",
      "source": [
        "#split into train and test sets\n",
        "X_train = X[:40]  #first 40 is 80% of data\n",
        "X_test = X[40:] #last 10 is 20% of data\n",
        "y_train = y[:40]\n",
        "y_test = y[40:]\n",
        "len(X_train), len(X_test), len(y_train), len(y_test)"
      ],
      "metadata": {
        "colab": {
          "base_uri": "https://localhost:8080/"
        },
        "id": "beMi8B-uCJG3",
        "outputId": "52532f56-2998-4f3f-eddb-b79cf71dfd3e"
      },
      "execution_count": null,
      "outputs": [
        {
          "output_type": "execute_result",
          "data": {
            "text/plain": [
              "(40, 10, 40, 10)"
            ]
          },
          "metadata": {},
          "execution_count": 23
        }
      ]
    },
    {
      "cell_type": "markdown",
      "source": [
        "Now we've got data in training and test sets - let's take a look"
      ],
      "metadata": {
        "id": "dOhxANGWC_iU"
      }
    },
    {
      "cell_type": "code",
      "source": [
        "plt.figure(figsize=(10,7))\n",
        "#plot training data in blue\n",
        "plt.scatter(X_train, y_train, c=\"b\", label=\"Training data\")\n",
        "#plot test data in green\n",
        "plt.scatter(X_test, y_test, c=\"g\", label=\"Test data\")\n",
        "plt.legend()"
      ],
      "metadata": {
        "colab": {
          "base_uri": "https://localhost:8080/",
          "height": 616
        },
        "id": "ByFxCnEMCoGX",
        "outputId": "23bf709c-cfca-4f4b-a73f-90029bc83f3a"
      },
      "execution_count": null,
      "outputs": [
        {
          "output_type": "execute_result",
          "data": {
            "text/plain": [
              "<matplotlib.legend.Legend at 0x7f5250714970>"
            ]
          },
          "metadata": {},
          "execution_count": 24
        },
        {
          "output_type": "display_data",
          "data": {
            "text/plain": [
              "<Figure size 1000x700 with 1 Axes>"
            ],
            "image/png": "[encoded data removed]"
          },
          "metadata": {}
        }
      ]
    },
    {
      "cell_type": "code",
      "source": [
        "# let's build the neural network\n",
        "model = tf.keras.Sequential()\n",
        "model.add(tf.keras.layers.Dense(10, input_shape=[1]))\n",
        "\n",
        "model.compile(\n",
        "    loss=tf.keras.losses.mae,\n",
        "    optimizer=tf.keras.optimizers.SGD(),\n",
        "    metrics=[\"mae\"]\n",
        ")"
      ],
      "metadata": {
        "id": "-NhEyA8lDVIb"
      },
      "execution_count": null,
      "outputs": []
    },
    {
      "cell_type": "code",
      "source": [
        "#what does the model look like?\n",
        "#note that because we haven't fit this model before visualizing, we needed to specify the input shape above\n",
        "model.summary()"
      ],
      "metadata": {
        "colab": {
          "base_uri": "https://localhost:8080/"
        },
        "id": "UxkAdFEhENNy",
        "outputId": "4f154e14-b76b-493a-979c-188e5bc9748b"
      },
      "execution_count": null,
      "outputs": [
        {
          "output_type": "stream",
          "name": "stdout",
          "text": [
            "Model: \"sequential_3\"\n",
            "_________________________________________________________________\n",
            " Layer (type)                Output Shape              Param #   \n",
            "=================================================================\n",
            " dense_7 (Dense)             (None, 10)                20        \n",
            "                                                                 \n",
            "=================================================================\n",
            "Total params: 20 (80.00 Byte)\n",
            "Trainable params: 20 (80.00 Byte)\n",
            "Non-trainable params: 0 (0.00 Byte)\n",
            "_________________________________________________________________\n"
          ]
        }
      ]
    },
    {
      "cell_type": "markdown",
      "source": [
        "* Total params: total number of parameters in the model. How many patterns will our model try to learn\n",
        "* Trainable parameters: parameters that the model can update as it trains. This can be useful when we import a pre-trained model that we want to add a few parameters to.\n",
        "* Non-Trainable parameters: parameters that the model cannot update, often from **transfer learning**."
      ],
      "metadata": {
        "id": "Rg7xzbFsFc-k"
      }
    },
    {
      "cell_type": "code",
      "source": [
        "#there are often two trainable layers per hidden neuron... weights and biases\n",
        "\n",
        "#for now, let's fit our model to the training data\n",
        "model.fit(tf.expand_dims(X_train, axis=1), y_train, epochs=100, verbose=0)"
      ],
      "metadata": {
        "colab": {
          "base_uri": "https://localhost:8080/"
        },
        "id": "Vrq8K5gLFMou",
        "outputId": "0f214dc8-c207-449c-892a-3e22f1a71c5e"
      },
      "execution_count": null,
      "outputs": [
        {
          "output_type": "execute_result",
          "data": {
            "text/plain": [
              "<keras.src.callbacks.History at 0x7f52dd3c2ce0>"
            ]
          },
          "metadata": {},
          "execution_count": 34
        }
      ]
    },
    {
      "cell_type": "code",
      "source": [
        "from tensorflow.keras.utils import plot_model\n",
        "plot_model(model, show_shapes=True)"
      ],
      "metadata": {
        "colab": {
          "base_uri": "https://localhost:8080/",
          "height": 201
        },
        "id": "eghK_8okG1RN",
        "outputId": "62d34f45-c76f-47d2-d244-04d124da7eee"
      },
      "execution_count": null,
      "outputs": [
        {
          "output_type": "execute_result",
          "data": {
            "image/png": "[encoded data removed]",
            "text/plain": [
              "<IPython.core.display.Image object>"
            ]
          },
          "metadata": {},
          "execution_count": 28
        }
      ]
    },
    {
      "cell_type": "code",
      "source": [
        "#How can we make this prettier?\n",
        "import matplotlib.pyplot as plt\n",
        "import tensorflow as tf\n",
        "model = tf.keras.Sequential(name=\"named_model\")\n",
        "model.add(tf.keras.layers.Dense(10, input_shape=[1], name=\"input_layer\"))\n",
        "model.add(tf.keras.layers.Dense(1, name=\"output_layer\"))\n",
        "\n",
        "model.compile(\n",
        "    loss=tf.keras.losses.mae,\n",
        "    optimizer=tf.keras.optimizers.SGD(),\n",
        "    metrics=[\"mae\"]\n",
        ")\n",
        "\n",
        "model.fit(tf.expand_dims(X_train, axis=1), y_train, epochs=100, verbose=0)\n",
        "\n",
        "plot_model(model, show_shapes=True)"
      ],
      "metadata": {
        "colab": {
          "base_uri": "https://localhost:8080/",
          "height": 312
        },
        "id": "pLd76dX-HHhW",
        "outputId": "5cdc32f3-ff25-4cca-e09b-518c8917d882"
      },
      "execution_count": null,
      "outputs": [
        {
          "output_type": "execute_result",
          "data": {
            "image/png": "[encoded data removed]",
            "text/plain": [
              "<IPython.core.display.Image object>"
            ]
          },
          "metadata": {},
          "execution_count": 29
        }
      ]
    },
    {
      "cell_type": "code",
      "source": [
        "model.summary()"
      ],
      "metadata": {
        "id": "UZE4E2pvJNpV",
        "colab": {
          "base_uri": "https://localhost:8080/"
        },
        "outputId": "13a2d67c-3537-49c4-827f-6b2f75232d50"
      },
      "execution_count": null,
      "outputs": [
        {
          "output_type": "stream",
          "name": "stdout",
          "text": [
            "Model: \"named_model\"\n",
            "_________________________________________________________________\n",
            " Layer (type)                Output Shape              Param #   \n",
            "=================================================================\n",
            " input_layer (Dense)         (None, 10)                20        \n",
            "                                                                 \n",
            " output_layer (Dense)        (None, 1)                 11        \n",
            "                                                                 \n",
            "=================================================================\n",
            "Total params: 31 (124.00 Byte)\n",
            "Trainable params: 31 (124.00 Byte)\n",
            "Non-trainable params: 0 (0.00 Byte)\n",
            "_________________________________________________________________\n"
          ]
        }
      ]
    },
    {
      "cell_type": "markdown",
      "source": [
        "## Visualizing a model's predictions\n",
        "\n",
        "To visualize predictions, we can plot them against their labels, often listed as `y_test` or `y_true` versus `y_pred`"
      ],
      "metadata": {
        "id": "EbPnexmUZhgw"
      }
    },
    {
      "cell_type": "code",
      "source": [
        "#make predictions\n",
        "y_pred = model.predict(X_test)\n",
        "\n",
        "#create a plotting function\n",
        "def plot_predictions(train_data=X_train,\n",
        "                     train_labels=y_train,\n",
        "                     test_data=X_test,\n",
        "                     test_labels=y_test,\n",
        "                     predictions=y_pred):\n",
        "  \"\"\"\n",
        "  Plots training and test data and compares predictions to test labels\n",
        "  \"\"\"\n",
        "  plt.figure(figsize=(10, 7))\n",
        "  plt.scatter(train_data, train_labels, c=\"b\", label=\"Training data\")\n",
        "  plt.scatter(test_data, test_labels, c=\"g\", label=\"Testing data\")\n",
        "  plt.scatter(test_data, predictions, c=\"r\", label=\"Predictions\")\n",
        "  plt.legend()\n",
        "\n",
        "model.fit(tf.expand_dims(X_train, axis=1), y_train, epochs=200, verbose=0)\n",
        "plot_predictions()"
      ],
      "metadata": {
        "colab": {
          "base_uri": "https://localhost:8080/",
          "height": 616
        },
        "id": "kxrUFFh1ZJH9",
        "outputId": "41ea3cb0-e6b9-4a0e-ab4a-de06416945a6"
      },
      "execution_count": null,
      "outputs": [
        {
          "output_type": "stream",
          "name": "stdout",
          "text": [
            "1/1 [==============================] - 0s 36ms/step\n"
          ]
        },
        {
          "output_type": "display_data",
          "data": {
            "text/plain": [
              "<Figure size 1000x700 with 1 Axes>"
            ],
            "image/png": "[encoded data removed]"
          },
          "metadata": {}
        }
      ]
    },
    {
      "cell_type": "markdown",
      "source": [
        "### Evaluating a model's predictions using Evaluation Metrics\n",
        "\n",
        "In regression models, two main metrics:\n",
        "* **MAE**: mean absolute error. On average, how wrong is each of my model's predictions?\n",
        "* **MSE**: mean square error. Same as MAE, but each value is squared! *Useful when larger errors are more significant than small errors*."
      ],
      "metadata": {
        "id": "rHD_9_RFb3bL"
      }
    },
    {
      "cell_type": "code",
      "source": [
        "#Evaluate the model on the test set\n",
        "model.evaluate(X_test, y_test)"
      ],
      "metadata": {
        "colab": {
          "base_uri": "https://localhost:8080/"
        },
        "id": "Fs4J5yTXbFx8",
        "outputId": "f8a7259d-e9f1-4d57-b000-9384c6d280ee"
      },
      "execution_count": null,
      "outputs": [
        {
          "output_type": "stream",
          "name": "stdout",
          "text": [
            "1/1 [==============================] - 0s 25ms/step - loss: 16.0846 - mae: 16.0846\n"
          ]
        },
        {
          "output_type": "execute_result",
          "data": {
            "text/plain": [
              "[16.08461570739746, 16.08461570739746]"
            ]
          },
          "metadata": {},
          "execution_count": 63
        }
      ]
    },
    {
      "cell_type": "code",
      "source": [
        "#how can we generate these metrics on our own?\n",
        "print(y_test.shape, y_pred.shape)\n",
        "print(\"Because these are different shapes, they'll act weird\")\n",
        "\n",
        "tf.keras.losses.MAE(y_test, tf.squeeze(y_pred))"
      ],
      "metadata": {
        "colab": {
          "base_uri": "https://localhost:8080/"
        },
        "id": "ICEFDcLFdCaM",
        "outputId": "2cc354d5-df38-4bdf-c1c1-9d8e459f54ea"
      },
      "execution_count": null,
      "outputs": [
        {
          "output_type": "stream",
          "name": "stdout",
          "text": [
            "(10,) (10, 1)\n",
            "Because these are different shapes, they'll act weird\n"
          ]
        },
        {
          "output_type": "execute_result",
          "data": {
            "text/plain": [
              "<tf.Tensor: shape=(), dtype=float32, numpy=16.084614>"
            ]
          },
          "metadata": {},
          "execution_count": 67
        }
      ]
    },
    {
      "cell_type": "code",
      "source": [
        "#what about the mean squared error?\n",
        "tf.keras.losses.MSE(y_test, tf.squeeze(y_pred))"
      ],
      "metadata": {
        "colab": {
          "base_uri": "https://localhost:8080/"
        },
        "id": "-YPonzJ7hd2q",
        "outputId": "5afa6f1d-69d1-4a03-9e20-ffd738fbd732"
      },
      "execution_count": null,
      "outputs": [
        {
          "output_type": "execute_result",
          "data": {
            "text/plain": [
              "<tf.Tensor: shape=(), dtype=float32, numpy=261.82535>"
            ]
          },
          "metadata": {},
          "execution_count": 68
        }
      ]
    },
    {
      "cell_type": "markdown",
      "source": [
        "How do we minimize the model's error?\n",
        "### Running experiments to improve our model!\n",
        "`build a model -> fit it -> evaluate -> tweak -> fit it -> evaluate -> ...`\n",
        "\n",
        "1. Get more data. get more examples to train on.\n",
        "2. Make your model larger. May come in the form of more layers of more hidden units.\n",
        "3. Train for longer.\n",
        "\n",
        "\n",
        "Let's look at 3 tests:\n",
        "1. OG model, 1 layer, train for 100 epochs\n",
        "2. 2 layers, train for 100 epochs\n",
        "3. 2 layers, train for 500 epochs"
      ],
      "metadata": {
        "id": "NHh3i4dFihXW"
      }
    },
    {
      "cell_type": "code",
      "source": [
        "X_train, y_train, X_test, y_test"
      ],
      "metadata": {
        "colab": {
          "base_uri": "https://localhost:8080/"
        },
        "id": "FNVbAbFhh6H2",
        "outputId": "fcbdf7b3-9a1d-482b-c460-9e1d7fb54127"
      },
      "execution_count": null,
      "outputs": [
        {
          "output_type": "execute_result",
          "data": {
            "text/plain": [
              "(<tf.Tensor: shape=(40,), dtype=int32, numpy=\n",
              " array([-100,  -96,  -92,  -88,  -84,  -80,  -76,  -72,  -68,  -64,  -60,\n",
              "         -56,  -52,  -48,  -44,  -40,  -36,  -32,  -28,  -24,  -20,  -16,\n",
              "         -12,   -8,   -4,    0,    4,    8,   12,   16,   20,   24,   28,\n",
              "          32,   36,   40,   44,   48,   52,   56], dtype=int32)>,\n",
              " <tf.Tensor: shape=(40,), dtype=int32, numpy=\n",
              " array([-90, -86, -82, -78, -74, -70, -66, -62, -58, -54, -50, -46, -42,\n",
              "        -38, -34, -30, -26, -22, -18, -14, -10,  -6,  -2,   2,   6,  10,\n",
              "         14,  18,  22,  26,  30,  34,  38,  42,  46,  50,  54,  58,  62,\n",
              "         66], dtype=int32)>,\n",
              " <tf.Tensor: shape=(10,), dtype=int32, numpy=array([60, 64, 68, 72, 76, 80, 84, 88, 92, 96], dtype=int32)>,\n",
              " <tf.Tensor: shape=(10,), dtype=int32, numpy=array([ 70,  74,  78,  82,  86,  90,  94,  98, 102, 106], dtype=int32)>)"
            ]
          },
          "metadata": {},
          "execution_count": 69
        }
      ]
    },
    {
      "cell_type": "code",
      "source": [
        "#Let's refresh our model and plot it\n",
        "tf.random.set_seed(42)\n",
        "model_1 = tf.keras.Sequential( name=\"my_model\")\n",
        "model_1.add(tf.keras.layers.Dense(1, input_shape=[1], name=\"input_layer\"))\n",
        "\n",
        "model_1.compile(\n",
        "    loss=tf.keras.losses.mse,\n",
        "    optimizer=tf.keras.optimizers.Adam(learning_rate=.01),\n",
        "    metrics=[\"mae\", \"mse\"]\n",
        ")\n",
        "\n",
        "model_1.fit(X_train, y_train, epochs=100, verbose=0)\n",
        "\n",
        "y_pred_1 = model_1.predict(X_test)\n",
        "\n",
        "plot_predictions(train_data=X_train, train_labels=y_train,\n",
        "                 test_data=X_test, test_labels=y_test,\n",
        "                 predictions=y_pred_1\n",
        "                 )"
      ],
      "metadata": {
        "colab": {
          "base_uri": "https://localhost:8080/",
          "height": 616
        },
        "id": "-YuMFsddlouU",
        "outputId": "1390c680-e990-46f8-fee3-677ca80fb93d"
      },
      "execution_count": null,
      "outputs": [
        {
          "output_type": "stream",
          "name": "stdout",
          "text": [
            "1/1 [==============================] - 0s 42ms/step\n"
          ]
        },
        {
          "output_type": "display_data",
          "data": {
            "text/plain": [
              "<Figure size 1000x700 with 1 Axes>"
            ],
            "image/png": "[encoded data removed]"
          },
          "metadata": {}
        }
      ]
    },
    {
      "cell_type": "code",
      "source": [
        "#Let's refresh our model and plot it\n",
        "tf.random.set_seed(42)\n",
        "model_2 = tf.keras.Sequential( name=\"my_model\")\n",
        "model_2.add(tf.keras.layers.Dense(20, input_shape=[1], name=\"input_layer\"))\n",
        "model_2.add(tf.keras.layers.Dense(1, activation=\"relu\", name=\"output_layer\"))\n",
        "\n",
        "model_2.compile(\n",
        "    loss=tf.keras.losses.mse,\n",
        "    optimizer=tf.keras.optimizers.Adam(learning_rate=.01),\n",
        "    metrics=[\"mae\", \"mse\"]\n",
        ")\n",
        "\n",
        "model_2.fit(X_train, y_train, epochs=100, verbose=0)\n",
        "\n",
        "y_pred_2 = model_2.predict(X_test)\n",
        "\n",
        "plot_predictions(train_data=X_train, train_labels=y_train,\n",
        "                 test_data=X_test, test_labels=y_test,\n",
        "                 predictions=y_pred_2\n",
        "                 )"
      ],
      "metadata": {
        "colab": {
          "base_uri": "https://localhost:8080/",
          "height": 616
        },
        "id": "JYmZ7JTwmHTl",
        "outputId": "5b3034b8-8ddf-4dae-d92c-64dc7e3afba2"
      },
      "execution_count": null,
      "outputs": [
        {
          "output_type": "stream",
          "name": "stdout",
          "text": [
            "1/1 [==============================] - 0s 51ms/step\n"
          ]
        },
        {
          "output_type": "display_data",
          "data": {
            "text/plain": [
              "<Figure size 1000x700 with 1 Axes>"
            ],
            "image/png": "[encoded data removed]"
          },
          "metadata": {}
        }
      ]
    },
    {
      "cell_type": "code",
      "source": [
        "#Let's refresh our model and plot it\n",
        "tf.random.set_seed(42)\n",
        "model_3 = tf.keras.Sequential( name=\"my_model\")\n",
        "model_3.add(tf.keras.layers.Dense(20, input_shape=[1], name=\"input_layer\"))\n",
        "#model_3.add(tf.keras.layers.Dense(20, activation=\"relu\", name=\"hidden_layer\"))\n",
        "model_3.add(tf.keras.layers.Dense(1, activation=\"relu\", name=\"output_layer\"))\n",
        "\n",
        "model_3.compile(\n",
        "    loss=tf.keras.losses.mse,\n",
        "    optimizer=tf.keras.optimizers.Adam(learning_rate=.01),\n",
        "    metrics=[\"mae\", \"mse\"]\n",
        ")\n",
        "\n",
        "model_3.fit(X_train, y_train, epochs=500, verbose=0)\n",
        "\n",
        "y_pred_3 = model_3.predict(X_test)\n",
        "\n",
        "plot_predictions(train_data=X_train, train_labels=y_train,\n",
        "                 test_data=X_test, test_labels=y_test,\n",
        "                 predictions=y_pred_3\n",
        "                 )\n"
      ],
      "metadata": {
        "colab": {
          "base_uri": "https://localhost:8080/",
          "height": 616
        },
        "id": "7X_VMtiijQMU",
        "outputId": "844a91a2-f639-46c0-d786-0b12ffd5a7a0"
      },
      "execution_count": null,
      "outputs": [
        {
          "output_type": "stream",
          "name": "stdout",
          "text": [
            "1/1 [==============================] - 0s 63ms/step\n"
          ]
        },
        {
          "output_type": "display_data",
          "data": {
            "text/plain": [
              "<Figure size 1000x700 with 1 Axes>"
            ],
            "image/png": "[encoded data removed]"
          },
          "metadata": {}
        }
      ]
    },
    {
      "cell_type": "code",
      "source": [
        "mae_1 = tf.keras.losses.mae(y_test, tf.squeeze(y_pred_1))\n",
        "mae_2 = tf.keras.losses.mae(y_test, tf.squeeze(y_pred_2))\n",
        "mae_3 = tf.keras.losses.mae(y_test, tf.squeeze(y_pred_3))\n",
        "mae_1, mae_2, mae_3"
      ],
      "metadata": {
        "colab": {
          "base_uri": "https://localhost:8080/"
        },
        "id": "0cMWYeA6kru2",
        "outputId": "32d6a66f-fb24-4687-ef3d-856ca16a3e01"
      },
      "execution_count": null,
      "outputs": [
        {
          "output_type": "execute_result",
          "data": {
            "text/plain": [
              "(<tf.Tensor: shape=(), dtype=float32, numpy=65.158066>,\n",
              " <tf.Tensor: shape=(), dtype=float32, numpy=6.4077997>,\n",
              " <tf.Tensor: shape=(), dtype=float32, numpy=8.392334e-06>)"
            ]
          },
          "metadata": {},
          "execution_count": 91
        }
      ]
    },
    {
      "cell_type": "markdown",
      "source": [
        "### Comparing our experiments..."
      ],
      "metadata": {
        "id": "VHETkkZxopY5"
      }
    },
    {
      "cell_type": "code",
      "source": [
        "import pandas as pd\n",
        "mse_1 = tf.keras.losses.mse(y_test, tf.squeeze(y_pred_1))\n",
        "mse_2 = tf.keras.losses.mse(y_test, tf.squeeze(y_pred_2))\n",
        "mse_3 = tf.keras.losses.mse(y_test, tf.squeeze(y_pred_3))\n",
        "\n",
        "model_results = [[\"Model_1\", mae_1.numpy(), mse_1.numpy()],\n",
        "                 [\"Model_2\", mae_2.numpy(), mse_2.numpy()],\n",
        "                 [\"Model_3\", mse_3.numpy(), mse_3.numpy()]]\n",
        "\n",
        "all_results = pd.DataFrame(model_results, columns=[\"model\", \"mae\", \"mse\"])\n",
        "all_results"
      ],
      "metadata": {
        "colab": {
          "base_uri": "https://localhost:8080/",
          "height": 143
        },
        "id": "8snPjrDpnp0j",
        "outputId": "6a658f48-39e7-44ad-9faa-014438709ba3"
      },
      "execution_count": null,
      "outputs": [
        {
          "output_type": "execute_result",
          "data": {
            "text/plain": [
              "     model           mae           mse\n",
              "0  Model_1  6.515807e+01  4.308862e+03\n",
              "1  Model_2  6.407800e+00  4.459117e+01\n",
              "2  Model_3  9.895303e-11  9.895303e-11"
            ],
            "text/html": [
              "\n",
              "  <div id=\"df-e88e96aa-cf0c-4060-9667-d8a17f94c1be\" class=\"colab-df-container\">\n",
              "    <div>\n",
              "<style scoped>\n",
              "    .dataframe tbody tr th:only-of-type {\n",
              "        vertical-align: middle;\n",
              "    }\n",
              "\n",
              "    .dataframe tbody tr th {\n",
              "        vertical-align: top;\n",
              "    }\n",
              "\n",
              "    .dataframe thead th {\n",
              "        text-align: right;\n",
              "    }\n",
              "</style>\n",
              "<table border=\"1\" class=\"dataframe\">\n",
              "  <thead>\n",
              "    <tr style=\"text-align: right;\">\n",
              "      <th></th>\n",
              "      <th>model</th>\n",
              "      <th>mae</th>\n",
              "      <th>mse</th>\n",
              "    </tr>\n",
              "  </thead>\n",
              "  <tbody>\n",
              "    <tr>\n",
              "      <th>0</th>\n",
              "      <td>Model_1</td>\n",
              "      <td>6.515807e+01</td>\n",
              "      <td>4.308862e+03</td>\n",
              "    </tr>\n",
              "    <tr>\n",
              "      <th>1</th>\n",
              "      <td>Model_2</td>\n",
              "      <td>6.407800e+00</td>\n",
              "      <td>4.459117e+01</td>\n",
              "    </tr>\n",
              "    <tr>\n",
              "      <th>2</th>\n",
              "      <td>Model_3</td>\n",
              "      <td>9.895303e-11</td>\n",
              "      <td>9.895303e-11</td>\n",
              "    </tr>\n",
              "  </tbody>\n",
              "</table>\n",
              "</div>\n",
              "    <div class=\"colab-df-buttons\">\n",
              "\n",
              "  <div class=\"colab-df-container\">\n",
              "    <button class=\"colab-df-convert\" onclick=\"convertToInteractive('df-e88e96aa-cf0c-4060-9667-d8a17f94c1be')\"\n",
              "            title=\"Convert this dataframe to an interactive table.\"\n",
              "            style=\"display:none;\">\n",
              "\n",
              "  <svg xmlns=\"http://www.w3.org/2000/svg\" height=\"24px\" viewBox=\"0 -960 960 960\">\n",
              "    <path d=\"M120-120v-720h720v720H120Zm60-500h600v-160H180v160Zm220 220h160v-160H400v160Zm0 220h160v-160H400v160ZM180-400h160v-160H180v160Zm440 0h160v-160H620v160ZM180-180h160v-160H180v160Zm440 0h160v-160H620v160Z\"/>\n",
              "  </svg>\n",
              "    </button>\n",
              "\n",
              "  <style>\n",
              "    .colab-df-container {\n",
              "      display:flex;\n",
              "      gap: 12px;\n",
              "    }\n",
              "\n",
              "    .colab-df-convert {\n",
              "      background-color: #E8F0FE;\n",
              "      border: none;\n",
              "      border-radius: 50%;\n",
              "      cursor: pointer;\n",
              "      display: none;\n",
              "      fill: #1967D2;\n",
              "      height: 32px;\n",
              "      padding: 0 0 0 0;\n",
              "      width: 32px;\n",
              "    }\n",
              "\n",
              "    .colab-df-convert:hover {\n",
              "      background-color: #E2EBFA;\n",
              "      box-shadow: 0px 1px 2px rgba(60, 64, 67, 0.3), 0px 1px 3px 1px rgba(60, 64, 67, 0.15);\n",
              "      fill: #174EA6;\n",
              "    }\n",
              "\n",
              "    .colab-df-buttons div {\n",
              "      margin-bottom: 4px;\n",
              "    }\n",
              "\n",
              "    [theme=dark] .colab-df-convert {\n",
              "      background-color: #3B4455;\n",
              "      fill: #D2E3FC;\n",
              "    }\n",
              "\n",
              "    [theme=dark] .colab-df-convert:hover {\n",
              "      background-color: #434B5C;\n",
              "      box-shadow: 0px 1px 3px 1px rgba(0, 0, 0, 0.15);\n",
              "      filter: drop-shadow(0px 1px 2px rgba(0, 0, 0, 0.3));\n",
              "      fill: #FFFFFF;\n",
              "    }\n",
              "  </style>\n",
              "\n",
              "    <script>\n",
              "      const buttonEl =\n",
              "        document.querySelector('#df-e88e96aa-cf0c-4060-9667-d8a17f94c1be button.colab-df-convert');\n",
              "      buttonEl.style.display =\n",
              "        google.colab.kernel.accessAllowed ? 'block' : 'none';\n",
              "\n",
              "      async function convertToInteractive(key) {\n",
              "        const element = document.querySelector('#df-e88e96aa-cf0c-4060-9667-d8a17f94c1be');\n",
              "        const dataTable =\n",
              "          await google.colab.kernel.invokeFunction('convertToInteractive',\n",
              "                                                    [key], {});\n",
              "        if (!dataTable) return;\n",
              "\n",
              "        const docLinkHtml = 'Like what you see? Visit the ' +\n",
              "          '<a target=\"_blank\" href=https://colab.research.google.com/notebooks/data_table.ipynb>data table notebook</a>'\n",
              "          + ' to learn more about interactive tables.';\n",
              "        element.innerHTML = '';\n",
              "        dataTable['output_type'] = 'display_data';\n",
              "        await google.colab.output.renderOutput(dataTable, element);\n",
              "        const docLink = document.createElement('div');\n",
              "        docLink.innerHTML = docLinkHtml;\n",
              "        element.appendChild(docLink);\n",
              "      }\n",
              "    </script>\n",
              "  </div>\n",
              "\n",
              "\n",
              "<div id=\"df-0e909198-1586-403b-9c32-d4f98de77d09\">\n",
              "  <button class=\"colab-df-quickchart\" onclick=\"quickchart('df-0e909198-1586-403b-9c32-d4f98de77d09')\"\n",
              "            title=\"Suggest charts.\"\n",
              "            style=\"display:none;\">\n",
              "\n",
              "<svg xmlns=\"http://www.w3.org/2000/svg\" height=\"24px\"viewBox=\"0 0 24 24\"\n",
              "     width=\"24px\">\n",
              "    <g>\n",
              "        <path d=\"M19 3H5c-1.1 0-2 .9-2 2v14c0 1.1.9 2 2 2h14c1.1 0 2-.9 2-2V5c0-1.1-.9-2-2-2zM9 17H7v-7h2v7zm4 0h-2V7h2v10zm4 0h-2v-4h2v4z\"/>\n",
              "    </g>\n",
              "</svg>\n",
              "  </button>\n",
              "\n",
              "<style>\n",
              "  .colab-df-quickchart {\n",
              "      --bg-color: #E8F0FE;\n",
              "      --fill-color: #1967D2;\n",
              "      --hover-bg-color: #E2EBFA;\n",
              "      --hover-fill-color: #174EA6;\n",
              "      --disabled-fill-color: #AAA;\n",
              "      --disabled-bg-color: #DDD;\n",
              "  }\n",
              "\n",
              "  [theme=dark] .colab-df-quickchart {\n",
              "      --bg-color: #3B4455;\n",
              "      --fill-color: #D2E3FC;\n",
              "      --hover-bg-color: #434B5C;\n",
              "      --hover-fill-color: #FFFFFF;\n",
              "      --disabled-bg-color: #3B4455;\n",
              "      --disabled-fill-color: #666;\n",
              "  }\n",
              "\n",
              "  .colab-df-quickchart {\n",
              "    background-color: var(--bg-color);\n",
              "    border: none;\n",
              "    border-radius: 50%;\n",
              "    cursor: pointer;\n",
              "    display: none;\n",
              "    fill: var(--fill-color);\n",
              "    height: 32px;\n",
              "    padding: 0;\n",
              "    width: 32px;\n",
              "  }\n",
              "\n",
              "  .colab-df-quickchart:hover {\n",
              "    background-color: var(--hover-bg-color);\n",
              "    box-shadow: 0 1px 2px rgba(60, 64, 67, 0.3), 0 1px 3px 1px rgba(60, 64, 67, 0.15);\n",
              "    fill: var(--button-hover-fill-color);\n",
              "  }\n",
              "\n",
              "  .colab-df-quickchart-complete:disabled,\n",
              "  .colab-df-quickchart-complete:disabled:hover {\n",
              "    background-color: var(--disabled-bg-color);\n",
              "    fill: var(--disabled-fill-color);\n",
              "    box-shadow: none;\n",
              "  }\n",
              "\n",
              "  .colab-df-spinner {\n",
              "    border: 2px solid var(--fill-color);\n",
              "    border-color: transparent;\n",
              "    border-bottom-color: var(--fill-color);\n",
              "    animation:\n",
              "      spin 1s steps(1) infinite;\n",
              "  }\n",
              "\n",
              "  @keyframes spin {\n",
              "    0% {\n",
              "      border-color: transparent;\n",
              "      border-bottom-color: var(--fill-color);\n",
              "      border-left-color: var(--fill-color);\n",
              "    }\n",
              "    20% {\n",
              "      border-color: transparent;\n",
              "      border-left-color: var(--fill-color);\n",
              "      border-top-color: var(--fill-color);\n",
              "    }\n",
              "    30% {\n",
              "      border-color: transparent;\n",
              "      border-left-color: var(--fill-color);\n",
              "      border-top-color: var(--fill-color);\n",
              "      border-right-color: var(--fill-color);\n",
              "    }\n",
              "    40% {\n",
              "      border-color: transparent;\n",
              "      border-right-color: var(--fill-color);\n",
              "      border-top-color: var(--fill-color);\n",
              "    }\n",
              "    60% {\n",
              "      border-color: transparent;\n",
              "      border-right-color: var(--fill-color);\n",
              "    }\n",
              "    80% {\n",
              "      border-color: transparent;\n",
              "      border-right-color: var(--fill-color);\n",
              "      border-bottom-color: var(--fill-color);\n",
              "    }\n",
              "    90% {\n",
              "      border-color: transparent;\n",
              "      border-bottom-color: var(--fill-color);\n",
              "    }\n",
              "  }\n",
              "</style>\n",
              "\n",
              "  <script>\n",
              "    async function quickchart(key) {\n",
              "      const quickchartButtonEl =\n",
              "        document.querySelector('#' + key + ' button');\n",
              "      quickchartButtonEl.disabled = true;  // To prevent multiple clicks.\n",
              "      quickchartButtonEl.classList.add('colab-df-spinner');\n",
              "      try {\n",
              "        const charts = await google.colab.kernel.invokeFunction(\n",
              "            'suggestCharts', [key], {});\n",
              "      } catch (error) {\n",
              "        console.error('Error during call to suggestCharts:', error);\n",
              "      }\n",
              "      quickchartButtonEl.classList.remove('colab-df-spinner');\n",
              "      quickchartButtonEl.classList.add('colab-df-quickchart-complete');\n",
              "    }\n",
              "    (() => {\n",
              "      let quickchartButtonEl =\n",
              "        document.querySelector('#df-0e909198-1586-403b-9c32-d4f98de77d09 button');\n",
              "      quickchartButtonEl.style.display =\n",
              "        google.colab.kernel.accessAllowed ? 'block' : 'none';\n",
              "    })();\n",
              "  </script>\n",
              "</div>\n",
              "    </div>\n",
              "  </div>\n"
            ]
          },
          "metadata": {},
          "execution_count": 93
        }
      ]
    },
    {
      "cell_type": "markdown",
      "source": [
        "Comparing models is very tedious... but that's what this is all about! Expecially trying to figure out what DOESN\"T work\n",
        "\n",
        "\n",
        "Your main goal should be to minimize the time you spend on experiments. Get in the habit of tracking the results of your experiments - there are tools to help us, too!\n",
        "* TensorBoard (built right in the tensorflow library)\n",
        "* Weights & Biases (tool for tracking experiments all over, plugs into TensorBoard)\n",
        "\n",
        "### Saving our models\n",
        "How can we get Model 3 out of our notebook and into a production workflow?\n",
        "* model.save(*fname*)\n",
        "* tf.keras.models.load_model"
      ],
      "metadata": {
        "id": "dHMtTzCTpvNf"
      }
    },
    {
      "cell_type": "code",
      "source": [
        "#Save model in SavedModel format\n",
        "model_3.save(\"tensorflow_01_model_3_SavedModel\")\n"
      ],
      "metadata": {
        "id": "8DtDbGAHpbUX"
      },
      "execution_count": null,
      "outputs": []
    },
    {
      "cell_type": "code",
      "source": [
        "#HDF5 save format\n",
        "model.save(\"tensorflow_01_model_3_HDF5.h5\")"
      ],
      "metadata": {
        "colab": {
          "base_uri": "https://localhost:8080/"
        },
        "id": "XQNQW9-NptEH",
        "outputId": "7e6e44f0-0bc2-46af-dfd5-eae615ece502"
      },
      "execution_count": null,
      "outputs": [
        {
          "output_type": "stream",
          "name": "stderr",
          "text": [
            "/usr/local/lib/python3.10/dist-packages/keras/src/engine/training.py:3079: UserWarning: You are saving your model as an HDF5 file via `model.save()`. This file format is considered legacy. We recommend using instead the native Keras format, e.g. `model.save('my_model.keras')`.\n",
            "  saving_api.save_model(\n"
          ]
        }
      ]
    },
    {
      "cell_type": "markdown",
      "source": [
        "SavedModel has a folder set, but the HDF5 version if just a file. HDF5 is often more useful when you want to load this model outside of TensorFlow in the future.\n",
        "\n",
        "### Loading a saved model\n",
        "Can we load the model back in?"
      ],
      "metadata": {
        "id": "AO-mY7e2sQbr"
      }
    },
    {
      "cell_type": "code",
      "source": [
        "model_3_loaded = tf.keras.models.load_model(\"/content/tensorflow_01_model_3_SavedModel\")\n",
        "model_3_loaded.summary()"
      ],
      "metadata": {
        "colab": {
          "base_uri": "https://localhost:8080/"
        },
        "id": "__HlnIiLsAWq",
        "outputId": "06d0a900-4c37-46d9-d2e6-3fb0bafd146a"
      },
      "execution_count": null,
      "outputs": [
        {
          "output_type": "stream",
          "name": "stdout",
          "text": [
            "Model: \"my_model\"\n",
            "_________________________________________________________________\n",
            " Layer (type)                Output Shape              Param #   \n",
            "=================================================================\n",
            " input_layer (Dense)         (None, 20)                40        \n",
            "                                                                 \n",
            " output_layer (Dense)        (None, 1)                 21        \n",
            "                                                                 \n",
            "=================================================================\n",
            "Total params: 61 (244.00 Byte)\n",
            "Trainable params: 61 (244.00 Byte)\n",
            "Non-trainable params: 0 (0.00 Byte)\n",
            "_________________________________________________________________\n"
          ]
        }
      ]
    },
    {
      "cell_type": "code",
      "source": [
        "#they're the same architecture, but what about the weights?\n",
        "model_3_preds = model_3.predict(X_test)\n",
        "model_3_loaded_preds = model_3_loaded.predict(X_test)\n",
        "model_3_preds == model_3_loaded_preds"
      ],
      "metadata": {
        "colab": {
          "base_uri": "https://localhost:8080/"
        },
        "id": "TpiyI7o2svU8",
        "outputId": "fe66727f-4ba8-456c-841a-ee11cb9cce11"
      },
      "execution_count": null,
      "outputs": [
        {
          "output_type": "stream",
          "name": "stdout",
          "text": [
            "1/1 [==============================] - 0s 20ms/step\n",
            "1/1 [==============================] - 0s 20ms/step\n"
          ]
        },
        {
          "output_type": "execute_result",
          "data": {
            "text/plain": [
              "array([[ True],\n",
              "       [ True],\n",
              "       [ True],\n",
              "       [ True],\n",
              "       [ True],\n",
              "       [ True],\n",
              "       [ True],\n",
              "       [ True],\n",
              "       [ True],\n",
              "       [ True]])"
            ]
          },
          "metadata": {},
          "execution_count": 102
        }
      ]
    },
    {
      "cell_type": "code",
      "source": [
        "model_3_loaded_h5 = tf.keras.models.load_model(\"/content/tensorflow_01_model_3_HDF5.h5\")\n",
        "model_3_loaded_h5.summary()"
      ],
      "metadata": {
        "colab": {
          "base_uri": "https://localhost:8080/"
        },
        "id": "fPimLQattWsM",
        "outputId": "133e66ea-0a7c-4cc4-f77a-90d5b24e0f44"
      },
      "execution_count": null,
      "outputs": [
        {
          "output_type": "stream",
          "name": "stdout",
          "text": [
            "Model: \"my_model\"\n",
            "_________________________________________________________________\n",
            " Layer (type)                Output Shape              Param #   \n",
            "=================================================================\n",
            " input_layer (Dense)         (None, 20)                40        \n",
            "                                                                 \n",
            " output_layer (Dense)        (None, 1)                 21        \n",
            "                                                                 \n",
            "=================================================================\n",
            "Total params: 61 (244.00 Byte)\n",
            "Trainable params: 61 (244.00 Byte)\n",
            "Non-trainable params: 0 (0.00 Byte)\n",
            "_________________________________________________________________\n"
          ]
        }
      ]
    },
    {
      "cell_type": "code",
      "source": [
        "model_3_preds = model_3.predict(X_test)\n",
        "model_3_loaded_h5_preds = model_3_loaded_h5.predict(X_test)\n",
        "model_3_preds == model_3_loaded_h5_preds, model_3_preds, model_3_loaded_h5_preds"
      ],
      "metadata": {
        "colab": {
          "base_uri": "https://localhost:8080/"
        },
        "id": "EGsHp1Ist0If",
        "outputId": "a311939c-115a-4ce9-d54b-455f7e765039"
      },
      "execution_count": null,
      "outputs": [
        {
          "output_type": "stream",
          "name": "stdout",
          "text": [
            "1/1 [==============================] - 0s 39ms/step\n",
            "1/1 [==============================] - 0s 33ms/step\n"
          ]
        },
        {
          "output_type": "execute_result",
          "data": {
            "text/plain": [
              "(array([[False],\n",
              "        [ True],\n",
              "        [ True],\n",
              "        [False],\n",
              "        [False],\n",
              "        [ True],\n",
              "        [False],\n",
              "        [ True],\n",
              "        [ True],\n",
              "        [False]]),\n",
              " array([[ 70.00001 ],\n",
              "        [ 74.      ],\n",
              "        [ 78.00001 ],\n",
              "        [ 82.00001 ],\n",
              "        [ 86.000015],\n",
              "        [ 90.00001 ],\n",
              "        [ 94.000015],\n",
              "        [ 98.      ],\n",
              "        [102.00001 ],\n",
              "        [106.000015]], dtype=float32),\n",
              " array([[ 70.     ],\n",
              "        [ 74.     ],\n",
              "        [ 78.00001],\n",
              "        [ 82.     ],\n",
              "        [ 86.     ],\n",
              "        [ 90.00001],\n",
              "        [ 94.     ],\n",
              "        [ 98.     ],\n",
              "        [102.00001],\n",
              "        [106.     ]], dtype=float32))"
            ]
          },
          "metadata": {},
          "execution_count": 105
        }
      ]
    },
    {
      "cell_type": "markdown",
      "source": [
        "## Let's go bigger!\n",
        "Medical cost dataset from Kaggle: https://www.kaggle.com/datasets/mirichoi0218/insurance"
      ],
      "metadata": {
        "id": "kU52XPDMu6dH"
      }
    },
    {
      "cell_type": "code",
      "source": [
        "import tensorflow as tf\n",
        "import pandas as pd\n",
        "import matplotlib.pyplot as plt\n",
        "\n",
        "insurance = pd.read_csv(\"https://raw.githubusercontent.com/stedy/Machine-Learning-with-R-datasets/master/insurance.csv\")\n",
        "insurance"
      ],
      "metadata": {
        "colab": {
          "base_uri": "https://localhost:8080/",
          "height": 424
        },
        "id": "iucAgaWnuKSF",
        "outputId": "391dd156-327c-4910-c679-5962b8e59a1c"
      },
      "execution_count": null,
      "outputs": [
        {
          "output_type": "execute_result",
          "data": {
            "text/plain": [
              "      age     sex     bmi  children smoker     region      charges\n",
              "0      19  female  27.900         0    yes  southwest  16884.92400\n",
              "1      18    male  33.770         1     no  southeast   1725.55230\n",
              "2      28    male  33.000         3     no  southeast   4449.46200\n",
              "3      33    male  22.705         0     no  northwest  21984.47061\n",
              "4      32    male  28.880         0     no  northwest   3866.85520\n",
              "...   ...     ...     ...       ...    ...        ...          ...\n",
              "1333   50    male  30.970         3     no  northwest  10600.54830\n",
              "1334   18  female  31.920         0     no  northeast   2205.98080\n",
              "1335   18  female  36.850         0     no  southeast   1629.83350\n",
              "1336   21  female  25.800         0     no  southwest   2007.94500\n",
              "1337   61  female  29.070         0    yes  northwest  29141.36030\n",
              "\n",
              "[1338 rows x 7 columns]"
            ],
            "text/html": [
              "\n",
              "  <div id=\"df-945f0d8a-c4c5-4689-9fd4-d269e6a24775\" class=\"colab-df-container\">\n",
              "    <div>\n",
              "<style scoped>\n",
              "    .dataframe tbody tr th:only-of-type {\n",
              "        vertical-align: middle;\n",
              "    }\n",
              "\n",
              "    .dataframe tbody tr th {\n",
              "        vertical-align: top;\n",
              "    }\n",
              "\n",
              "    .dataframe thead th {\n",
              "        text-align: right;\n",
              "    }\n",
              "</style>\n",
              "<table border=\"1\" class=\"dataframe\">\n",
              "  <thead>\n",
              "    <tr style=\"text-align: right;\">\n",
              "      <th></th>\n",
              "      <th>age</th>\n",
              "      <th>sex</th>\n",
              "      <th>bmi</th>\n",
              "      <th>children</th>\n",
              "      <th>smoker</th>\n",
              "      <th>region</th>\n",
              "      <th>charges</th>\n",
              "    </tr>\n",
              "  </thead>\n",
              "  <tbody>\n",
              "    <tr>\n",
              "      <th>0</th>\n",
              "      <td>19</td>\n",
              "      <td>female</td>\n",
              "      <td>27.900</td>\n",
              "      <td>0</td>\n",
              "      <td>yes</td>\n",
              "      <td>southwest</td>\n",
              "      <td>16884.92400</td>\n",
              "    </tr>\n",
              "    <tr>\n",
              "      <th>1</th>\n",
              "      <td>18</td>\n",
              "      <td>male</td>\n",
              "      <td>33.770</td>\n",
              "      <td>1</td>\n",
              "      <td>no</td>\n",
              "      <td>southeast</td>\n",
              "      <td>1725.55230</td>\n",
              "    </tr>\n",
              "    <tr>\n",
              "      <th>2</th>\n",
              "      <td>28</td>\n",
              "      <td>male</td>\n",
              "      <td>33.000</td>\n",
              "      <td>3</td>\n",
              "      <td>no</td>\n",
              "      <td>southeast</td>\n",
              "      <td>4449.46200</td>\n",
              "    </tr>\n",
              "    <tr>\n",
              "      <th>3</th>\n",
              "      <td>33</td>\n",
              "      <td>male</td>\n",
              "      <td>22.705</td>\n",
              "      <td>0</td>\n",
              "      <td>no</td>\n",
              "      <td>northwest</td>\n",
              "      <td>21984.47061</td>\n",
              "    </tr>\n",
              "    <tr>\n",
              "      <th>4</th>\n",
              "      <td>32</td>\n",
              "      <td>male</td>\n",
              "      <td>28.880</td>\n",
              "      <td>0</td>\n",
              "      <td>no</td>\n",
              "      <td>northwest</td>\n",
              "      <td>3866.85520</td>\n",
              "    </tr>\n",
              "    <tr>\n",
              "      <th>...</th>\n",
              "      <td>...</td>\n",
              "      <td>...</td>\n",
              "      <td>...</td>\n",
              "      <td>...</td>\n",
              "      <td>...</td>\n",
              "      <td>...</td>\n",
              "      <td>...</td>\n",
              "    </tr>\n",
              "    <tr>\n",
              "      <th>1333</th>\n",
              "      <td>50</td>\n",
              "      <td>male</td>\n",
              "      <td>30.970</td>\n",
              "      <td>3</td>\n",
              "      <td>no</td>\n",
              "      <td>northwest</td>\n",
              "      <td>10600.54830</td>\n",
              "    </tr>\n",
              "    <tr>\n",
              "      <th>1334</th>\n",
              "      <td>18</td>\n",
              "      <td>female</td>\n",
              "      <td>31.920</td>\n",
              "      <td>0</td>\n",
              "      <td>no</td>\n",
              "      <td>northeast</td>\n",
              "      <td>2205.98080</td>\n",
              "    </tr>\n",
              "    <tr>\n",
              "      <th>1335</th>\n",
              "      <td>18</td>\n",
              "      <td>female</td>\n",
              "      <td>36.850</td>\n",
              "      <td>0</td>\n",
              "      <td>no</td>\n",
              "      <td>southeast</td>\n",
              "      <td>1629.83350</td>\n",
              "    </tr>\n",
              "    <tr>\n",
              "      <th>1336</th>\n",
              "      <td>21</td>\n",
              "      <td>female</td>\n",
              "      <td>25.800</td>\n",
              "      <td>0</td>\n",
              "      <td>no</td>\n",
              "      <td>southwest</td>\n",
              "      <td>2007.94500</td>\n",
              "    </tr>\n",
              "    <tr>\n",
              "      <th>1337</th>\n",
              "      <td>61</td>\n",
              "      <td>female</td>\n",
              "      <td>29.070</td>\n",
              "      <td>0</td>\n",
              "      <td>yes</td>\n",
              "      <td>northwest</td>\n",
              "      <td>29141.36030</td>\n",
              "    </tr>\n",
              "  </tbody>\n",
              "</table>\n",
              "<p>1338 rows × 7 columns</p>\n",
              "</div>\n",
              "    <div class=\"colab-df-buttons\">\n",
              "\n",
              "  <div class=\"colab-df-container\">\n",
              "    <button class=\"colab-df-convert\" onclick=\"convertToInteractive('df-945f0d8a-c4c5-4689-9fd4-d269e6a24775')\"\n",
              "            title=\"Convert this dataframe to an interactive table.\"\n",
              "            style=\"display:none;\">\n",
              "\n",
              "  <svg xmlns=\"http://www.w3.org/2000/svg\" height=\"24px\" viewBox=\"0 -960 960 960\">\n",
              "    <path d=\"M120-120v-720h720v720H120Zm60-500h600v-160H180v160Zm220 220h160v-160H400v160Zm0 220h160v-160H400v160ZM180-400h160v-160H180v160Zm440 0h160v-160H620v160ZM180-180h160v-160H180v160Zm440 0h160v-160H620v160Z\"/>\n",
              "  </svg>\n",
              "    </button>\n",
              "\n",
              "  <style>\n",
              "    .colab-df-container {\n",
              "      display:flex;\n",
              "      gap: 12px;\n",
              "    }\n",
              "\n",
              "    .colab-df-convert {\n",
              "      background-color: #E8F0FE;\n",
              "      border: none;\n",
              "      border-radius: 50%;\n",
              "      cursor: pointer;\n",
              "      display: none;\n",
              "      fill: #1967D2;\n",
              "      height: 32px;\n",
              "      padding: 0 0 0 0;\n",
              "      width: 32px;\n",
              "    }\n",
              "\n",
              "    .colab-df-convert:hover {\n",
              "      background-color: #E2EBFA;\n",
              "      box-shadow: 0px 1px 2px rgba(60, 64, 67, 0.3), 0px 1px 3px 1px rgba(60, 64, 67, 0.15);\n",
              "      fill: #174EA6;\n",
              "    }\n",
              "\n",
              "    .colab-df-buttons div {\n",
              "      margin-bottom: 4px;\n",
              "    }\n",
              "\n",
              "    [theme=dark] .colab-df-convert {\n",
              "      background-color: #3B4455;\n",
              "      fill: #D2E3FC;\n",
              "    }\n",
              "\n",
              "    [theme=dark] .colab-df-convert:hover {\n",
              "      background-color: #434B5C;\n",
              "      box-shadow: 0px 1px 3px 1px rgba(0, 0, 0, 0.15);\n",
              "      filter: drop-shadow(0px 1px 2px rgba(0, 0, 0, 0.3));\n",
              "      fill: #FFFFFF;\n",
              "    }\n",
              "  </style>\n",
              "\n",
              "    <script>\n",
              "      const buttonEl =\n",
              "        document.querySelector('#df-945f0d8a-c4c5-4689-9fd4-d269e6a24775 button.colab-df-convert');\n",
              "      buttonEl.style.display =\n",
              "        google.colab.kernel.accessAllowed ? 'block' : 'none';\n",
              "\n",
              "      async function convertToInteractive(key) {\n",
              "        const element = document.querySelector('#df-945f0d8a-c4c5-4689-9fd4-d269e6a24775');\n",
              "        const dataTable =\n",
              "          await google.colab.kernel.invokeFunction('convertToInteractive',\n",
              "                                                    [key], {});\n",
              "        if (!dataTable) return;\n",
              "\n",
              "        const docLinkHtml = 'Like what you see? Visit the ' +\n",
              "          '<a target=\"_blank\" href=https://colab.research.google.com/notebooks/data_table.ipynb>data table notebook</a>'\n",
              "          + ' to learn more about interactive tables.';\n",
              "        element.innerHTML = '';\n",
              "        dataTable['output_type'] = 'display_data';\n",
              "        await google.colab.output.renderOutput(dataTable, element);\n",
              "        const docLink = document.createElement('div');\n",
              "        docLink.innerHTML = docLinkHtml;\n",
              "        element.appendChild(docLink);\n",
              "      }\n",
              "    </script>\n",
              "  </div>\n",
              "\n",
              "\n",
              "<div id=\"df-426ffe6c-1a76-473e-8a77-782c724d8a67\">\n",
              "  <button class=\"colab-df-quickchart\" onclick=\"quickchart('df-426ffe6c-1a76-473e-8a77-782c724d8a67')\"\n",
              "            title=\"Suggest charts.\"\n",
              "            style=\"display:none;\">\n",
              "\n",
              "<svg xmlns=\"http://www.w3.org/2000/svg\" height=\"24px\"viewBox=\"0 0 24 24\"\n",
              "     width=\"24px\">\n",
              "    <g>\n",
              "        <path d=\"M19 3H5c-1.1 0-2 .9-2 2v14c0 1.1.9 2 2 2h14c1.1 0 2-.9 2-2V5c0-1.1-.9-2-2-2zM9 17H7v-7h2v7zm4 0h-2V7h2v10zm4 0h-2v-4h2v4z\"/>\n",
              "    </g>\n",
              "</svg>\n",
              "  </button>\n",
              "\n",
              "<style>\n",
              "  .colab-df-quickchart {\n",
              "      --bg-color: #E8F0FE;\n",
              "      --fill-color: #1967D2;\n",
              "      --hover-bg-color: #E2EBFA;\n",
              "      --hover-fill-color: #174EA6;\n",
              "      --disabled-fill-color: #AAA;\n",
              "      --disabled-bg-color: #DDD;\n",
              "  }\n",
              "\n",
              "  [theme=dark] .colab-df-quickchart {\n",
              "      --bg-color: #3B4455;\n",
              "      --fill-color: #D2E3FC;\n",
              "      --hover-bg-color: #434B5C;\n",
              "      --hover-fill-color: #FFFFFF;\n",
              "      --disabled-bg-color: #3B4455;\n",
              "      --disabled-fill-color: #666;\n",
              "  }\n",
              "\n",
              "  .colab-df-quickchart {\n",
              "    background-color: var(--bg-color);\n",
              "    border: none;\n",
              "    border-radius: 50%;\n",
              "    cursor: pointer;\n",
              "    display: none;\n",
              "    fill: var(--fill-color);\n",
              "    height: 32px;\n",
              "    padding: 0;\n",
              "    width: 32px;\n",
              "  }\n",
              "\n",
              "  .colab-df-quickchart:hover {\n",
              "    background-color: var(--hover-bg-color);\n",
              "    box-shadow: 0 1px 2px rgba(60, 64, 67, 0.3), 0 1px 3px 1px rgba(60, 64, 67, 0.15);\n",
              "    fill: var(--button-hover-fill-color);\n",
              "  }\n",
              "\n",
              "  .colab-df-quickchart-complete:disabled,\n",
              "  .colab-df-quickchart-complete:disabled:hover {\n",
              "    background-color: var(--disabled-bg-color);\n",
              "    fill: var(--disabled-fill-color);\n",
              "    box-shadow: none;\n",
              "  }\n",
              "\n",
              "  .colab-df-spinner {\n",
              "    border: 2px solid var(--fill-color);\n",
              "    border-color: transparent;\n",
              "    border-bottom-color: var(--fill-color);\n",
              "    animation:\n",
              "      spin 1s steps(1) infinite;\n",
              "  }\n",
              "\n",
              "  @keyframes spin {\n",
              "    0% {\n",
              "      border-color: transparent;\n",
              "      border-bottom-color: var(--fill-color);\n",
              "      border-left-color: var(--fill-color);\n",
              "    }\n",
              "    20% {\n",
              "      border-color: transparent;\n",
              "      border-left-color: var(--fill-color);\n",
              "      border-top-color: var(--fill-color);\n",
              "    }\n",
              "    30% {\n",
              "      border-color: transparent;\n",
              "      border-left-color: var(--fill-color);\n",
              "      border-top-color: var(--fill-color);\n",
              "      border-right-color: var(--fill-color);\n",
              "    }\n",
              "    40% {\n",
              "      border-color: transparent;\n",
              "      border-right-color: var(--fill-color);\n",
              "      border-top-color: var(--fill-color);\n",
              "    }\n",
              "    60% {\n",
              "      border-color: transparent;\n",
              "      border-right-color: var(--fill-color);\n",
              "    }\n",
              "    80% {\n",
              "      border-color: transparent;\n",
              "      border-right-color: var(--fill-color);\n",
              "      border-bottom-color: var(--fill-color);\n",
              "    }\n",
              "    90% {\n",
              "      border-color: transparent;\n",
              "      border-bottom-color: var(--fill-color);\n",
              "    }\n",
              "  }\n",
              "</style>\n",
              "\n",
              "  <script>\n",
              "    async function quickchart(key) {\n",
              "      const quickchartButtonEl =\n",
              "        document.querySelector('#' + key + ' button');\n",
              "      quickchartButtonEl.disabled = true;  // To prevent multiple clicks.\n",
              "      quickchartButtonEl.classList.add('colab-df-spinner');\n",
              "      try {\n",
              "        const charts = await google.colab.kernel.invokeFunction(\n",
              "            'suggestCharts', [key], {});\n",
              "      } catch (error) {\n",
              "        console.error('Error during call to suggestCharts:', error);\n",
              "      }\n",
              "      quickchartButtonEl.classList.remove('colab-df-spinner');\n",
              "      quickchartButtonEl.classList.add('colab-df-quickchart-complete');\n",
              "    }\n",
              "    (() => {\n",
              "      let quickchartButtonEl =\n",
              "        document.querySelector('#df-426ffe6c-1a76-473e-8a77-782c724d8a67 button');\n",
              "      quickchartButtonEl.style.display =\n",
              "        google.colab.kernel.accessAllowed ? 'block' : 'none';\n",
              "    })();\n",
              "  </script>\n",
              "</div>\n",
              "    </div>\n",
              "  </div>\n"
            ]
          },
          "metadata": {},
          "execution_count": 106
        }
      ]
    },
    {
      "cell_type": "code",
      "source": [
        "#we need to numerically encode everything before creating our model!\n",
        "insurance_one_hot = pd.get_dummies(insurance)\n",
        "insurance_one_hot.head()"
      ],
      "metadata": {
        "colab": {
          "base_uri": "https://localhost:8080/",
          "height": 226
        },
        "id": "K8E-YFGmwvlB",
        "outputId": "e2239ee4-02a7-4ed7-f734-c23dfafa776e"
      },
      "execution_count": null,
      "outputs": [
        {
          "output_type": "execute_result",
          "data": {
            "text/plain": [
              "   age     bmi  children      charges  sex_female  sex_male  smoker_no  \\\n",
              "0   19  27.900         0  16884.92400           1         0          0   \n",
              "1   18  33.770         1   1725.55230           0         1          1   \n",
              "2   28  33.000         3   4449.46200           0         1          1   \n",
              "3   33  22.705         0  21984.47061           0         1          1   \n",
              "4   32  28.880         0   3866.85520           0         1          1   \n",
              "\n",
              "   smoker_yes  region_northeast  region_northwest  region_southeast  \\\n",
              "0           1                 0                 0                 0   \n",
              "1           0                 0                 0                 1   \n",
              "2           0                 0                 0                 1   \n",
              "3           0                 0                 1                 0   \n",
              "4           0                 0                 1                 0   \n",
              "\n",
              "   region_southwest  \n",
              "0                 1  \n",
              "1                 0  \n",
              "2                 0  \n",
              "3                 0  \n",
              "4                 0  "
            ],
            "text/html": [
              "\n",
              "  <div id=\"df-1fa3dfa4-35e9-4b87-a0c6-48b2336d0a8d\" class=\"colab-df-container\">\n",
              "    <div>\n",
              "<style scoped>\n",
              "    .dataframe tbody tr th:only-of-type {\n",
              "        vertical-align: middle;\n",
              "    }\n",
              "\n",
              "    .dataframe tbody tr th {\n",
              "        vertical-align: top;\n",
              "    }\n",
              "\n",
              "    .dataframe thead th {\n",
              "        text-align: right;\n",
              "    }\n",
              "</style>\n",
              "<table border=\"1\" class=\"dataframe\">\n",
              "  <thead>\n",
              "    <tr style=\"text-align: right;\">\n",
              "      <th></th>\n",
              "      <th>age</th>\n",
              "      <th>bmi</th>\n",
              "      <th>children</th>\n",
              "      <th>charges</th>\n",
              "      <th>sex_female</th>\n",
              "      <th>sex_male</th>\n",
              "      <th>smoker_no</th>\n",
              "      <th>smoker_yes</th>\n",
              "      <th>region_northeast</th>\n",
              "      <th>region_northwest</th>\n",
              "      <th>region_southeast</th>\n",
              "      <th>region_southwest</th>\n",
              "    </tr>\n",
              "  </thead>\n",
              "  <tbody>\n",
              "    <tr>\n",
              "      <th>0</th>\n",
              "      <td>19</td>\n",
              "      <td>27.900</td>\n",
              "      <td>0</td>\n",
              "      <td>16884.92400</td>\n",
              "      <td>1</td>\n",
              "      <td>0</td>\n",
              "      <td>0</td>\n",
              "      <td>1</td>\n",
              "      <td>0</td>\n",
              "      <td>0</td>\n",
              "      <td>0</td>\n",
              "      <td>1</td>\n",
              "    </tr>\n",
              "    <tr>\n",
              "      <th>1</th>\n",
              "      <td>18</td>\n",
              "      <td>33.770</td>\n",
              "      <td>1</td>\n",
              "      <td>1725.55230</td>\n",
              "      <td>0</td>\n",
              "      <td>1</td>\n",
              "      <td>1</td>\n",
              "      <td>0</td>\n",
              "      <td>0</td>\n",
              "      <td>0</td>\n",
              "      <td>1</td>\n",
              "      <td>0</td>\n",
              "    </tr>\n",
              "    <tr>\n",
              "      <th>2</th>\n",
              "      <td>28</td>\n",
              "      <td>33.000</td>\n",
              "      <td>3</td>\n",
              "      <td>4449.46200</td>\n",
              "      <td>0</td>\n",
              "      <td>1</td>\n",
              "      <td>1</td>\n",
              "      <td>0</td>\n",
              "      <td>0</td>\n",
              "      <td>0</td>\n",
              "      <td>1</td>\n",
              "      <td>0</td>\n",
              "    </tr>\n",
              "    <tr>\n",
              "      <th>3</th>\n",
              "      <td>33</td>\n",
              "      <td>22.705</td>\n",
              "      <td>0</td>\n",
              "      <td>21984.47061</td>\n",
              "      <td>0</td>\n",
              "      <td>1</td>\n",
              "      <td>1</td>\n",
              "      <td>0</td>\n",
              "      <td>0</td>\n",
              "      <td>1</td>\n",
              "      <td>0</td>\n",
              "      <td>0</td>\n",
              "    </tr>\n",
              "    <tr>\n",
              "      <th>4</th>\n",
              "      <td>32</td>\n",
              "      <td>28.880</td>\n",
              "      <td>0</td>\n",
              "      <td>3866.85520</td>\n",
              "      <td>0</td>\n",
              "      <td>1</td>\n",
              "      <td>1</td>\n",
              "      <td>0</td>\n",
              "      <td>0</td>\n",
              "      <td>1</td>\n",
              "      <td>0</td>\n",
              "      <td>0</td>\n",
              "    </tr>\n",
              "  </tbody>\n",
              "</table>\n",
              "</div>\n",
              "    <div class=\"colab-df-buttons\">\n",
              "\n",
              "  <div class=\"colab-df-container\">\n",
              "    <button class=\"colab-df-convert\" onclick=\"convertToInteractive('df-1fa3dfa4-35e9-4b87-a0c6-48b2336d0a8d')\"\n",
              "            title=\"Convert this dataframe to an interactive table.\"\n",
              "            style=\"display:none;\">\n",
              "\n",
              "  <svg xmlns=\"http://www.w3.org/2000/svg\" height=\"24px\" viewBox=\"0 -960 960 960\">\n",
              "    <path d=\"M120-120v-720h720v720H120Zm60-500h600v-160H180v160Zm220 220h160v-160H400v160Zm0 220h160v-160H400v160ZM180-400h160v-160H180v160Zm440 0h160v-160H620v160ZM180-180h160v-160H180v160Zm440 0h160v-160H620v160Z\"/>\n",
              "  </svg>\n",
              "    </button>\n",
              "\n",
              "  <style>\n",
              "    .colab-df-container {\n",
              "      display:flex;\n",
              "      gap: 12px;\n",
              "    }\n",
              "\n",
              "    .colab-df-convert {\n",
              "      background-color: #E8F0FE;\n",
              "      border: none;\n",
              "      border-radius: 50%;\n",
              "      cursor: pointer;\n",
              "      display: none;\n",
              "      fill: #1967D2;\n",
              "      height: 32px;\n",
              "      padding: 0 0 0 0;\n",
              "      width: 32px;\n",
              "    }\n",
              "\n",
              "    .colab-df-convert:hover {\n",
              "      background-color: #E2EBFA;\n",
              "      box-shadow: 0px 1px 2px rgba(60, 64, 67, 0.3), 0px 1px 3px 1px rgba(60, 64, 67, 0.15);\n",
              "      fill: #174EA6;\n",
              "    }\n",
              "\n",
              "    .colab-df-buttons div {\n",
              "      margin-bottom: 4px;\n",
              "    }\n",
              "\n",
              "    [theme=dark] .colab-df-convert {\n",
              "      background-color: #3B4455;\n",
              "      fill: #D2E3FC;\n",
              "    }\n",
              "\n",
              "    [theme=dark] .colab-df-convert:hover {\n",
              "      background-color: #434B5C;\n",
              "      box-shadow: 0px 1px 3px 1px rgba(0, 0, 0, 0.15);\n",
              "      filter: drop-shadow(0px 1px 2px rgba(0, 0, 0, 0.3));\n",
              "      fill: #FFFFFF;\n",
              "    }\n",
              "  </style>\n",
              "\n",
              "    <script>\n",
              "      const buttonEl =\n",
              "        document.querySelector('#df-1fa3dfa4-35e9-4b87-a0c6-48b2336d0a8d button.colab-df-convert');\n",
              "      buttonEl.style.display =\n",
              "        google.colab.kernel.accessAllowed ? 'block' : 'none';\n",
              "\n",
              "      async function convertToInteractive(key) {\n",
              "        const element = document.querySelector('#df-1fa3dfa4-35e9-4b87-a0c6-48b2336d0a8d');\n",
              "        const dataTable =\n",
              "          await google.colab.kernel.invokeFunction('convertToInteractive',\n",
              "                                                    [key], {});\n",
              "        if (!dataTable) return;\n",
              "\n",
              "        const docLinkHtml = 'Like what you see? Visit the ' +\n",
              "          '<a target=\"_blank\" href=https://colab.research.google.com/notebooks/data_table.ipynb>data table notebook</a>'\n",
              "          + ' to learn more about interactive tables.';\n",
              "        element.innerHTML = '';\n",
              "        dataTable['output_type'] = 'display_data';\n",
              "        await google.colab.output.renderOutput(dataTable, element);\n",
              "        const docLink = document.createElement('div');\n",
              "        docLink.innerHTML = docLinkHtml;\n",
              "        element.appendChild(docLink);\n",
              "      }\n",
              "    </script>\n",
              "  </div>\n",
              "\n",
              "\n",
              "<div id=\"df-dcd5e004-cc7f-493b-b03d-f48ff3966ecc\">\n",
              "  <button class=\"colab-df-quickchart\" onclick=\"quickchart('df-dcd5e004-cc7f-493b-b03d-f48ff3966ecc')\"\n",
              "            title=\"Suggest charts.\"\n",
              "            style=\"display:none;\">\n",
              "\n",
              "<svg xmlns=\"http://www.w3.org/2000/svg\" height=\"24px\"viewBox=\"0 0 24 24\"\n",
              "     width=\"24px\">\n",
              "    <g>\n",
              "        <path d=\"M19 3H5c-1.1 0-2 .9-2 2v14c0 1.1.9 2 2 2h14c1.1 0 2-.9 2-2V5c0-1.1-.9-2-2-2zM9 17H7v-7h2v7zm4 0h-2V7h2v10zm4 0h-2v-4h2v4z\"/>\n",
              "    </g>\n",
              "</svg>\n",
              "  </button>\n",
              "\n",
              "<style>\n",
              "  .colab-df-quickchart {\n",
              "      --bg-color: #E8F0FE;\n",
              "      --fill-color: #1967D2;\n",
              "      --hover-bg-color: #E2EBFA;\n",
              "      --hover-fill-color: #174EA6;\n",
              "      --disabled-fill-color: #AAA;\n",
              "      --disabled-bg-color: #DDD;\n",
              "  }\n",
              "\n",
              "  [theme=dark] .colab-df-quickchart {\n",
              "      --bg-color: #3B4455;\n",
              "      --fill-color: #D2E3FC;\n",
              "      --hover-bg-color: #434B5C;\n",
              "      --hover-fill-color: #FFFFFF;\n",
              "      --disabled-bg-color: #3B4455;\n",
              "      --disabled-fill-color: #666;\n",
              "  }\n",
              "\n",
              "  .colab-df-quickchart {\n",
              "    background-color: var(--bg-color);\n",
              "    border: none;\n",
              "    border-radius: 50%;\n",
              "    cursor: pointer;\n",
              "    display: none;\n",
              "    fill: var(--fill-color);\n",
              "    height: 32px;\n",
              "    padding: 0;\n",
              "    width: 32px;\n",
              "  }\n",
              "\n",
              "  .colab-df-quickchart:hover {\n",
              "    background-color: var(--hover-bg-color);\n",
              "    box-shadow: 0 1px 2px rgba(60, 64, 67, 0.3), 0 1px 3px 1px rgba(60, 64, 67, 0.15);\n",
              "    fill: var(--button-hover-fill-color);\n",
              "  }\n",
              "\n",
              "  .colab-df-quickchart-complete:disabled,\n",
              "  .colab-df-quickchart-complete:disabled:hover {\n",
              "    background-color: var(--disabled-bg-color);\n",
              "    fill: var(--disabled-fill-color);\n",
              "    box-shadow: none;\n",
              "  }\n",
              "\n",
              "  .colab-df-spinner {\n",
              "    border: 2px solid var(--fill-color);\n",
              "    border-color: transparent;\n",
              "    border-bottom-color: var(--fill-color);\n",
              "    animation:\n",
              "      spin 1s steps(1) infinite;\n",
              "  }\n",
              "\n",
              "  @keyframes spin {\n",
              "    0% {\n",
              "      border-color: transparent;\n",
              "      border-bottom-color: var(--fill-color);\n",
              "      border-left-color: var(--fill-color);\n",
              "    }\n",
              "    20% {\n",
              "      border-color: transparent;\n",
              "      border-left-color: var(--fill-color);\n",
              "      border-top-color: var(--fill-color);\n",
              "    }\n",
              "    30% {\n",
              "      border-color: transparent;\n",
              "      border-left-color: var(--fill-color);\n",
              "      border-top-color: var(--fill-color);\n",
              "      border-right-color: var(--fill-color);\n",
              "    }\n",
              "    40% {\n",
              "      border-color: transparent;\n",
              "      border-right-color: var(--fill-color);\n",
              "      border-top-color: var(--fill-color);\n",
              "    }\n",
              "    60% {\n",
              "      border-color: transparent;\n",
              "      border-right-color: var(--fill-color);\n",
              "    }\n",
              "    80% {\n",
              "      border-color: transparent;\n",
              "      border-right-color: var(--fill-color);\n",
              "      border-bottom-color: var(--fill-color);\n",
              "    }\n",
              "    90% {\n",
              "      border-color: transparent;\n",
              "      border-bottom-color: var(--fill-color);\n",
              "    }\n",
              "  }\n",
              "</style>\n",
              "\n",
              "  <script>\n",
              "    async function quickchart(key) {\n",
              "      const quickchartButtonEl =\n",
              "        document.querySelector('#' + key + ' button');\n",
              "      quickchartButtonEl.disabled = true;  // To prevent multiple clicks.\n",
              "      quickchartButtonEl.classList.add('colab-df-spinner');\n",
              "      try {\n",
              "        const charts = await google.colab.kernel.invokeFunction(\n",
              "            'suggestCharts', [key], {});\n",
              "      } catch (error) {\n",
              "        console.error('Error during call to suggestCharts:', error);\n",
              "      }\n",
              "      quickchartButtonEl.classList.remove('colab-df-spinner');\n",
              "      quickchartButtonEl.classList.add('colab-df-quickchart-complete');\n",
              "    }\n",
              "    (() => {\n",
              "      let quickchartButtonEl =\n",
              "        document.querySelector('#df-dcd5e004-cc7f-493b-b03d-f48ff3966ecc button');\n",
              "      quickchartButtonEl.style.display =\n",
              "        google.colab.kernel.accessAllowed ? 'block' : 'none';\n",
              "    })();\n",
              "  </script>\n",
              "</div>\n",
              "    </div>\n",
              "  </div>\n"
            ]
          },
          "metadata": {},
          "execution_count": 109
        }
      ]
    },
    {
      "cell_type": "code",
      "source": [
        "#creating feasures and labels tensors\n",
        "insurance_features = tf.constant(insurance_one_hot.loc[:, insurance_one_hot.columns != \"charges\"])\n",
        "insurance_labels = tf.constant(insurance_one_hot[\"charges\"])\n",
        "insurance_features, insurance_labels\n"
      ],
      "metadata": {
        "colab": {
          "base_uri": "https://localhost:8080/"
        },
        "id": "QgEkex5eyA56",
        "outputId": "9184e821-da93-4272-8d0f-716edcee4703"
      },
      "execution_count": null,
      "outputs": [
        {
          "output_type": "execute_result",
          "data": {
            "text/plain": [
              "(<tf.Tensor: shape=(1338, 11), dtype=float64, numpy=\n",
              " array([[19.  , 27.9 ,  0.  , ...,  0.  ,  0.  ,  1.  ],\n",
              "        [18.  , 33.77,  1.  , ...,  0.  ,  1.  ,  0.  ],\n",
              "        [28.  , 33.  ,  3.  , ...,  0.  ,  1.  ,  0.  ],\n",
              "        ...,\n",
              "        [18.  , 36.85,  0.  , ...,  0.  ,  1.  ,  0.  ],\n",
              "        [21.  , 25.8 ,  0.  , ...,  0.  ,  0.  ,  1.  ],\n",
              "        [61.  , 29.07,  0.  , ...,  1.  ,  0.  ,  0.  ]])>,\n",
              " <tf.Tensor: shape=(1338,), dtype=float64, numpy=\n",
              " array([16884.924 ,  1725.5523,  4449.462 , ...,  1629.8335,  2007.945 ,\n",
              "        29141.3603])>)"
            ]
          },
          "metadata": {},
          "execution_count": 111
        }
      ]
    },
    {
      "cell_type": "code",
      "source": [
        "#we're going to need an extra axis on those labels...\n",
        "insurance_labels = tf.expand_dims(insurance_labels, axis=1)\n",
        "insurance_labels"
      ],
      "metadata": {
        "colab": {
          "base_uri": "https://localhost:8080/"
        },
        "id": "Ja6weE_Jy6GF",
        "outputId": "12b7a266-aa9d-41c6-afdd-4039158747fe"
      },
      "execution_count": null,
      "outputs": [
        {
          "output_type": "execute_result",
          "data": {
            "text/plain": [
              "<tf.Tensor: shape=(1338, 1), dtype=float64, numpy=\n",
              "array([[16884.924 ],\n",
              "       [ 1725.5523],\n",
              "       [ 4449.462 ],\n",
              "       ...,\n",
              "       [ 1629.8335],\n",
              "       [ 2007.945 ],\n",
              "       [29141.3603]])>"
            ]
          },
          "metadata": {},
          "execution_count": 114
        }
      ]
    },
    {
      "cell_type": "code",
      "source": [
        "#create train and test datasets\n",
        "eightyP = round(len(insurance_features)*.8)\n",
        "ins_feat_train = insurance_features[:eightyP]\n",
        "ins_feat_test = insurance_features[eightyP:]\n",
        "ins_label_train = insurance_labels[:eightyP]\n",
        "ins_label_test = insurance_labels[eightyP:]\n",
        "print(\"Split into\", eightyP, \"training items and\", len(ins_feat_test), \"tests.\")"
      ],
      "metadata": {
        "colab": {
          "base_uri": "https://localhost:8080/"
        },
        "id": "qh5WdZnOzjCY",
        "outputId": "e6be2bb7-dd41-4a29-d208-ef902460d151"
      },
      "execution_count": null,
      "outputs": [
        {
          "output_type": "stream",
          "name": "stdout",
          "text": [
            "Split into 1070 training items and 268 tests.\n"
          ]
        }
      ]
    },
    {
      "cell_type": "code",
      "source": [
        "#create, compile, and fit model\n",
        "ins_model = tf.keras.Sequential(name=\"insurance_model\")\n",
        "ins_model.add(tf.keras.layers.Dense(11, activation=\"relu\", input_shape=[11, 1], name=\"inputs\"))\n",
        "ins_model.add(tf.keras.layers.Dense(20, activation=\"relu\", name=\"hidden_1\"))\n",
        "ins_model.add(tf.keras.layers.Dense(20, activation=\"relu\", name=\"hidden_2\"))\n",
        "ins_model.add(tf.keras.layers.Dense(1, name=\"output\"))\n",
        "\n",
        "ins_model.compile(loss=tf.keras.losses.mse,\n",
        "                  optimizer=tf.keras.optimizers.Adam(),\n",
        "                  metrics=[\"mae\", \"mse\"])\n",
        "\n",
        "ins_model.fit(ins_feat_train, ins_label_train, epochs=100)"
      ],
      "metadata": {
        "colab": {
          "base_uri": "https://localhost:8080/"
        },
        "id": "FiXVom6A46KO",
        "outputId": "c5020a65-1044-4933-83d6-555ed6407628"
      },
      "execution_count": null,
      "outputs": [
        {
          "output_type": "stream",
          "name": "stdout",
          "text": [
            "Epoch 1/100\n",
            "34/34 [==============================] - 1s 3ms/step - loss: 322297120.0000 - mae: 13340.6445 - mse: 322297120.0000\n",
            "Epoch 2/100\n",
            "34/34 [==============================] - 0s 3ms/step - loss: 322118144.0000 - mae: 13334.3574 - mse: 322118144.0000\n",
            "Epoch 3/100\n",
            "34/34 [==============================] - 0s 2ms/step - loss: 321761856.0000 - mae: 13321.7119 - mse: 321761856.0000\n",
            "Epoch 4/100\n",
            "34/34 [==============================] - 0s 2ms/step - loss: 321072896.0000 - mae: 13297.0361 - mse: 321072896.0000\n",
            "Epoch 5/100\n",
            "34/34 [==============================] - 0s 2ms/step - loss: 319844256.0000 - mae: 13252.0205 - mse: 319844256.0000\n",
            "Epoch 6/100\n",
            "34/34 [==============================] - 0s 3ms/step - loss: 317801728.0000 - mae: 13176.4746 - mse: 317801728.0000\n",
            "Epoch 7/100\n",
            "34/34 [==============================] - 0s 2ms/step - loss: 314712992.0000 - mae: 13058.4443 - mse: 314712992.0000\n",
            "Epoch 8/100\n",
            "34/34 [==============================] - 0s 2ms/step - loss: 310388448.0000 - mae: 12887.2939 - mse: 310388448.0000\n",
            "Epoch 9/100\n",
            "34/34 [==============================] - 0s 2ms/step - loss: 304890080.0000 - mae: 12668.6924 - mse: 304890080.0000\n",
            "Epoch 10/100\n",
            "34/34 [==============================] - 0s 2ms/step - loss: 298650240.0000 - mae: 12420.8535 - mse: 298650240.0000\n",
            "Epoch 11/100\n",
            "34/34 [==============================] - 0s 2ms/step - loss: 292276672.0000 - mae: 12212.2324 - mse: 292276672.0000\n",
            "Epoch 12/100\n",
            "34/34 [==============================] - 0s 3ms/step - loss: 286687648.0000 - mae: 12140.0127 - mse: 286687648.0000\n",
            "Epoch 13/100\n",
            "34/34 [==============================] - 0s 2ms/step - loss: 282616352.0000 - mae: 12155.0361 - mse: 282616352.0000\n",
            "Epoch 14/100\n",
            "34/34 [==============================] - 0s 2ms/step - loss: 280174688.0000 - mae: 12183.9619 - mse: 280174688.0000\n",
            "Epoch 15/100\n",
            "34/34 [==============================] - 0s 3ms/step - loss: 279014048.0000 - mae: 12212.3223 - mse: 279014048.0000\n",
            "Epoch 16/100\n",
            "34/34 [==============================] - 0s 3ms/step - loss: 278299584.0000 - mae: 12215.3252 - mse: 278299584.0000\n",
            "Epoch 17/100\n",
            "34/34 [==============================] - 0s 2ms/step - loss: 277770496.0000 - mae: 12204.3066 - mse: 277770496.0000\n",
            "Epoch 18/100\n",
            "34/34 [==============================] - 0s 2ms/step - loss: 277240224.0000 - mae: 12195.3545 - mse: 277240224.0000\n",
            "Epoch 19/100\n",
            "34/34 [==============================] - 0s 2ms/step - loss: 276734592.0000 - mae: 12182.3301 - mse: 276734592.0000\n",
            "Epoch 20/100\n",
            "34/34 [==============================] - 0s 2ms/step - loss: 276225472.0000 - mae: 12161.6807 - mse: 276225472.0000\n",
            "Epoch 21/100\n",
            "34/34 [==============================] - 0s 3ms/step - loss: 275702560.0000 - mae: 12140.8770 - mse: 275702560.0000\n",
            "Epoch 22/100\n",
            "34/34 [==============================] - 0s 3ms/step - loss: 275165568.0000 - mae: 12125.9434 - mse: 275165568.0000\n",
            "Epoch 23/100\n",
            "34/34 [==============================] - 0s 4ms/step - loss: 274599872.0000 - mae: 12114.4258 - mse: 274599872.0000\n",
            "Epoch 24/100\n",
            "34/34 [==============================] - 0s 4ms/step - loss: 274023936.0000 - mae: 12087.5537 - mse: 274023936.0000\n",
            "Epoch 25/100\n",
            "34/34 [==============================] - 0s 4ms/step - loss: 273443648.0000 - mae: 12074.5215 - mse: 273443648.0000\n",
            "Epoch 26/100\n",
            "34/34 [==============================] - 0s 4ms/step - loss: 272767712.0000 - mae: 12041.0684 - mse: 272767712.0000\n",
            "Epoch 27/100\n",
            "34/34 [==============================] - 0s 4ms/step - loss: 272094432.0000 - mae: 12021.6680 - mse: 272094432.0000\n",
            "Epoch 28/100\n",
            "34/34 [==============================] - 0s 4ms/step - loss: 271375616.0000 - mae: 11995.1924 - mse: 271375616.0000\n",
            "Epoch 29/100\n",
            "34/34 [==============================] - 0s 4ms/step - loss: 270623328.0000 - mae: 11963.1963 - mse: 270623328.0000\n",
            "Epoch 30/100\n",
            "34/34 [==============================] - 0s 4ms/step - loss: 269805312.0000 - mae: 11934.2500 - mse: 269805312.0000\n",
            "Epoch 31/100\n",
            "34/34 [==============================] - 0s 3ms/step - loss: 268928928.0000 - mae: 11903.5771 - mse: 268928928.0000\n",
            "Epoch 32/100\n",
            "34/34 [==============================] - 0s 4ms/step - loss: 267975104.0000 - mae: 11865.1152 - mse: 267975104.0000\n",
            "Epoch 33/100\n",
            "34/34 [==============================] - 0s 3ms/step - loss: 266952896.0000 - mae: 11829.8916 - mse: 266952896.0000\n",
            "Epoch 34/100\n",
            "34/34 [==============================] - 0s 4ms/step - loss: 265831968.0000 - mae: 11784.4697 - mse: 265831968.0000\n",
            "Epoch 35/100\n",
            "34/34 [==============================] - 0s 4ms/step - loss: 264592288.0000 - mae: 11738.1387 - mse: 264592288.0000\n",
            "Epoch 36/100\n",
            "34/34 [==============================] - 0s 4ms/step - loss: 263220416.0000 - mae: 11685.3359 - mse: 263220416.0000\n",
            "Epoch 37/100\n",
            "34/34 [==============================] - 0s 4ms/step - loss: 261721296.0000 - mae: 11626.5996 - mse: 261721296.0000\n",
            "Epoch 38/100\n",
            "34/34 [==============================] - 0s 4ms/step - loss: 260007040.0000 - mae: 11558.4756 - mse: 260007040.0000\n",
            "Epoch 39/100\n",
            "34/34 [==============================] - 0s 4ms/step - loss: 258095248.0000 - mae: 11488.5537 - mse: 258095248.0000\n",
            "Epoch 40/100\n",
            "34/34 [==============================] - 0s 4ms/step - loss: 255902064.0000 - mae: 11398.3350 - mse: 255902064.0000\n",
            "Epoch 41/100\n",
            "34/34 [==============================] - 0s 4ms/step - loss: 253446096.0000 - mae: 11300.6670 - mse: 253446096.0000\n",
            "Epoch 42/100\n",
            "34/34 [==============================] - 0s 4ms/step - loss: 250575600.0000 - mae: 11192.3877 - mse: 250575600.0000\n",
            "Epoch 43/100\n",
            "34/34 [==============================] - 0s 4ms/step - loss: 247335984.0000 - mae: 11075.3896 - mse: 247335984.0000\n",
            "Epoch 44/100\n",
            "34/34 [==============================] - 0s 4ms/step - loss: 243500656.0000 - mae: 10929.6182 - mse: 243500656.0000\n",
            "Epoch 45/100\n",
            "34/34 [==============================] - 0s 4ms/step - loss: 239172480.0000 - mae: 10769.6055 - mse: 239172480.0000\n",
            "Epoch 46/100\n",
            "34/34 [==============================] - 0s 4ms/step - loss: 234125872.0000 - mae: 10587.0840 - mse: 234125872.0000\n",
            "Epoch 47/100\n",
            "34/34 [==============================] - 0s 3ms/step - loss: 228438480.0000 - mae: 10391.5811 - mse: 228438480.0000\n",
            "Epoch 48/100\n",
            "34/34 [==============================] - 0s 3ms/step - loss: 221819280.0000 - mae: 10156.0176 - mse: 221819280.0000\n",
            "Epoch 49/100\n",
            "34/34 [==============================] - 0s 3ms/step - loss: 214561936.0000 - mae: 9899.1582 - mse: 214561936.0000\n",
            "Epoch 50/100\n",
            "34/34 [==============================] - 0s 3ms/step - loss: 206667216.0000 - mae: 9641.9062 - mse: 206667216.0000\n",
            "Epoch 51/100\n",
            "34/34 [==============================] - 0s 3ms/step - loss: 198601664.0000 - mae: 9400.5029 - mse: 198601664.0000\n",
            "Epoch 52/100\n",
            "34/34 [==============================] - 0s 4ms/step - loss: 190433024.0000 - mae: 9153.7295 - mse: 190433024.0000\n",
            "Epoch 53/100\n",
            "34/34 [==============================] - 0s 4ms/step - loss: 182437904.0000 - mae: 8925.0752 - mse: 182437904.0000\n",
            "Epoch 54/100\n",
            "34/34 [==============================] - 0s 4ms/step - loss: 175020368.0000 - mae: 8793.0146 - mse: 175020368.0000\n",
            "Epoch 55/100\n",
            "34/34 [==============================] - 0s 4ms/step - loss: 168023552.0000 - mae: 8611.6836 - mse: 168023552.0000\n",
            "Epoch 56/100\n",
            "34/34 [==============================] - 0s 4ms/step - loss: 162188000.0000 - mae: 8549.5732 - mse: 162188000.0000\n",
            "Epoch 57/100\n",
            "34/34 [==============================] - 0s 4ms/step - loss: 157173664.0000 - mae: 8507.9443 - mse: 157173664.0000\n",
            "Epoch 58/100\n",
            "34/34 [==============================] - 0s 4ms/step - loss: 153131264.0000 - mae: 8483.4912 - mse: 153131264.0000\n",
            "Epoch 59/100\n",
            "34/34 [==============================] - 0s 3ms/step - loss: 150006464.0000 - mae: 8498.7891 - mse: 150006464.0000\n",
            "Epoch 60/100\n",
            "34/34 [==============================] - 0s 2ms/step - loss: 147805792.0000 - mae: 8565.1123 - mse: 147805792.0000\n",
            "Epoch 61/100\n",
            "34/34 [==============================] - 0s 3ms/step - loss: 146345728.0000 - mae: 8638.6465 - mse: 146345728.0000\n",
            "Epoch 62/100\n",
            "34/34 [==============================] - 0s 3ms/step - loss: 145127680.0000 - mae: 8645.1895 - mse: 145127680.0000\n",
            "Epoch 63/100\n",
            "34/34 [==============================] - 0s 2ms/step - loss: 144453360.0000 - mae: 8729.2588 - mse: 144453360.0000\n",
            "Epoch 64/100\n",
            "34/34 [==============================] - 0s 2ms/step - loss: 144000416.0000 - mae: 8775.1699 - mse: 144000416.0000\n",
            "Epoch 65/100\n",
            "34/34 [==============================] - 0s 3ms/step - loss: 143713232.0000 - mae: 8858.7949 - mse: 143713232.0000\n",
            "Epoch 66/100\n",
            "34/34 [==============================] - 0s 2ms/step - loss: 143507680.0000 - mae: 8869.2500 - mse: 143507680.0000\n",
            "Epoch 67/100\n",
            "34/34 [==============================] - 0s 3ms/step - loss: 143463040.0000 - mae: 8924.2900 - mse: 143463040.0000\n",
            "Epoch 68/100\n",
            "34/34 [==============================] - 0s 2ms/step - loss: 143365952.0000 - mae: 8913.4609 - mse: 143365952.0000\n",
            "Epoch 69/100\n",
            "34/34 [==============================] - 0s 3ms/step - loss: 143380304.0000 - mae: 8965.7178 - mse: 143380304.0000\n",
            "Epoch 70/100\n",
            "34/34 [==============================] - 0s 2ms/step - loss: 143378096.0000 - mae: 8929.0049 - mse: 143378096.0000\n",
            "Epoch 71/100\n",
            "34/34 [==============================] - 0s 3ms/step - loss: 143251200.0000 - mae: 8992.2129 - mse: 143251200.0000\n",
            "Epoch 72/100\n",
            "34/34 [==============================] - 0s 2ms/step - loss: 143221024.0000 - mae: 8996.7480 - mse: 143221024.0000\n",
            "Epoch 73/100\n",
            "34/34 [==============================] - 0s 3ms/step - loss: 143223312.0000 - mae: 9016.1973 - mse: 143223312.0000\n",
            "Epoch 74/100\n",
            "34/34 [==============================] - 0s 2ms/step - loss: 143194640.0000 - mae: 8990.1699 - mse: 143194640.0000\n",
            "Epoch 75/100\n",
            "34/34 [==============================] - 0s 3ms/step - loss: 143233232.0000 - mae: 9015.7480 - mse: 143233232.0000\n",
            "Epoch 76/100\n",
            "34/34 [==============================] - 0s 2ms/step - loss: 143293984.0000 - mae: 8977.1982 - mse: 143293984.0000\n",
            "Epoch 77/100\n",
            "34/34 [==============================] - 0s 3ms/step - loss: 143190016.0000 - mae: 9018.0537 - mse: 143190016.0000\n",
            "Epoch 78/100\n",
            "34/34 [==============================] - 0s 2ms/step - loss: 143246080.0000 - mae: 8960.7197 - mse: 143246080.0000\n",
            "Epoch 79/100\n",
            "34/34 [==============================] - 0s 2ms/step - loss: 143171296.0000 - mae: 8970.4424 - mse: 143171296.0000\n",
            "Epoch 80/100\n",
            "34/34 [==============================] - 0s 3ms/step - loss: 143209472.0000 - mae: 8996.2559 - mse: 143209472.0000\n",
            "Epoch 81/100\n",
            "34/34 [==============================] - 0s 2ms/step - loss: 143180464.0000 - mae: 9012.5068 - mse: 143180464.0000\n",
            "Epoch 82/100\n",
            "34/34 [==============================] - 0s 2ms/step - loss: 143376512.0000 - mae: 9099.0381 - mse: 143376512.0000\n",
            "Epoch 83/100\n",
            "34/34 [==============================] - 0s 2ms/step - loss: 143212160.0000 - mae: 9010.5371 - mse: 143212160.0000\n",
            "Epoch 84/100\n",
            "34/34 [==============================] - 0s 3ms/step - loss: 143157904.0000 - mae: 9004.0518 - mse: 143157904.0000\n",
            "Epoch 85/100\n",
            "34/34 [==============================] - 0s 2ms/step - loss: 143173520.0000 - mae: 9005.3975 - mse: 143173520.0000\n",
            "Epoch 86/100\n",
            "34/34 [==============================] - 0s 2ms/step - loss: 143159296.0000 - mae: 9039.7217 - mse: 143159296.0000\n",
            "Epoch 87/100\n",
            "34/34 [==============================] - 0s 2ms/step - loss: 143206624.0000 - mae: 9008.0820 - mse: 143206624.0000\n",
            "Epoch 88/100\n",
            "34/34 [==============================] - 0s 2ms/step - loss: 143149072.0000 - mae: 9030.6475 - mse: 143149072.0000\n",
            "Epoch 89/100\n",
            "34/34 [==============================] - 0s 2ms/step - loss: 143153120.0000 - mae: 9008.2744 - mse: 143153120.0000\n",
            "Epoch 90/100\n",
            "34/34 [==============================] - 0s 2ms/step - loss: 143181472.0000 - mae: 9032.0967 - mse: 143181472.0000\n",
            "Epoch 91/100\n",
            "34/34 [==============================] - 0s 2ms/step - loss: 143152160.0000 - mae: 9013.2090 - mse: 143152160.0000\n",
            "Epoch 92/100\n",
            "34/34 [==============================] - 0s 2ms/step - loss: 143172832.0000 - mae: 9008.3740 - mse: 143172832.0000\n",
            "Epoch 93/100\n",
            "34/34 [==============================] - 0s 2ms/step - loss: 143176480.0000 - mae: 8987.5791 - mse: 143176480.0000\n",
            "Epoch 94/100\n",
            "34/34 [==============================] - 0s 3ms/step - loss: 143174848.0000 - mae: 8990.6367 - mse: 143174848.0000\n",
            "Epoch 95/100\n",
            "34/34 [==============================] - 0s 3ms/step - loss: 143173568.0000 - mae: 9029.9609 - mse: 143173568.0000\n",
            "Epoch 96/100\n",
            "34/34 [==============================] - 0s 3ms/step - loss: 143154976.0000 - mae: 9030.4189 - mse: 143154976.0000\n",
            "Epoch 97/100\n",
            "34/34 [==============================] - 0s 2ms/step - loss: 143225504.0000 - mae: 8986.3848 - mse: 143225504.0000\n",
            "Epoch 98/100\n",
            "34/34 [==============================] - 0s 2ms/step - loss: 143173072.0000 - mae: 8999.2656 - mse: 143173072.0000\n",
            "Epoch 99/100\n",
            "34/34 [==============================] - 0s 2ms/step - loss: 143157232.0000 - mae: 8997.8408 - mse: 143157232.0000\n",
            "Epoch 100/100\n",
            "34/34 [==============================] - 0s 2ms/step - loss: 143173872.0000 - mae: 8997.4199 - mse: 143173872.0000\n"
          ]
        },
        {
          "output_type": "execute_result",
          "data": {
            "text/plain": [
              "<keras.src.callbacks.History at 0x7f5232a6c700>"
            ]
          },
          "metadata": {},
          "execution_count": 125
        }
      ]
    },
    {
      "cell_type": "code",
      "source": [
        "#BUT there's an even better way to split these up before putting into tensors... sklearn!\n",
        "X = insurance_one_hot.drop(\"charges\", axis=1)\n",
        "y = insurance_one_hot[\"charges\"]\n",
        "\n",
        "from sklearn.model_selection import train_test_split\n",
        "X_train, X_test, y_train, y_test = train_test_split(X, y, test_size=.2, random_state=42)\n",
        "len(X), len(X_train), len(X_test)"
      ],
      "metadata": {
        "colab": {
          "base_uri": "https://localhost:8080/"
        },
        "id": "_RFcYkAO3WgL",
        "outputId": "b0b5cf27-696d-4006-d723-e6bd3937a8a1"
      },
      "execution_count": null,
      "outputs": [
        {
          "output_type": "execute_result",
          "data": {
            "text/plain": [
              "(1338, 1070, 268)"
            ]
          },
          "metadata": {},
          "execution_count": 126
        }
      ]
    },
    {
      "cell_type": "code",
      "source": [
        "#Let's rebuild a new network\n",
        "tf.random.set_seed(42)\n",
        "insurance_model=tf.keras.Sequential()\n",
        "insurance_model.add(tf.keras.layers.Dense(10))\n",
        "insurance_model.add(tf.keras.layers.Dense(1))\n",
        "\n",
        "insurance_model.compile(loss=tf.keras.losses.mae,\n",
        "                        optimizer=tf.keras.optimizers.SGD(),\n",
        "                        metrics=[\"mae\", \"mse\"])\n",
        "\n",
        "#note that we're not even reformatting these into tensors!\n",
        "insurance_model.fit(X_train, y_train, epochs=100)"
      ],
      "metadata": {
        "colab": {
          "base_uri": "https://localhost:8080/"
        },
        "id": "g54Zg4Byz4CJ",
        "outputId": "abc1f4fa-a588-48b6-bc72-2fa50d97be88"
      },
      "execution_count": null,
      "outputs": [
        {
          "output_type": "stream",
          "name": "stdout",
          "text": [
            "Epoch 1/100\n",
            "34/34 [==============================] - 1s 4ms/step - loss: 8660.1143 - mae: 8660.1143 - mse: 188040208.0000\n",
            "Epoch 2/100\n",
            "34/34 [==============================] - 0s 4ms/step - loss: 7878.3652 - mae: 7878.3652 - mse: 167368320.0000\n",
            "Epoch 3/100\n",
            "34/34 [==============================] - 0s 2ms/step - loss: 7551.7539 - mae: 7551.7539 - mse: 162448704.0000\n",
            "Epoch 4/100\n",
            "34/34 [==============================] - 0s 2ms/step - loss: 7703.4653 - mae: 7703.4653 - mse: 166975744.0000\n",
            "Epoch 5/100\n",
            "34/34 [==============================] - 0s 2ms/step - loss: 7623.0283 - mae: 7623.0283 - mse: 164363232.0000\n",
            "Epoch 6/100\n",
            "34/34 [==============================] - 0s 2ms/step - loss: 7612.5151 - mae: 7612.5151 - mse: 162191040.0000\n",
            "Epoch 7/100\n",
            "34/34 [==============================] - 0s 2ms/step - loss: 7580.2319 - mae: 7580.2319 - mse: 161324176.0000\n",
            "Epoch 8/100\n",
            "34/34 [==============================] - 0s 2ms/step - loss: 7758.7295 - mae: 7758.7295 - mse: 162117840.0000\n",
            "Epoch 9/100\n",
            "34/34 [==============================] - 0s 2ms/step - loss: 7487.6943 - mae: 7487.6943 - mse: 161988096.0000\n",
            "Epoch 10/100\n",
            "34/34 [==============================] - 0s 2ms/step - loss: 7725.0791 - mae: 7725.0791 - mse: 166884144.0000\n",
            "Epoch 11/100\n",
            "34/34 [==============================] - 0s 2ms/step - loss: 7535.3442 - mae: 7535.3442 - mse: 160652736.0000\n",
            "Epoch 12/100\n",
            "34/34 [==============================] - 0s 2ms/step - loss: 7681.7720 - mae: 7681.7720 - mse: 166966192.0000\n",
            "Epoch 13/100\n",
            "34/34 [==============================] - 0s 2ms/step - loss: 7675.7515 - mae: 7675.7515 - mse: 168452752.0000\n",
            "Epoch 14/100\n",
            "34/34 [==============================] - 0s 2ms/step - loss: 7716.8311 - mae: 7716.8311 - mse: 160998752.0000\n",
            "Epoch 15/100\n",
            "34/34 [==============================] - 0s 2ms/step - loss: 7500.7354 - mae: 7500.7354 - mse: 156279392.0000\n",
            "Epoch 16/100\n",
            "34/34 [==============================] - 0s 2ms/step - loss: 7738.9985 - mae: 7738.9985 - mse: 162070096.0000\n",
            "Epoch 17/100\n",
            "34/34 [==============================] - 0s 2ms/step - loss: 7566.8857 - mae: 7566.8857 - mse: 160704720.0000\n",
            "Epoch 18/100\n",
            "34/34 [==============================] - 0s 2ms/step - loss: 7726.5938 - mae: 7726.5938 - mse: 163048416.0000\n",
            "Epoch 19/100\n",
            "34/34 [==============================] - 0s 2ms/step - loss: 7805.5078 - mae: 7805.5078 - mse: 169321440.0000\n",
            "Epoch 20/100\n",
            "34/34 [==============================] - 0s 2ms/step - loss: 7869.5820 - mae: 7869.5820 - mse: 163077360.0000\n",
            "Epoch 21/100\n",
            "34/34 [==============================] - 0s 2ms/step - loss: 7533.9312 - mae: 7533.9312 - mse: 157162752.0000\n",
            "Epoch 22/100\n",
            "34/34 [==============================] - 0s 2ms/step - loss: 7900.7544 - mae: 7900.7544 - mse: 164640000.0000\n",
            "Epoch 23/100\n",
            "34/34 [==============================] - 0s 2ms/step - loss: 7593.0806 - mae: 7593.0806 - mse: 153857600.0000\n",
            "Epoch 24/100\n",
            "34/34 [==============================] - 0s 2ms/step - loss: 7586.4404 - mae: 7586.4404 - mse: 158273872.0000\n",
            "Epoch 25/100\n",
            "34/34 [==============================] - 0s 2ms/step - loss: 7595.1079 - mae: 7595.1079 - mse: 161721632.0000\n",
            "Epoch 26/100\n",
            "34/34 [==============================] - 0s 2ms/step - loss: 7642.2124 - mae: 7642.2124 - mse: 159729888.0000\n",
            "Epoch 27/100\n",
            "34/34 [==============================] - 0s 2ms/step - loss: 7556.8999 - mae: 7556.8999 - mse: 158482304.0000\n",
            "Epoch 28/100\n",
            "34/34 [==============================] - 0s 2ms/step - loss: 7312.3530 - mae: 7312.3530 - mse: 153219200.0000\n",
            "Epoch 29/100\n",
            "34/34 [==============================] - 0s 2ms/step - loss: 7683.7886 - mae: 7683.7886 - mse: 154274320.0000\n",
            "Epoch 30/100\n",
            "34/34 [==============================] - 0s 2ms/step - loss: 7488.3853 - mae: 7488.3853 - mse: 153118816.0000\n",
            "Epoch 31/100\n",
            "34/34 [==============================] - 0s 2ms/step - loss: 7623.4575 - mae: 7623.4575 - mse: 158928384.0000\n",
            "Epoch 32/100\n",
            "34/34 [==============================] - 0s 2ms/step - loss: 7518.8135 - mae: 7518.8135 - mse: 158827040.0000\n",
            "Epoch 33/100\n",
            "34/34 [==============================] - 0s 2ms/step - loss: 7420.0547 - mae: 7420.0547 - mse: 157565296.0000\n",
            "Epoch 34/100\n",
            "34/34 [==============================] - 0s 2ms/step - loss: 7421.0127 - mae: 7421.0127 - mse: 152365232.0000\n",
            "Epoch 35/100\n",
            "34/34 [==============================] - 0s 2ms/step - loss: 7596.5776 - mae: 7596.5776 - mse: 155318624.0000\n",
            "Epoch 36/100\n",
            "34/34 [==============================] - 0s 2ms/step - loss: 7517.8613 - mae: 7517.8613 - mse: 154374864.0000\n",
            "Epoch 37/100\n",
            "34/34 [==============================] - 0s 2ms/step - loss: 7634.3369 - mae: 7634.3369 - mse: 154678624.0000\n",
            "Epoch 38/100\n",
            "34/34 [==============================] - 0s 2ms/step - loss: 7489.8052 - mae: 7489.8052 - mse: 157495392.0000\n",
            "Epoch 39/100\n",
            "34/34 [==============================] - 0s 2ms/step - loss: 7446.8091 - mae: 7446.8091 - mse: 153163216.0000\n",
            "Epoch 40/100\n",
            "34/34 [==============================] - 0s 2ms/step - loss: 7316.8062 - mae: 7316.8062 - mse: 148320256.0000\n",
            "Epoch 41/100\n",
            "34/34 [==============================] - 0s 3ms/step - loss: 7725.2100 - mae: 7725.2100 - mse: 154454928.0000\n",
            "Epoch 42/100\n",
            "34/34 [==============================] - 0s 3ms/step - loss: 7694.6748 - mae: 7694.6748 - mse: 157703056.0000\n",
            "Epoch 43/100\n",
            "34/34 [==============================] - 0s 3ms/step - loss: 7730.6562 - mae: 7730.6562 - mse: 156110576.0000\n",
            "Epoch 44/100\n",
            "34/34 [==============================] - 0s 3ms/step - loss: 7497.5928 - mae: 7497.5928 - mse: 152717424.0000\n",
            "Epoch 45/100\n",
            "34/34 [==============================] - 0s 3ms/step - loss: 7517.7979 - mae: 7517.7979 - mse: 150958864.0000\n",
            "Epoch 46/100\n",
            "34/34 [==============================] - 0s 3ms/step - loss: 7445.9507 - mae: 7445.9507 - mse: 151410992.0000\n",
            "Epoch 47/100\n",
            "34/34 [==============================] - 0s 3ms/step - loss: 7431.1221 - mae: 7431.1221 - mse: 151572432.0000\n",
            "Epoch 48/100\n",
            "34/34 [==============================] - 0s 3ms/step - loss: 7610.4146 - mae: 7610.4146 - mse: 152862768.0000\n",
            "Epoch 49/100\n",
            "34/34 [==============================] - 0s 3ms/step - loss: 7533.7451 - mae: 7533.7451 - mse: 151798816.0000\n",
            "Epoch 50/100\n",
            "34/34 [==============================] - 0s 3ms/step - loss: 7480.6099 - mae: 7480.6099 - mse: 154400512.0000\n",
            "Epoch 51/100\n",
            "34/34 [==============================] - 0s 3ms/step - loss: 7417.1865 - mae: 7417.1865 - mse: 158179424.0000\n",
            "Epoch 52/100\n",
            "34/34 [==============================] - 0s 3ms/step - loss: 7329.6060 - mae: 7329.6060 - mse: 152561568.0000\n",
            "Epoch 53/100\n",
            "34/34 [==============================] - 0s 3ms/step - loss: 7619.1001 - mae: 7619.1001 - mse: 152937152.0000\n",
            "Epoch 54/100\n",
            "34/34 [==============================] - 0s 3ms/step - loss: 7342.0435 - mae: 7342.0435 - mse: 148501200.0000\n",
            "Epoch 55/100\n",
            "34/34 [==============================] - 0s 3ms/step - loss: 7261.0371 - mae: 7261.0371 - mse: 147525056.0000\n",
            "Epoch 56/100\n",
            "34/34 [==============================] - 0s 3ms/step - loss: 7376.3359 - mae: 7376.3359 - mse: 141254624.0000\n",
            "Epoch 57/100\n",
            "34/34 [==============================] - 0s 3ms/step - loss: 7412.7656 - mae: 7412.7656 - mse: 153017152.0000\n",
            "Epoch 58/100\n",
            "34/34 [==============================] - 0s 3ms/step - loss: 7513.3823 - mae: 7513.3823 - mse: 151092672.0000\n",
            "Epoch 59/100\n",
            "34/34 [==============================] - 0s 2ms/step - loss: 7574.9087 - mae: 7574.9087 - mse: 152207168.0000\n",
            "Epoch 60/100\n",
            "34/34 [==============================] - 0s 2ms/step - loss: 7319.8662 - mae: 7319.8662 - mse: 151358208.0000\n",
            "Epoch 61/100\n",
            "34/34 [==============================] - 0s 3ms/step - loss: 7545.4258 - mae: 7545.4258 - mse: 152480192.0000\n",
            "Epoch 62/100\n",
            "34/34 [==============================] - 0s 3ms/step - loss: 7336.6167 - mae: 7336.6167 - mse: 145996384.0000\n",
            "Epoch 63/100\n",
            "34/34 [==============================] - 0s 3ms/step - loss: 7387.4253 - mae: 7387.4253 - mse: 146670144.0000\n",
            "Epoch 64/100\n",
            "34/34 [==============================] - 0s 3ms/step - loss: 7369.5073 - mae: 7369.5073 - mse: 140406416.0000\n",
            "Epoch 65/100\n",
            "34/34 [==============================] - 0s 2ms/step - loss: 7507.1519 - mae: 7507.1519 - mse: 150669712.0000\n",
            "Epoch 66/100\n",
            "34/34 [==============================] - 0s 3ms/step - loss: 7573.6108 - mae: 7573.6108 - mse: 152646128.0000\n",
            "Epoch 67/100\n",
            "34/34 [==============================] - 0s 3ms/step - loss: 7414.1211 - mae: 7414.1211 - mse: 144695504.0000\n",
            "Epoch 68/100\n",
            "34/34 [==============================] - 0s 3ms/step - loss: 7505.9712 - mae: 7505.9712 - mse: 148441872.0000\n",
            "Epoch 69/100\n",
            "34/34 [==============================] - 0s 3ms/step - loss: 7467.1216 - mae: 7467.1216 - mse: 146185696.0000\n",
            "Epoch 70/100\n",
            "34/34 [==============================] - 0s 3ms/step - loss: 7505.5527 - mae: 7505.5527 - mse: 148206544.0000\n",
            "Epoch 71/100\n",
            "34/34 [==============================] - 0s 2ms/step - loss: 7320.3267 - mae: 7320.3267 - mse: 145036080.0000\n",
            "Epoch 72/100\n",
            "34/34 [==============================] - 0s 3ms/step - loss: 7349.7319 - mae: 7349.7319 - mse: 144573456.0000\n",
            "Epoch 73/100\n",
            "34/34 [==============================] - 0s 3ms/step - loss: 7295.6719 - mae: 7295.6719 - mse: 144233920.0000\n",
            "Epoch 74/100\n",
            "34/34 [==============================] - 0s 3ms/step - loss: 7501.8311 - mae: 7501.8311 - mse: 144669824.0000\n",
            "Epoch 75/100\n",
            "34/34 [==============================] - 0s 3ms/step - loss: 7206.1714 - mae: 7206.1714 - mse: 143281680.0000\n",
            "Epoch 76/100\n",
            "34/34 [==============================] - 0s 2ms/step - loss: 7181.0005 - mae: 7181.0005 - mse: 139654304.0000\n",
            "Epoch 77/100\n",
            "34/34 [==============================] - 0s 3ms/step - loss: 7490.6455 - mae: 7490.6455 - mse: 142976320.0000\n",
            "Epoch 78/100\n",
            "34/34 [==============================] - 0s 3ms/step - loss: 7346.6411 - mae: 7346.6411 - mse: 141531568.0000\n",
            "Epoch 79/100\n",
            "34/34 [==============================] - 0s 3ms/step - loss: 7468.9995 - mae: 7468.9995 - mse: 137047088.0000\n",
            "Epoch 80/100\n",
            "34/34 [==============================] - 0s 3ms/step - loss: 7206.7744 - mae: 7206.7744 - mse: 139256016.0000\n",
            "Epoch 81/100\n",
            "34/34 [==============================] - 0s 2ms/step - loss: 7300.5166 - mae: 7300.5166 - mse: 140966400.0000\n",
            "Epoch 82/100\n",
            "34/34 [==============================] - 0s 2ms/step - loss: 7267.2144 - mae: 7267.2144 - mse: 138210272.0000\n",
            "Epoch 83/100\n",
            "34/34 [==============================] - 0s 3ms/step - loss: 7490.8379 - mae: 7490.8379 - mse: 139110864.0000\n",
            "Epoch 84/100\n",
            "34/34 [==============================] - 0s 3ms/step - loss: 7391.3496 - mae: 7391.3496 - mse: 142020080.0000\n",
            "Epoch 85/100\n",
            "34/34 [==============================] - 0s 2ms/step - loss: 7306.3457 - mae: 7306.3457 - mse: 144842768.0000\n",
            "Epoch 86/100\n",
            "34/34 [==============================] - 0s 3ms/step - loss: 7251.4844 - mae: 7251.4844 - mse: 143462256.0000\n",
            "Epoch 87/100\n",
            "34/34 [==============================] - 0s 2ms/step - loss: 7257.0923 - mae: 7257.0923 - mse: 140813120.0000\n",
            "Epoch 88/100\n",
            "34/34 [==============================] - 0s 3ms/step - loss: 7353.6948 - mae: 7353.6948 - mse: 140125776.0000\n",
            "Epoch 89/100\n",
            "34/34 [==============================] - 0s 2ms/step - loss: 7360.6592 - mae: 7360.6592 - mse: 141255024.0000\n",
            "Epoch 90/100\n",
            "34/34 [==============================] - 0s 3ms/step - loss: 7109.9478 - mae: 7109.9478 - mse: 138576880.0000\n",
            "Epoch 91/100\n",
            "34/34 [==============================] - 0s 3ms/step - loss: 7304.7339 - mae: 7304.7339 - mse: 136276304.0000\n",
            "Epoch 92/100\n",
            "34/34 [==============================] - 0s 3ms/step - loss: 7398.8687 - mae: 7398.8687 - mse: 139837504.0000\n",
            "Epoch 93/100\n",
            "34/34 [==============================] - 0s 3ms/step - loss: 7409.1040 - mae: 7409.1040 - mse: 141794144.0000\n",
            "Epoch 94/100\n",
            "34/34 [==============================] - 0s 3ms/step - loss: 7206.6445 - mae: 7206.6445 - mse: 135188544.0000\n",
            "Epoch 95/100\n",
            "34/34 [==============================] - 0s 3ms/step - loss: 7470.2090 - mae: 7470.2090 - mse: 136819216.0000\n",
            "Epoch 96/100\n",
            "34/34 [==============================] - 0s 3ms/step - loss: 7052.5625 - mae: 7052.5625 - mse: 131919264.0000\n",
            "Epoch 97/100\n",
            "34/34 [==============================] - 0s 3ms/step - loss: 7160.9292 - mae: 7160.9292 - mse: 134880448.0000\n",
            "Epoch 98/100\n",
            "34/34 [==============================] - 0s 2ms/step - loss: 7443.8354 - mae: 7443.8354 - mse: 135695136.0000\n",
            "Epoch 99/100\n",
            "34/34 [==============================] - 0s 3ms/step - loss: 7283.1631 - mae: 7283.1631 - mse: 138846048.0000\n",
            "Epoch 100/100\n",
            "34/34 [==============================] - 0s 3ms/step - loss: 7119.0615 - mae: 7119.0615 - mse: 134372896.0000\n"
          ]
        },
        {
          "output_type": "execute_result",
          "data": {
            "text/plain": [
              "<keras.src.callbacks.History at 0x7f5232ca1090>"
            ]
          },
          "metadata": {},
          "execution_count": 129
        }
      ]
    },
    {
      "cell_type": "code",
      "source": [
        "#how'd we do? evaluate using the test data\n",
        "insurance_model.evaluate(X_test, y_test)"
      ],
      "metadata": {
        "colab": {
          "base_uri": "https://localhost:8080/"
        },
        "id": "Lfx4QvU952SV",
        "outputId": "70404f2f-353c-49da-9972-8d65c954ba19"
      },
      "execution_count": null,
      "outputs": [
        {
          "output_type": "stream",
          "name": "stdout",
          "text": [
            "9/9 [==============================] - 1s 5ms/step - loss: 8570.4639 - mae: 8570.4639 - mse: 107033112.0000\n"
          ]
        },
        {
          "output_type": "execute_result",
          "data": {
            "text/plain": [
              "[8570.4638671875, 8570.4638671875, 107033112.0]"
            ]
          },
          "metadata": {},
          "execution_count": 130
        }
      ]
    },
    {
      "cell_type": "code",
      "source": [
        "#how bad is \"off by 7000\"?\n",
        "7000/y_train.median(), 7000/y_train.mean()"
      ],
      "metadata": {
        "colab": {
          "base_uri": "https://localhost:8080/"
        },
        "id": "BvBDP87K6TJG",
        "outputId": "736edc6e-922e-4cd6-b717-594e1cded76c"
      },
      "execution_count": null,
      "outputs": [
        {
          "output_type": "execute_result",
          "data": {
            "text/plain": [
              "(0.7310367424183997, 0.5244981967210136)"
            ]
          },
          "metadata": {},
          "execution_count": 133
        }
      ]
    },
    {
      "cell_type": "markdown",
      "source": [
        "so... we need to improve our model..."
      ],
      "metadata": {
        "id": "_wK45hPH6m8W"
      }
    },
    {
      "cell_type": "code",
      "source": [
        "#my attempt\n",
        "tf.random.set_seed(42)\n",
        "matt_model_1=tf.keras.Sequential()\n",
        "matt_model_1.add(tf.keras.layers.Dense(20, activation=\"relu\"))\n",
        "matt_model_1.add(tf.keras.layers.Dense(20, activation=\"relu\"))\n",
        "matt_model_1.add(tf.keras.layers.Dense(1))\n",
        "\n",
        "matt_model_1.compile(loss=tf.keras.losses.mse, optimizer=tf.keras.optimizers.Adam(), metrics=[\"mae\",\"mse\"])\n",
        "\n",
        "hist_1 = matt_model_1.fit(X_train, y_train, epochs=100, verbose=0)\n",
        "\n",
        "matt_model_1.evaluate(X_test, y_test)"
      ],
      "metadata": {
        "colab": {
          "base_uri": "https://localhost:8080/"
        },
        "id": "Q1Cqsglx6ci9",
        "outputId": "e82a99d4-9b4d-4263-c3b2-b86ec44d9e9e"
      },
      "execution_count": null,
      "outputs": [
        {
          "output_type": "stream",
          "name": "stdout",
          "text": [
            "9/9 [==============================] - 0s 4ms/step - loss: 122504608.0000 - mae: 8956.0996 - mse: 122504608.0000\n"
          ]
        },
        {
          "output_type": "execute_result",
          "data": {
            "text/plain": [
              "[122504608.0, 8956.099609375, 122504608.0]"
            ]
          },
          "metadata": {},
          "execution_count": 144
        }
      ]
    },
    {
      "cell_type": "code",
      "source": [
        "#mse sucks here, I guess. 2nd attempt\n",
        "tf.random.set_seed(42)\n",
        "matt_model_2=tf.keras.Sequential()\n",
        "matt_model_2.add(tf.keras.layers.Dense(20, activation=\"relu\"))\n",
        "matt_model_2.add(tf.keras.layers.Dense(20, activation=\"relu\"))\n",
        "matt_model_2.add(tf.keras.layers.Dense(1))\n",
        "\n",
        "matt_model_2.compile(loss=tf.keras.losses.mae, optimizer=tf.keras.optimizers.Adam(), metrics=[\"mae\",\"mse\"])\n",
        "\n",
        "hist_2 = matt_model_2.fit(X_train, y_train, epochs=100, verbose=0)\n",
        "\n",
        "matt_model_2.evaluate(X_test, y_test)"
      ],
      "metadata": {
        "colab": {
          "base_uri": "https://localhost:8080/"
        },
        "id": "LRTpNXFZ7f_H",
        "outputId": "0b87588a-9342-4210-cef6-20e9c239acc7"
      },
      "execution_count": null,
      "outputs": [
        {
          "output_type": "stream",
          "name": "stdout",
          "text": [
            "9/9 [==============================] - 0s 3ms/step - loss: 6308.1582 - mae: 6308.1582 - mse: 156478240.0000\n"
          ]
        },
        {
          "output_type": "execute_result",
          "data": {
            "text/plain": [
              "[6308.158203125, 6308.158203125, 156478240.0]"
            ]
          },
          "metadata": {},
          "execution_count": 145
        }
      ]
    },
    {
      "cell_type": "code",
      "source": [
        "#what would SGD do?\n",
        "tf.random.set_seed(42)\n",
        "matt_model_3=tf.keras.Sequential()\n",
        "matt_model_3.add(tf.keras.layers.Dense(20, activation=\"relu\"))\n",
        "matt_model_3.add(tf.keras.layers.Dense(20, activation=\"relu\"))\n",
        "matt_model_3.add(tf.keras.layers.Dense(1))\n",
        "\n",
        "matt_model_3.compile(loss=tf.keras.losses.mae, optimizer=tf.keras.optimizers.SGD(), metrics=[\"mae\",\"mse\"])\n",
        "\n",
        "hist_3 = matt_model_3.fit(X_train, y_train, epochs=100, verbose=0)\n",
        "\n",
        "matt_model_3.evaluate(X_test, y_test)"
      ],
      "metadata": {
        "colab": {
          "base_uri": "https://localhost:8080/"
        },
        "id": "Sqe6gTdJ8ARL",
        "outputId": "bb4e36e4-d40c-470f-eede-07db2d27e8e7"
      },
      "execution_count": null,
      "outputs": [
        {
          "output_type": "stream",
          "name": "stdout",
          "text": [
            "9/9 [==============================] - 0s 3ms/step - loss: 8649.1738 - mae: 8649.1738 - mse: 166297936.0000\n"
          ]
        },
        {
          "output_type": "execute_result",
          "data": {
            "text/plain": [
              "[8649.173828125, 8649.173828125, 166297936.0]"
            ]
          },
          "metadata": {},
          "execution_count": 146
        }
      ]
    },
    {
      "cell_type": "code",
      "source": [
        "#nah, Adam's better. More layers, and longer\n",
        "tf.random.set_seed(42)\n",
        "matt_model_4=tf.keras.Sequential()\n",
        "matt_model_4.add(tf.keras.layers.Dense(100, activation=\"relu\"))\n",
        "matt_model_4.add(tf.keras.layers.Dense(20, activation=\"relu\"))\n",
        "matt_model_4.add(tf.keras.layers.Dense(1))\n",
        "\n",
        "matt_model_4.compile(loss=tf.keras.losses.mae, optimizer=tf.keras.optimizers.Adam(), metrics=[\"mae\",\"mse\"])\n",
        "\n",
        "hist_4 = matt_model_4.fit(X_train, y_train, epochs=200, verbose=0)\n",
        "\n",
        "matt_model_4.evaluate(X_test, y_test)"
      ],
      "metadata": {
        "colab": {
          "base_uri": "https://localhost:8080/"
        },
        "id": "nCLDJC4h8mQi",
        "outputId": "e02db58b-ae39-4663-cfad-e87fb36717d9"
      },
      "execution_count": null,
      "outputs": [
        {
          "output_type": "stream",
          "name": "stdout",
          "text": [
            "9/9 [==============================] - 1s 6ms/step - loss: 3331.1685 - mae: 3331.1685 - mse: 45864584.0000\n"
          ]
        },
        {
          "output_type": "execute_result",
          "data": {
            "text/plain": [
              "[3331.16845703125, 3331.16845703125, 45864584.0]"
            ]
          },
          "metadata": {},
          "execution_count": 147
        }
      ]
    },
    {
      "cell_type": "code",
      "source": [
        "#does the activation impact anything?\n",
        "tf.random.set_seed(42)\n",
        "matt_model_5=tf.keras.Sequential()\n",
        "matt_model_5.add(tf.keras.layers.Dense(100))\n",
        "matt_model_5.add(tf.keras.layers.Dense(20))\n",
        "matt_model_5.add(tf.keras.layers.Dense(1))\n",
        "\n",
        "matt_model_5.compile(loss=tf.keras.losses.mae, optimizer=tf.keras.optimizers.Adam(), metrics=[\"mae\",\"mse\"])\n",
        "\n",
        "hist_5 = matt_model_5.fit(X_train, y_train, epochs=200, verbose=0)\n",
        "\n",
        "matt_model_5.evaluate(X_test, y_test)"
      ],
      "metadata": {
        "colab": {
          "base_uri": "https://localhost:8080/"
        },
        "id": "f9pIouJC8-QV",
        "outputId": "b148c9b0-9a36-4b6a-b3e0-5f4fb49f1560"
      },
      "execution_count": null,
      "outputs": [
        {
          "output_type": "stream",
          "name": "stdout",
          "text": [
            "9/9 [==============================] - 0s 9ms/step - loss: 3379.0808 - mae: 3379.0808 - mse: 37602284.0000\n"
          ]
        },
        {
          "output_type": "execute_result",
          "data": {
            "text/plain": [
              "[3379.080810546875, 3379.080810546875, 37602284.0]"
            ]
          },
          "metadata": {},
          "execution_count": 148
        }
      ]
    },
    {
      "cell_type": "code",
      "source": [
        "#what are those history variables? the loss curves!\n",
        "pd.DataFrame(hist_1.history).plot()\n",
        "plt.ylabel(\"loss\")\n",
        "plt.xlabel(\"epochs\")"
      ],
      "metadata": {
        "colab": {
          "base_uri": "https://localhost:8080/",
          "height": 482
        },
        "id": "PQQD7n2B9QED",
        "outputId": "e797df83-584c-47af-9d1d-4c6cf7159418"
      },
      "execution_count": null,
      "outputs": [
        {
          "output_type": "execute_result",
          "data": {
            "text/plain": [
              "Text(0.5, 0, 'epochs')"
            ]
          },
          "metadata": {},
          "execution_count": 150
        },
        {
          "output_type": "display_data",
          "data": {
            "text/plain": [
              "<Figure size 640x480 with 1 Axes>"
            ],
            "image/png": "[encoded data removed]"
          },
          "metadata": {}
        }
      ]
    },
    {
      "cell_type": "code",
      "source": [
        "#what about our best - try #4?\n",
        "pd.DataFrame(hist_4.history).plot()\n",
        "plt.ylabel(\"loss\")\n",
        "plt.xlabel(\"epochs\")"
      ],
      "metadata": {
        "colab": {
          "base_uri": "https://localhost:8080/",
          "height": 482
        },
        "id": "G9MrY9Z5-G_S",
        "outputId": "fa7da4c3-80d8-41a5-f31b-91093ab86337"
      },
      "execution_count": null,
      "outputs": [
        {
          "output_type": "execute_result",
          "data": {
            "text/plain": [
              "Text(0.5, 0, 'epochs')"
            ]
          },
          "metadata": {},
          "execution_count": 151
        },
        {
          "output_type": "display_data",
          "data": {
            "text/plain": [
              "<Figure size 640x480 with 1 Axes>"
            ],
            "image/png": "[encoded data removed]"
          },
          "metadata": {}
        }
      ]
    },
    {
      "cell_type": "code",
      "source": [
        "#what about the worst one?\n",
        "pd.DataFrame(hist_3.history).plot()\n",
        "plt.ylabel(\"loss\")\n",
        "plt.xlabel(\"epochs\")"
      ],
      "metadata": {
        "colab": {
          "base_uri": "https://localhost:8080/",
          "height": 482
        },
        "id": "1RXoZWWd-ZvV",
        "outputId": "e76a2fb9-5301-4d96-f621-645c112da644"
      },
      "execution_count": null,
      "outputs": [
        {
          "output_type": "execute_result",
          "data": {
            "text/plain": [
              "Text(0.5, 0, 'epochs')"
            ]
          },
          "metadata": {},
          "execution_count": 152
        },
        {
          "output_type": "display_data",
          "data": {
            "text/plain": [
              "<Figure size 640x480 with 1 Axes>"
            ],
            "image/png": "[encoded data removed]"
          },
          "metadata": {}
        }
      ]
    },
    {
      "cell_type": "markdown",
      "source": [
        "How do we know where to stop? It's complex... but TensorFlow helps us find that using the `EarlyStopping Callback`, to stop training once a metric has flatlined\n",
        "\n",
        "## Normalization and Standardization\n",
        "How can we *scale* our features so that differences in ranges of values don't impact our model (e.g. age vs bmi)"
      ],
      "metadata": {
        "id": "GYUNaEug-uuE"
      }
    },
    {
      "cell_type": "code",
      "source": [
        "X[\"age\"].plot(kind=\"hist\")\n",
        "X[\"bmi\"].plot(kind=\"hist\")\n",
        "X[\"children\"].plot(kind=\"hist\")"
      ],
      "metadata": {
        "colab": {
          "base_uri": "https://localhost:8080/",
          "height": 451
        },
        "id": "bg8O3Rmb-o3l",
        "outputId": "e040bbd2-32c0-404e-8bcf-f281e7f191b0"
      },
      "execution_count": null,
      "outputs": [
        {
          "output_type": "execute_result",
          "data": {
            "text/plain": [
              "<Axes: ylabel='Frequency'>"
            ]
          },
          "metadata": {},
          "execution_count": 154
        },
        {
          "output_type": "display_data",
          "data": {
            "text/plain": [
              "<Figure size 640x480 with 1 Axes>"
            ],
            "image/png": "[encoded data removed]"
          },
          "metadata": {}
        }
      ]
    },
    {
      "cell_type": "markdown",
      "source": [
        "Normalization changes our values to a common range of values.\n",
        "* **Normalization/Scale** - converts all values between 0 and 1 while preserving distribution, default scaler used by neural networks\n",
        "* **Standardization** - removes the mean and divides each value by standard deviation, gives us more of a normal distribution to reduce the effect of outliers\n",
        "\n",
        "`MinMaxScaler` vs `StandardScaler`"
      ],
      "metadata": {
        "id": "IPIgBVOa_7xG"
      }
    },
    {
      "cell_type": "code",
      "source": [
        "#starting from scratch\n",
        "import pandas as pd\n",
        "import matplotlib.pyplot as plt\n",
        "import tensorflow as tf\n",
        "\n",
        "insurance = pd.read_csv(\"https://raw.githubusercontent.com/stedy/Machine-Learning-with-R-datasets/master/insurance.csv\")\n",
        "insurance"
      ],
      "metadata": {
        "colab": {
          "base_uri": "https://localhost:8080/",
          "height": 424
        },
        "id": "R8JaXtkQ_1oY",
        "outputId": "3539e429-4b2d-45ad-dedd-d78393b188e6"
      },
      "execution_count": null,
      "outputs": [
        {
          "output_type": "execute_result",
          "data": {
            "text/plain": [
              "      age     sex     bmi  children smoker     region      charges\n",
              "0      19  female  27.900         0    yes  southwest  16884.92400\n",
              "1      18    male  33.770         1     no  southeast   1725.55230\n",
              "2      28    male  33.000         3     no  southeast   4449.46200\n",
              "3      33    male  22.705         0     no  northwest  21984.47061\n",
              "4      32    male  28.880         0     no  northwest   3866.85520\n",
              "...   ...     ...     ...       ...    ...        ...          ...\n",
              "1333   50    male  30.970         3     no  northwest  10600.54830\n",
              "1334   18  female  31.920         0     no  northeast   2205.98080\n",
              "1335   18  female  36.850         0     no  southeast   1629.83350\n",
              "1336   21  female  25.800         0     no  southwest   2007.94500\n",
              "1337   61  female  29.070         0    yes  northwest  29141.36030\n",
              "\n",
              "[1338 rows x 7 columns]"
            ],
            "text/html": [
              "\n",
              "  <div id=\"df-3d52c475-ccf8-4223-98ec-a65925a34d24\" class=\"colab-df-container\">\n",
              "    <div>\n",
              "<style scoped>\n",
              "    .dataframe tbody tr th:only-of-type {\n",
              "        vertical-align: middle;\n",
              "    }\n",
              "\n",
              "    .dataframe tbody tr th {\n",
              "        vertical-align: top;\n",
              "    }\n",
              "\n",
              "    .dataframe thead th {\n",
              "        text-align: right;\n",
              "    }\n",
              "</style>\n",
              "<table border=\"1\" class=\"dataframe\">\n",
              "  <thead>\n",
              "    <tr style=\"text-align: right;\">\n",
              "      <th></th>\n",
              "      <th>age</th>\n",
              "      <th>sex</th>\n",
              "      <th>bmi</th>\n",
              "      <th>children</th>\n",
              "      <th>smoker</th>\n",
              "      <th>region</th>\n",
              "      <th>charges</th>\n",
              "    </tr>\n",
              "  </thead>\n",
              "  <tbody>\n",
              "    <tr>\n",
              "      <th>0</th>\n",
              "      <td>19</td>\n",
              "      <td>female</td>\n",
              "      <td>27.900</td>\n",
              "      <td>0</td>\n",
              "      <td>yes</td>\n",
              "      <td>southwest</td>\n",
              "      <td>16884.92400</td>\n",
              "    </tr>\n",
              "    <tr>\n",
              "      <th>1</th>\n",
              "      <td>18</td>\n",
              "      <td>male</td>\n",
              "      <td>33.770</td>\n",
              "      <td>1</td>\n",
              "      <td>no</td>\n",
              "      <td>southeast</td>\n",
              "      <td>1725.55230</td>\n",
              "    </tr>\n",
              "    <tr>\n",
              "      <th>2</th>\n",
              "      <td>28</td>\n",
              "      <td>male</td>\n",
              "      <td>33.000</td>\n",
              "      <td>3</td>\n",
              "      <td>no</td>\n",
              "      <td>southeast</td>\n",
              "      <td>4449.46200</td>\n",
              "    </tr>\n",
              "    <tr>\n",
              "      <th>3</th>\n",
              "      <td>33</td>\n",
              "      <td>male</td>\n",
              "      <td>22.705</td>\n",
              "      <td>0</td>\n",
              "      <td>no</td>\n",
              "      <td>northwest</td>\n",
              "      <td>21984.47061</td>\n",
              "    </tr>\n",
              "    <tr>\n",
              "      <th>4</th>\n",
              "      <td>32</td>\n",
              "      <td>male</td>\n",
              "      <td>28.880</td>\n",
              "      <td>0</td>\n",
              "      <td>no</td>\n",
              "      <td>northwest</td>\n",
              "      <td>3866.85520</td>\n",
              "    </tr>\n",
              "    <tr>\n",
              "      <th>...</th>\n",
              "      <td>...</td>\n",
              "      <td>...</td>\n",
              "      <td>...</td>\n",
              "      <td>...</td>\n",
              "      <td>...</td>\n",
              "      <td>...</td>\n",
              "      <td>...</td>\n",
              "    </tr>\n",
              "    <tr>\n",
              "      <th>1333</th>\n",
              "      <td>50</td>\n",
              "      <td>male</td>\n",
              "      <td>30.970</td>\n",
              "      <td>3</td>\n",
              "      <td>no</td>\n",
              "      <td>northwest</td>\n",
              "      <td>10600.54830</td>\n",
              "    </tr>\n",
              "    <tr>\n",
              "      <th>1334</th>\n",
              "      <td>18</td>\n",
              "      <td>female</td>\n",
              "      <td>31.920</td>\n",
              "      <td>0</td>\n",
              "      <td>no</td>\n",
              "      <td>northeast</td>\n",
              "      <td>2205.98080</td>\n",
              "    </tr>\n",
              "    <tr>\n",
              "      <th>1335</th>\n",
              "      <td>18</td>\n",
              "      <td>female</td>\n",
              "      <td>36.850</td>\n",
              "      <td>0</td>\n",
              "      <td>no</td>\n",
              "      <td>southeast</td>\n",
              "      <td>1629.83350</td>\n",
              "    </tr>\n",
              "    <tr>\n",
              "      <th>1336</th>\n",
              "      <td>21</td>\n",
              "      <td>female</td>\n",
              "      <td>25.800</td>\n",
              "      <td>0</td>\n",
              "      <td>no</td>\n",
              "      <td>southwest</td>\n",
              "      <td>2007.94500</td>\n",
              "    </tr>\n",
              "    <tr>\n",
              "      <th>1337</th>\n",
              "      <td>61</td>\n",
              "      <td>female</td>\n",
              "      <td>29.070</td>\n",
              "      <td>0</td>\n",
              "      <td>yes</td>\n",
              "      <td>northwest</td>\n",
              "      <td>29141.36030</td>\n",
              "    </tr>\n",
              "  </tbody>\n",
              "</table>\n",
              "<p>1338 rows × 7 columns</p>\n",
              "</div>\n",
              "    <div class=\"colab-df-buttons\">\n",
              "\n",
              "  <div class=\"colab-df-container\">\n",
              "    <button class=\"colab-df-convert\" onclick=\"convertToInteractive('df-3d52c475-ccf8-4223-98ec-a65925a34d24')\"\n",
              "            title=\"Convert this dataframe to an interactive table.\"\n",
              "            style=\"display:none;\">\n",
              "\n",
              "  <svg xmlns=\"http://www.w3.org/2000/svg\" height=\"24px\" viewBox=\"0 -960 960 960\">\n",
              "    <path d=\"M120-120v-720h720v720H120Zm60-500h600v-160H180v160Zm220 220h160v-160H400v160Zm0 220h160v-160H400v160ZM180-400h160v-160H180v160Zm440 0h160v-160H620v160ZM180-180h160v-160H180v160Zm440 0h160v-160H620v160Z\"/>\n",
              "  </svg>\n",
              "    </button>\n",
              "\n",
              "  <style>\n",
              "    .colab-df-container {\n",
              "      display:flex;\n",
              "      gap: 12px;\n",
              "    }\n",
              "\n",
              "    .colab-df-convert {\n",
              "      background-color: #E8F0FE;\n",
              "      border: none;\n",
              "      border-radius: 50%;\n",
              "      cursor: pointer;\n",
              "      display: none;\n",
              "      fill: #1967D2;\n",
              "      height: 32px;\n",
              "      padding: 0 0 0 0;\n",
              "      width: 32px;\n",
              "    }\n",
              "\n",
              "    .colab-df-convert:hover {\n",
              "      background-color: #E2EBFA;\n",
              "      box-shadow: 0px 1px 2px rgba(60, 64, 67, 0.3), 0px 1px 3px 1px rgba(60, 64, 67, 0.15);\n",
              "      fill: #174EA6;\n",
              "    }\n",
              "\n",
              "    .colab-df-buttons div {\n",
              "      margin-bottom: 4px;\n",
              "    }\n",
              "\n",
              "    [theme=dark] .colab-df-convert {\n",
              "      background-color: #3B4455;\n",
              "      fill: #D2E3FC;\n",
              "    }\n",
              "\n",
              "    [theme=dark] .colab-df-convert:hover {\n",
              "      background-color: #434B5C;\n",
              "      box-shadow: 0px 1px 3px 1px rgba(0, 0, 0, 0.15);\n",
              "      filter: drop-shadow(0px 1px 2px rgba(0, 0, 0, 0.3));\n",
              "      fill: #FFFFFF;\n",
              "    }\n",
              "  </style>\n",
              "\n",
              "    <script>\n",
              "      const buttonEl =\n",
              "        document.querySelector('#df-3d52c475-ccf8-4223-98ec-a65925a34d24 button.colab-df-convert');\n",
              "      buttonEl.style.display =\n",
              "        google.colab.kernel.accessAllowed ? 'block' : 'none';\n",
              "\n",
              "      async function convertToInteractive(key) {\n",
              "        const element = document.querySelector('#df-3d52c475-ccf8-4223-98ec-a65925a34d24');\n",
              "        const dataTable =\n",
              "          await google.colab.kernel.invokeFunction('convertToInteractive',\n",
              "                                                    [key], {});\n",
              "        if (!dataTable) return;\n",
              "\n",
              "        const docLinkHtml = 'Like what you see? Visit the ' +\n",
              "          '<a target=\"_blank\" href=https://colab.research.google.com/notebooks/data_table.ipynb>data table notebook</a>'\n",
              "          + ' to learn more about interactive tables.';\n",
              "        element.innerHTML = '';\n",
              "        dataTable['output_type'] = 'display_data';\n",
              "        await google.colab.output.renderOutput(dataTable, element);\n",
              "        const docLink = document.createElement('div');\n",
              "        docLink.innerHTML = docLinkHtml;\n",
              "        element.appendChild(docLink);\n",
              "      }\n",
              "    </script>\n",
              "  </div>\n",
              "\n",
              "\n",
              "<div id=\"df-ac577489-30e0-4321-b702-bc2332a3d4f2\">\n",
              "  <button class=\"colab-df-quickchart\" onclick=\"quickchart('df-ac577489-30e0-4321-b702-bc2332a3d4f2')\"\n",
              "            title=\"Suggest charts.\"\n",
              "            style=\"display:none;\">\n",
              "\n",
              "<svg xmlns=\"http://www.w3.org/2000/svg\" height=\"24px\"viewBox=\"0 0 24 24\"\n",
              "     width=\"24px\">\n",
              "    <g>\n",
              "        <path d=\"M19 3H5c-1.1 0-2 .9-2 2v14c0 1.1.9 2 2 2h14c1.1 0 2-.9 2-2V5c0-1.1-.9-2-2-2zM9 17H7v-7h2v7zm4 0h-2V7h2v10zm4 0h-2v-4h2v4z\"/>\n",
              "    </g>\n",
              "</svg>\n",
              "  </button>\n",
              "\n",
              "<style>\n",
              "  .colab-df-quickchart {\n",
              "      --bg-color: #E8F0FE;\n",
              "      --fill-color: #1967D2;\n",
              "      --hover-bg-color: #E2EBFA;\n",
              "      --hover-fill-color: #174EA6;\n",
              "      --disabled-fill-color: #AAA;\n",
              "      --disabled-bg-color: #DDD;\n",
              "  }\n",
              "\n",
              "  [theme=dark] .colab-df-quickchart {\n",
              "      --bg-color: #3B4455;\n",
              "      --fill-color: #D2E3FC;\n",
              "      --hover-bg-color: #434B5C;\n",
              "      --hover-fill-color: #FFFFFF;\n",
              "      --disabled-bg-color: #3B4455;\n",
              "      --disabled-fill-color: #666;\n",
              "  }\n",
              "\n",
              "  .colab-df-quickchart {\n",
              "    background-color: var(--bg-color);\n",
              "    border: none;\n",
              "    border-radius: 50%;\n",
              "    cursor: pointer;\n",
              "    display: none;\n",
              "    fill: var(--fill-color);\n",
              "    height: 32px;\n",
              "    padding: 0;\n",
              "    width: 32px;\n",
              "  }\n",
              "\n",
              "  .colab-df-quickchart:hover {\n",
              "    background-color: var(--hover-bg-color);\n",
              "    box-shadow: 0 1px 2px rgba(60, 64, 67, 0.3), 0 1px 3px 1px rgba(60, 64, 67, 0.15);\n",
              "    fill: var(--button-hover-fill-color);\n",
              "  }\n",
              "\n",
              "  .colab-df-quickchart-complete:disabled,\n",
              "  .colab-df-quickchart-complete:disabled:hover {\n",
              "    background-color: var(--disabled-bg-color);\n",
              "    fill: var(--disabled-fill-color);\n",
              "    box-shadow: none;\n",
              "  }\n",
              "\n",
              "  .colab-df-spinner {\n",
              "    border: 2px solid var(--fill-color);\n",
              "    border-color: transparent;\n",
              "    border-bottom-color: var(--fill-color);\n",
              "    animation:\n",
              "      spin 1s steps(1) infinite;\n",
              "  }\n",
              "\n",
              "  @keyframes spin {\n",
              "    0% {\n",
              "      border-color: transparent;\n",
              "      border-bottom-color: var(--fill-color);\n",
              "      border-left-color: var(--fill-color);\n",
              "    }\n",
              "    20% {\n",
              "      border-color: transparent;\n",
              "      border-left-color: var(--fill-color);\n",
              "      border-top-color: var(--fill-color);\n",
              "    }\n",
              "    30% {\n",
              "      border-color: transparent;\n",
              "      border-left-color: var(--fill-color);\n",
              "      border-top-color: var(--fill-color);\n",
              "      border-right-color: var(--fill-color);\n",
              "    }\n",
              "    40% {\n",
              "      border-color: transparent;\n",
              "      border-right-color: var(--fill-color);\n",
              "      border-top-color: var(--fill-color);\n",
              "    }\n",
              "    60% {\n",
              "      border-color: transparent;\n",
              "      border-right-color: var(--fill-color);\n",
              "    }\n",
              "    80% {\n",
              "      border-color: transparent;\n",
              "      border-right-color: var(--fill-color);\n",
              "      border-bottom-color: var(--fill-color);\n",
              "    }\n",
              "    90% {\n",
              "      border-color: transparent;\n",
              "      border-bottom-color: var(--fill-color);\n",
              "    }\n",
              "  }\n",
              "</style>\n",
              "\n",
              "  <script>\n",
              "    async function quickchart(key) {\n",
              "      const quickchartButtonEl =\n",
              "        document.querySelector('#' + key + ' button');\n",
              "      quickchartButtonEl.disabled = true;  // To prevent multiple clicks.\n",
              "      quickchartButtonEl.classList.add('colab-df-spinner');\n",
              "      try {\n",
              "        const charts = await google.colab.kernel.invokeFunction(\n",
              "            'suggestCharts', [key], {});\n",
              "      } catch (error) {\n",
              "        console.error('Error during call to suggestCharts:', error);\n",
              "      }\n",
              "      quickchartButtonEl.classList.remove('colab-df-spinner');\n",
              "      quickchartButtonEl.classList.add('colab-df-quickchart-complete');\n",
              "    }\n",
              "    (() => {\n",
              "      let quickchartButtonEl =\n",
              "        document.querySelector('#df-ac577489-30e0-4321-b702-bc2332a3d4f2 button');\n",
              "      quickchartButtonEl.style.display =\n",
              "        google.colab.kernel.accessAllowed ? 'block' : 'none';\n",
              "    })();\n",
              "  </script>\n",
              "</div>\n",
              "    </div>\n",
              "  </div>\n"
            ]
          },
          "metadata": {},
          "execution_count": 155
        }
      ]
    },
    {
      "cell_type": "code",
      "source": [
        "# scikit learn is helpful for data preparation\n",
        "from sklearn.compose import make_column_transformer\n",
        "from sklearn.preprocessing import MinMaxScaler, OneHotEncoder\n",
        "from sklearn.model_selection import train_test_split\n",
        "\n",
        "ct = make_column_transformer(\n",
        "    (MinMaxScaler(), [\"age\", \"bmi\", \"children\"]), #turn these columns into 0-1 - need to know this from our data\n",
        "    (OneHotEncoder(handle_unknown=\"ignore\"), [\"sex\", \"smoker\", \"region\"]) #onehot encode these columns\n",
        ")\n",
        "\n",
        "# create X and y\n",
        "X = insurance.drop(\"charges\", axis=1)\n",
        "y = insurance[\"charges\"]\n",
        "\n",
        "# build out train and test\n",
        "X_train, X_test, y_train, y_test = train_test_split(X, y, test_size=.2, random_state=42)\n",
        "\n",
        "# fit the column transformer to training data AFTER separating training and test data\n",
        "ct.fit(X_train)\n",
        "\n",
        "#Transform our training and test data with the normalization\n",
        "X_train_normal = ct.transform(X_train)\n",
        "X_test_normal = ct.transform(X_test)\n",
        "\n",
        "\n",
        "# waht does that look like?\n",
        "X_train_normal"
      ],
      "metadata": {
        "colab": {
          "base_uri": "https://localhost:8080/"
        },
        "id": "sVFUztNlBbZD",
        "outputId": "b2271d7f-1a7b-4499-e5ca-dc71354ec703"
      },
      "execution_count": null,
      "outputs": [
        {
          "output_type": "execute_result",
          "data": {
            "text/plain": [
              "array([[0.60869565, 0.10734463, 0.4       , ..., 1.        , 0.        ,\n",
              "        0.        ],\n",
              "       [0.63043478, 0.22491256, 0.        , ..., 0.        , 0.        ,\n",
              "        0.        ],\n",
              "       [0.73913043, 0.23944041, 0.        , ..., 0.        , 1.        ,\n",
              "        0.        ],\n",
              "       ...,\n",
              "       [0.86956522, 0.24791499, 0.        , ..., 0.        , 0.        ,\n",
              "        0.        ],\n",
              "       [0.41304348, 0.85122411, 0.4       , ..., 0.        , 0.        ,\n",
              "        1.        ],\n",
              "       [0.80434783, 0.37503363, 0.        , ..., 0.        , 0.        ,\n",
              "        1.        ]])"
            ]
          },
          "metadata": {},
          "execution_count": 163
        }
      ]
    },
    {
      "cell_type": "code",
      "source": [
        "#how have our shapes changed?\n",
        "X_train.shape, X_train_normal.shape"
      ],
      "metadata": {
        "colab": {
          "base_uri": "https://localhost:8080/"
        },
        "id": "9jTqz4aoDU6x",
        "outputId": "f0b260bb-8d6f-4282-bd6f-6655ca817366"
      },
      "execution_count": null,
      "outputs": [
        {
          "output_type": "execute_result",
          "data": {
            "text/plain": [
              "((1070, 6), (1070, 11))"
            ]
          },
          "metadata": {},
          "execution_count": 164
        }
      ]
    },
    {
      "cell_type": "markdown",
      "source": [
        "... let's get to neuraling out network!"
      ],
      "metadata": {
        "id": "iEnZ-WgMEL2a"
      }
    },
    {
      "cell_type": "code",
      "source": [
        "tf.random.set_seed(42)\n",
        "better_model = tf.keras.Sequential()\n",
        "better_model.add(tf.keras.layers.Dense(20))\n",
        "better_model.add(tf.keras.layers.Dense(20))\n",
        "better_model.add(tf.keras.layers.Dense(1))\n",
        "\n",
        "better_model.compile(\n",
        "    loss=tf.keras.losses.mae,\n",
        "    optimizer=tf.keras.optimizers.Adam(),\n",
        "    metrics=[\"mae\"]\n",
        ")\n",
        "\n",
        "better_model_history = better_model.fit(X_train_normal, y_train, epochs=1000, verbose=0)\n",
        "\n",
        "better_model.evaluate(X_test_normal, y_test)\n",
        "pd.DataFrame(better_model_history.history).plot()"
      ],
      "metadata": {
        "colab": {
          "base_uri": "https://localhost:8080/",
          "height": 465
        },
        "id": "ZoglWr2TEI59",
        "outputId": "4f38dc58-ee54-4ede-b24b-e8517438f902"
      },
      "execution_count": null,
      "outputs": [
        {
          "output_type": "stream",
          "name": "stdout",
          "text": [
            "9/9 [==============================] - 0s 3ms/step - loss: 3160.3386 - mae: 3160.3386\n"
          ]
        },
        {
          "output_type": "execute_result",
          "data": {
            "text/plain": [
              "<Axes: >"
            ]
          },
          "metadata": {},
          "execution_count": 174
        },
        {
          "output_type": "display_data",
          "data": {
            "text/plain": [
              "<Figure size 640x480 with 1 Axes>"
            ],
            "image/png": "[encoded data removed]"
          },
          "metadata": {}
        }
      ]
    },
    {
      "cell_type": "code",
      "source": [
        "# how can we get it to stop when we hit that flatline?\n",
        "callback = tf.keras.callbacks.EarlyStopping(monitor=\"loss\", patience=3)\n",
        "\n",
        "# same code above as below\n",
        "\n",
        "tf.random.set_seed(42)\n",
        "better_model = tf.keras.Sequential()\n",
        "better_model.add(tf.keras.layers.Dense(20))\n",
        "better_model.add(tf.keras.layers.Dense(20))\n",
        "better_model.add(tf.keras.layers.Dense(1))\n",
        "\n",
        "better_model.compile(\n",
        "    loss=tf.keras.losses.mae,\n",
        "    optimizer=tf.keras.optimizers.Adam(),\n",
        "    metrics=[\"mae\"]\n",
        ")\n",
        "\n",
        "better_model_history = better_model.fit(X_train_normal, y_train, epochs=1000, verbose=0, callbacks=[callback])\n",
        "\n",
        "better_model.evaluate(X_test_normal, y_test)\n",
        "pd.DataFrame(better_model_history.history).plot()"
      ],
      "metadata": {
        "colab": {
          "base_uri": "https://localhost:8080/",
          "height": 465
        },
        "id": "RLW8o2pjFHxh",
        "outputId": "978856b5-9467-4eba-ccca-28efc87bc47c"
      },
      "execution_count": null,
      "outputs": [
        {
          "output_type": "stream",
          "name": "stdout",
          "text": [
            "9/9 [==============================] - 0s 3ms/step - loss: 3161.1724 - mae: 3161.1724\n"
          ]
        },
        {
          "output_type": "execute_result",
          "data": {
            "text/plain": [
              "<Axes: >"
            ]
          },
          "metadata": {},
          "execution_count": 177
        },
        {
          "output_type": "display_data",
          "data": {
            "text/plain": [
              "<Figure size 640x480 with 1 Axes>"
            ],
            "image/png": "[encoded data removed]"
          },
          "metadata": {}
        }
      ]
    },
    {
      "cell_type": "code",
      "source": [],
      "metadata": {
        "id": "V_E9_1YMGuhR"
      },
      "execution_count": null,
      "outputs": []
    }
  ]
}