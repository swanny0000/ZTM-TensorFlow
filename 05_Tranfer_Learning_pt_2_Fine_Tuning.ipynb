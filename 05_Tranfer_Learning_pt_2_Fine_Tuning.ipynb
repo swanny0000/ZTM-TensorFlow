{
  "nbformat": 4,
  "nbformat_minor": 0,
  "metadata": {
    "colab": {
      "provenance": [],
      "authorship_tag": "ABX9TyNqm63nRM9gMW5E/uYkc4Om",
      "include_colab_link": true
    },
    "kernelspec": {
      "name": "python3",
      "display_name": "Python 3"
    },
    "language_info": {
      "name": "python"
    }
  },
  "cells": [
    {
      "cell_type": "markdown",
      "metadata": {
        "id": "view-in-github",
        "colab_type": "text"
      },
      "source": [
        "<a href=\"https://colab.research.google.com/github/swanny0000/ZTM-TensorFlow/blob/master/05_Tranfer_Learning_pt_2_Fine_Tuning.ipynb\" target=\"_parent\"><img src=\"https://colab.research.google.com/assets/colab-badge.svg\" alt=\"Open In Colab\"/></a>"
      ]
    },
    {
      "cell_type": "markdown",
      "source": [
        "Surely someone has worked on a model that's similar to our problem already...\n",
        "# Fine Tuning\n",
        "Transfer learning can:\n",
        "* leverage an existing architecture that's **proven to work** on problems similar to our own\n",
        "* leverage an architecture that's already learned patterns on similar data to our own (with better result from less training data)\n",
        "\n",
        "Feature extraction is a custom final layer capped at the end of an unmodified model that helps classify what we're looking for.\n",
        "\n",
        "Fine tuning *doesn't freeze* the model's parameters during training.\n",
        "\n",
        "**NOTE** Fine tuning often requires more data that feature extraction."
      ],
      "metadata": {
        "id": "nWIOJj63uDsu"
      }
    },
    {
      "cell_type": "code",
      "execution_count": null,
      "metadata": {
        "id": "j3k1QocKt4IS"
      },
      "outputs": [],
      "source": [
        "# https://www.udemy.com/course/tensorflow-developer-certificate-machine-learning-zero-to-mastery/learn/lecture/25106656#overview"
      ]
    }
  ]
}